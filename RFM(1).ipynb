{
 "cells": [
  {
   "cell_type": "code",
   "execution_count": 6,
   "id": "2d020cc4-8a0e-4dc3-9ec5-9caecc596977",
   "metadata": {},
   "outputs": [
    {
     "name": "stdout",
     "output_type": "stream",
     "text": [
      "Defaulting to user installation because normal site-packages is not writeable\n",
      "Requirement already satisfied: findspark in /home/hadoop/.local/lib/python3.10/site-packages (2.0.1)\n"
     ]
    }
   ],
   "source": [
    "!pip install findspark\n"
   ]
  },
  {
   "cell_type": "code",
   "execution_count": 7,
   "id": "adef1bc1-8052-4f1a-a15b-7eadf739fcc3",
   "metadata": {},
   "outputs": [],
   "source": [
    "import findspark\n",
    "findspark.init()\n"
   ]
  },
  {
   "cell_type": "code",
   "execution_count": 8,
   "id": "367283a5-a19d-44f8-b5a9-2bb8abe22c55",
   "metadata": {},
   "outputs": [
    {
     "name": "stderr",
     "output_type": "stream",
     "text": [
      "24/02/18 23:06:51 WARN SparkSession: Using an existing Spark session; only runtime SQL configurations will take effect.\n"
     ]
    }
   ],
   "source": [
    "from pyspark.sql import SparkSession\n",
    "\n",
    "spark = SparkSession.builder.appName(\"MySparkApp\").getOrCreate()\n"
   ]
  },
  {
   "cell_type": "code",
   "execution_count": 9,
   "id": "23d79bc0-a4be-4ed8-a52e-30ed36c051c3",
   "metadata": {},
   "outputs": [
    {
     "name": "stderr",
     "output_type": "stream",
     "text": [
      "                                                                                \r"
     ]
    }
   ],
   "source": [
    "data_path = \"nonull.csv\"\n",
    "df= spark.read.csv(data_path, header=True, inferSchema=True)\n",
    "\n"
   ]
  },
  {
   "cell_type": "code",
   "execution_count": 5,
   "id": "f9a768d8-9380-4f17-8caf-23a0e6865a69",
   "metadata": {},
   "outputs": [
    {
     "name": "stdout",
     "output_type": "stream",
     "text": [
      "+-------------------+-------------------+-------------------+-------------------+-------+------+-----------+-----------+---------------+-------------------+\n",
      "|         event_time|           order_id|         product_id|        category_id|  brand| price|      cat_1|      cat_2|          cat_3|            user_id|\n",
      "+-------------------+-------------------+-------------------+-------------------+-------+------+-----------+-----------+---------------+-------------------+\n",
      "|2020-04-29 20:11:49|2298069964415828136|1515966223509122874|2268105407933187062|     hp|152.52|  computers|peripherals|        printer|1515915625509647001|\n",
      "|2020-04-29 23:42:11|2298175846491357353|1515966223509122666|2268105430162997728|samsung|  8.08|electronics|      audio|      headphone|1515915625511889093|\n",
      "|2020-04-30 18:01:51|2298729326712980173|1515966223509089265|2360741866917331945|   beko|231.46| appliances|environment|air_conditioner|1515915625510823948|\n",
      "|2020-04-30 19:27:36|2298772487720140990|1515966223509335414|2268105430162997728|  razer|104.14|electronics|      audio|      headphone|1515915625512018088|\n",
      "|2020-04-30 21:37:48|2298838016631767159|1515966223509255514|2268105430162997728|philips| 32.38|electronics|      audio|      headphone|1515915625499309469|\n",
      "|2020-05-01 12:54:33|2299299428894245316|1515966223509089826|2268105406549066706|  delux|   6.0|  computers|peripherals|          mouse|1515915625514536341|\n",
      "|2020-05-01 22:40:42|2299594452823442104|1515966223509122666|2268105430162997728|samsung|  8.08|electronics|      audio|      headphone|1515915625484635108|\n",
      "|2020-05-02 23:25:58|2300342008322982139|2273948248047616169|2268105406549066706|  delux|  5.07|  computers|peripherals|          mouse|1515915625484676605|\n",
      "|2020-05-04 07:07:11|2301298926818427157|1515966223509351741|2268105419375247608|  varta|  0.69| stationery|    battery|  miscellaneous|1515915625512202402|\n",
      "|2020-05-06 08:37:23|2302793875086902264|1515966223509090254|2268105421933773102|  trust| 19.65|electronics|      audio|     microphone|1515915625484676302|\n",
      "|2020-05-06 11:40:59|2302886286089781416|1515966223509089722|2268105441856717530|    ava|  9.24| appliances|    kitchen|         kettle|1515915625512660612|\n",
      "|2020-05-06 18:58:35|2303106530796372754|2273948216456118473|2268105440917193414|polaris| 30.07| appliances|    kitchen|          mixer|1515915625492249288|\n",
      "|2020-05-07 17:06:03|2303774668819006287|1515966223509104779|2268105428166508982| huawei|277.75|electronics| smartphone|  miscellaneous|1515915625475938346|\n",
      "|2020-05-07 17:42:39|2303793094941737810|1515966223509104342|2268105430162997728| xiaomi| 25.44|electronics|      audio|      headphone|1515915625510239770|\n",
      "|2020-05-08 00:34:21|2304000304833627082|1515966223509117177|2268105464766005446|ninebot|608.77|       kids|     skates|  miscellaneous|1515915625511698424|\n",
      "|2020-05-09 06:14:01|2304896044028134084|1515966223509089293|2360741867017995243|   beko|266.18| appliances|environment|air_conditioner|1515915625448095694|\n",
      "|2020-05-10 14:59:23|2305885242767966747|2273948308370096764|2268105409048870926|  altel| 57.85|  computers|    network|         router|1515915625513605277|\n",
      "|2020-05-10 19:13:40|2306013232357180361|1515966223509088510|2268105428166508982| huawei|127.29|electronics| smartphone|  miscellaneous|1515915625511195241|\n",
      "|2020-05-11 08:18:33|2306408274540364573|1515966223509259282|2268105389956399770|indesit|198.13| appliances|    kitchen|         washer|1515915625512118829|\n",
      "|2020-05-11 10:41:08|2306480038981140584|1515966223509088613|2268105430162997728|  apple|203.68|electronics|      audio|      headphone|1515915625514504268|\n",
      "+-------------------+-------------------+-------------------+-------------------+-------+------+-----------+-----------+---------------+-------------------+\n",
      "only showing top 20 rows\n",
      "\n"
     ]
    }
   ],
   "source": [
    "df.show()"
   ]
  },
  {
   "cell_type": "code",
   "execution_count": 6,
   "id": "e69eea48-27b5-4795-a4bc-69a8195285f5",
   "metadata": {},
   "outputs": [],
   "source": [
    "# from pyspark.sql.functions import col, to_date\n",
    "\n",
    "# # Create new column Date from event_time column\n",
    "# df_date = df.withColumn(\"Date\", to_date(col(\"event_time\")))\n",
    "\n",
    "# df_date.show()\n",
    "\n",
    "\n"
   ]
  },
  {
   "cell_type": "code",
   "execution_count": 7,
   "id": "2f680541-8f96-46b2-b42c-ea6ac4b451b7",
   "metadata": {},
   "outputs": [
    {
     "name": "stderr",
     "output_type": "stream",
     "text": [
      "                                                                                \r"
     ]
    }
   ],
   "source": [
    "# output_path = \"WithDate\"\n",
    "# df_date.coalesce(1).write.csv(output_path, header=True)\n"
   ]
  },
  {
   "cell_type": "code",
   "execution_count": null,
   "id": "81d5fdb5-26c9-47f2-9795-145ca0533881",
   "metadata": {},
   "outputs": [],
   "source": []
  },
  {
   "cell_type": "code",
   "execution_count": 10,
   "id": "328cc295-c892-4ab1-af4e-3fa85d7d40fd",
   "metadata": {},
   "outputs": [
    {
     "name": "stderr",
     "output_type": "stream",
     "text": [
      "24/02/18 23:08:47 WARN SparkSession: Using an existing Spark session; only runtime SQL configurations will take effect.\n",
      "[Stage 11:>                                                         (0 + 8) / 8]\r"
     ]
    },
    {
     "name": "stdout",
     "output_type": "stream",
     "text": [
      "+-------------------+-------------------+-------+---------+------------------+\n",
      "|            user_id|    last_order_time|recency|frequency|          monetary|\n",
      "+-------------------+-------------------+-------+---------+------------------+\n",
      "|1515915625440051468|2020-10-10 16:27:29|     42|       19|           1619.51|\n",
      "|1515915625440121544|2020-10-04 12:18:21|     48|        7|            878.32|\n",
      "|1515915625440937295|2020-11-19 15:36:46|      2|       18|1493.3400000000001|\n",
      "|1515915625440937382|2020-10-25 17:36:25|     27|       10| 757.6599999999999|\n",
      "|1515915625440937580|2020-10-10 10:52:42|     42|        8|            275.05|\n",
      "|1515915625440940742|2020-09-16 13:59:35|     66|        2|59.910000000000004|\n",
      "|1515915625440940932|2020-09-01 13:45:29|     81|        6|1854.2500000000002|\n",
      "|1515915625440941441|2020-01-16 12:06:23|    310|        1|             80.76|\n",
      "|1515915625440943934|2020-10-11 17:17:47|     41|       24| 5877.459999999999|\n",
      "|1515915625440945265|2020-11-18 19:45:39|      3|       19| 5456.570000000001|\n",
      "|1515915625440946733|2020-10-19 12:37:07|     33|       26|           2698.23|\n",
      "|1515915625440947224|2020-09-23 16:35:40|     59|        7|198.67999999999998|\n",
      "|1515915625440947741|2020-11-14 13:57:16|      7|       50|          10036.37|\n",
      "|1515915625440949051|2020-11-07 19:45:06|     14|       30|2144.8500000000004|\n",
      "|1515915625440949578|2020-11-01 14:55:49|     20|        3|114.52000000000001|\n",
      "|1515915625440951258|2020-09-23 19:30:54|     59|       16|           3249.18|\n",
      "|1515915625440951523|2020-10-10 10:41:59|     42|       19|            587.28|\n",
      "|1515915625440952019|2020-11-04 15:59:17|     17|       12|3929.8599999999997|\n",
      "|1515915625440952419|2020-09-07 18:56:31|     75|        6|248.79999999999995|\n",
      "|1515915625440954254|2020-08-17 23:46:54|     96|       10|            2646.3|\n",
      "+-------------------+-------------------+-------+---------+------------------+\n",
      "only showing top 20 rows\n",
      "\n"
     ]
    },
    {
     "name": "stderr",
     "output_type": "stream",
     "text": [
      "                                                                                \r"
     ]
    }
   ],
   "source": [
    "from pyspark.sql.functions import col, max as max_, countDistinct, sum as sum_, datediff, lit\n",
    "\n",
    "# Initialize SparkSession\n",
    "spark = SparkSession.builder \\\n",
    "    .appName(\"RFM_Scores_Calculation\") \\\n",
    "    .getOrCreate()\n",
    "\n",
    "\n",
    "# Step 1: Calculate recency, frequency, and monetary values\n",
    "\n",
    "# Calculate recency (number of days since the last order)\n",
    "max_order_date = df.groupBy(\"user_id\").agg(max_(\"event_time\").alias(\"last_order_time\"))\n",
    "current_time = df.select(max_(\"event_time\")).head()[0]\n",
    "df_recency = max_order_date.withColumn(\"recency\", datediff(lit(current_time), col(\"last_order_time\")))\n",
    "\n",
    "# Calculate frequency (number of orders per user)\n",
    "df_frequency = df.groupBy(\"user_id\").agg(countDistinct(\"order_id\").alias(\"frequency\"))\n",
    "\n",
    "# Calculate monetary value (total spending per user)\n",
    "df_monetary = df.groupBy(\"user_id\").agg(sum_(\"price\").alias(\"monetary\"))\n",
    "\n",
    "# Step 2: Define the time frame for recency calculation (e.g., 90 days)\n",
    "\n",
    "# Step 3: Aggregate the data to calculate RFM scores\n",
    "rfm_data = df_recency.join(df_frequency, \"user_id\").join(df_monetary, \"user_id\")\n",
    "\n",
    "# Show the RFM data\n",
    "rfm_data.show()\n",
    "\n",
    "\n"
   ]
  },
  {
   "cell_type": "code",
   "execution_count": 11,
   "id": "9b29289c-9390-44c4-b445-328702311a0a",
   "metadata": {},
   "outputs": [
    {
     "name": "stderr",
     "output_type": "stream",
     "text": [
      "                                                                                \r"
     ]
    },
    {
     "data": {
      "text/plain": [
       "218524"
      ]
     },
     "execution_count": 11,
     "metadata": {},
     "output_type": "execute_result"
    }
   ],
   "source": [
    "rfm_data.count()"
   ]
  },
  {
   "cell_type": "code",
   "execution_count": null,
   "id": "8fba45ff-d21a-475a-92da-75faae46be5a",
   "metadata": {},
   "outputs": [],
   "source": []
  },
  {
   "cell_type": "code",
   "execution_count": 12,
   "id": "2d6d1d88-1857-48f7-b00f-1ab95f7887cd",
   "metadata": {},
   "outputs": [
    {
     "name": "stderr",
     "output_type": "stream",
     "text": [
      "24/02/18 23:15:38 WARN SparkSession: Using an existing Spark session; only runtime SQL configurations will take effect.\n",
      "                                                                                \r"
     ]
    },
    {
     "name": "stdout",
     "output_type": "stream",
     "text": [
      "+-------------------+--------------------+--------------------+\n",
      "|            user_id|            features|     scaled_features|\n",
      "+-------------------+--------------------+--------------------+\n",
      "|1515915625440051468| [42.0,19.0,1619.51]|[0.13084112149532...|\n",
      "|1515915625440121544|   [48.0,7.0,878.32]|[0.14953271028037...|\n",
      "|1515915625440937295|[2.0,18.0,1493.34...|[0.00623052959501...|\n",
      "|1515915625440937382|[27.0,10.0,757.65...|[0.08411214953271...|\n",
      "|1515915625440937580|   [42.0,8.0,275.05]|[0.13084112149532...|\n",
      "|1515915625440940742|[66.0,2.0,59.9100...|[0.20560747663551...|\n",
      "|1515915625440940932|[81.0,6.0,1854.25...|[0.25233644859813...|\n",
      "|1515915625440941441|   [310.0,1.0,80.76]|[0.96573208722741...|\n",
      "|1515915625440943934|[41.0,24.0,5877.4...|[0.12772585669781...|\n",
      "|1515915625440945265|[3.0,19.0,5456.57...|[0.00934579439252...|\n",
      "|1515915625440946733| [33.0,26.0,2698.23]|[0.10280373831775...|\n",
      "|1515915625440947224|[59.0,7.0,198.679...|[0.18380062305295...|\n",
      "|1515915625440947741| [7.0,50.0,10036.37]|[0.02180685358255...|\n",
      "|1515915625440949051|[14.0,30.0,2144.8...|[0.04361370716510...|\n",
      "|1515915625440949578|[20.0,3.0,114.520...|[0.06230529595015...|\n",
      "|1515915625440951258| [59.0,16.0,3249.18]|[0.18380062305295...|\n",
      "|1515915625440951523|  [42.0,19.0,587.28]|[0.13084112149532...|\n",
      "|1515915625440952019|[17.0,12.0,3929.8...|[0.05295950155763...|\n",
      "|1515915625440952419|[75.0,6.0,248.799...|[0.23364485981308...|\n",
      "|1515915625440954254|  [96.0,10.0,2646.3]|[0.29906542056074...|\n",
      "+-------------------+--------------------+--------------------+\n",
      "only showing top 20 rows\n",
      "\n"
     ]
    }
   ],
   "source": [
    "from pyspark.ml.feature import MinMaxScaler\n",
    "from pyspark.ml.linalg import Vectors\n",
    "from pyspark.sql import SparkSession\n",
    "\n",
    "# Initialize SparkSession\n",
    "spark = SparkSession.builder \\\n",
    "    .appName(\"RFM_Normalization\") \\\n",
    "    .getOrCreate()\n",
    "\n",
    "# Convert the RFM scores to a dense vector\n",
    "rfm_vector = rfm_data.rdd.map(lambda x: (x[\"user_id\"], Vectors.dense([x[\"recency\"], x[\"frequency\"], x[\"monetary\"]]))).toDF([\"user_id\", \"features\"])\n",
    "\n",
    "# Initialize the MinMaxScaler\n",
    "scaler = MinMaxScaler(inputCol=\"features\", outputCol=\"scaled_features\")\n",
    "\n",
    "# Fit and transform the data\n",
    "scaler_model = scaler.fit(rfm_vector)\n",
    "normalized_rfm = scaler_model.transform(rfm_vector)\n",
    "\n",
    "# Show the normalized RFM data\n",
    "normalized_rfm.show()\n",
    "\n"
   ]
  },
  {
   "cell_type": "code",
   "execution_count": null,
   "id": "17ba4d99-4a7b-4f3f-8bf8-0e6a7590656b",
   "metadata": {},
   "outputs": [],
   "source": []
  },
  {
   "cell_type": "code",
   "execution_count": null,
   "id": "fafbb8da-049d-49fb-930d-7ac4fe2573e6",
   "metadata": {},
   "outputs": [
    {
     "name": "stderr",
     "output_type": "stream",
     "text": [
      "                                                                                \r"
     ]
    }
   ],
   "source": [
    "import matplotlib.pyplot as plt\n",
    "\n",
    "# Collect scaled features to the driver node\n",
    "scaled_features = normalized_rfm.select(\"scaled_features\").rdd.map(lambda x: x.scaled_features.toArray()).collect()\n",
    "\n",
    "# Plot the scaled features\n",
    "plt.figure(figsize=(8, 6))\n",
    "for feature in scaled_features:\n",
    "    plt.plot(feature)\n",
    "plt.title(\"Scaled Features\")\n",
    "plt.xlabel(\"Feature Index\")\n",
    "plt.ylabel(\"Feature Value\")\n",
    "plt.grid(True)\n",
    "plt.show()\n"
   ]
  },
  {
   "cell_type": "code",
   "execution_count": null,
   "id": "38f3f8ef-d0ea-4cb0-ba28-41386abbf416",
   "metadata": {},
   "outputs": [],
   "source": []
  },
  {
   "cell_type": "code",
   "execution_count": null,
   "id": "43ca8726-0398-40d3-a912-96920054816f",
   "metadata": {},
   "outputs": [],
   "source": []
  },
  {
   "cell_type": "code",
   "execution_count": null,
   "id": "49987929-ec7e-4240-863e-e8bb451055a4",
   "metadata": {},
   "outputs": [],
   "source": []
  },
  {
   "cell_type": "code",
   "execution_count": null,
   "id": "84b022af-9400-4df5-b0a6-d2d4b65ec132",
   "metadata": {},
   "outputs": [],
   "source": []
  },
  {
   "cell_type": "code",
   "execution_count": null,
   "id": "008be4d5-5f3a-4e2f-9f33-c9d1a0c2e515",
   "metadata": {},
   "outputs": [],
   "source": []
  },
  {
   "cell_type": "code",
   "execution_count": null,
   "id": "8cd5178d-26a7-412c-8027-81c909bb8dae",
   "metadata": {},
   "outputs": [],
   "source": []
  },
  {
   "cell_type": "code",
   "execution_count": null,
   "id": "a98a0ab8-5f28-4985-8192-6903e365c0a4",
   "metadata": {},
   "outputs": [],
   "source": []
  },
  {
   "cell_type": "code",
   "execution_count": 6,
   "id": "8a31718f-5589-431a-81bb-cd7970c8dab4",
   "metadata": {},
   "outputs": [
    {
     "name": "stderr",
     "output_type": "stream",
     "text": [
      "/tmp/ipykernel_42775/2455338906.py:2: DeprecationWarning: \n",
      "Pyarrow will become a required dependency of pandas in the next major release of pandas (pandas 3.0),\n",
      "(to allow more performant data types, such as the Arrow string type, and better interoperability with other libraries)\n",
      "but was not found to be installed on your system.\n",
      "If this would cause problems for you,\n",
      "please provide us feedback at https://github.com/pandas-dev/pandas/issues/54466\n",
      "        \n",
      "  import pandas as pd\n",
      "                                                                                \r"
     ]
    },
    {
     "data": {
      "image/png": "[encoded data removed]",
      "text/plain": [
       "<Figure size 1000x600 with 1 Axes>"
      ]
     },
     "metadata": {},
     "output_type": "display_data"
    }
   ],
   "source": [
    "import matplotlib.pyplot as plt\n",
    "import pandas as pd\n",
    "\n",
    "# Convert the PySpark DataFrame to a Pandas DataFrame\n",
    "rfm_scores_pd = rfm_scores.toPandas()\n",
    "\n",
    "# Count the number of users in each segment\n",
    "segment_counts = rfm_scores_pd[\"segment\"].value_counts()\n",
    "\n",
    "# Plot the graph\n",
    "plt.figure(figsize=(10, 6))\n",
    "segment_counts.plot(kind=\"bar\", color=\"skyblue\")\n",
    "plt.title(\"Number of Users in Each Value Category\")\n",
    "plt.xlabel(\"Value Category\")\n",
    "plt.ylabel(\"Number of Users\")\n",
    "plt.xticks(rotation=45)\n",
    "plt.tight_layout()\n",
    "plt.show()\n"
   ]
  },
  {
   "cell_type": "code",
   "execution_count": null,
   "id": "ece4d05f-0bac-4e7e-90e9-2e5fc4e0e16e",
   "metadata": {},
   "outputs": [],
   "source": []
  },
  {
   "cell_type": "code",
   "execution_count": null,
   "id": "6425c2c6-bbaf-4602-a135-ddde3dfa1d99",
   "metadata": {},
   "outputs": [],
   "source": []
  },
  {
   "cell_type": "code",
   "execution_count": null,
   "id": "f2af3f54-ef07-431c-9670-5c68c9c308e2",
   "metadata": {},
   "outputs": [],
   "source": []
  },
  {
   "cell_type": "code",
   "execution_count": null,
   "id": "20bee5ee-48b0-408b-9650-487968a33be0",
   "metadata": {},
   "outputs": [],
   "source": []
  },
  {
   "cell_type": "code",
   "execution_count": null,
   "id": "a0925cad-7761-4092-8cab-7cad7a1afb94",
   "metadata": {},
   "outputs": [],
   "source": []
  },
  {
   "cell_type": "code",
   "execution_count": null,
   "id": "396ee490-670a-47bd-80a5-cc30a755e64f",
   "metadata": {},
   "outputs": [],
   "source": []
  },
  {
   "cell_type": "code",
   "execution_count": null,
   "id": "c95e8d3d-f147-4502-b678-f6f35ac0812b",
   "metadata": {},
   "outputs": [],
   "source": []
  },
  {
   "cell_type": "code",
   "execution_count": null,
   "id": "dc6f1458-d878-4b93-b391-c228a94fe3ab",
   "metadata": {},
   "outputs": [],
   "source": []
  },
  {
   "cell_type": "code",
   "execution_count": null,
   "id": "ad2594ba-174f-4672-ab28-e45e06a8567b",
   "metadata": {},
   "outputs": [],
   "source": []
  },
  {
   "cell_type": "code",
   "execution_count": 10,
   "id": "06764111-22a6-4286-b139-4574ea9558c9",
   "metadata": {},
   "outputs": [
    {
     "name": "stdout",
     "output_type": "stream",
     "text": [
      "+-------------------+---------+\n",
      "|         event_time|month_key|\n",
      "+-------------------+---------+\n",
      "|2020-04-29 20:11:49|        4|\n",
      "|2020-04-29 23:42:11|        4|\n",
      "|2020-04-30 18:01:51|        4|\n",
      "|2020-04-30 19:27:36|        4|\n",
      "|2020-04-30 21:37:48|        4|\n",
      "|2020-05-01 12:54:33|        5|\n",
      "|2020-05-01 22:40:42|        5|\n",
      "|2020-05-02 23:25:58|        5|\n",
      "|2020-05-04 07:07:11|        5|\n",
      "|2020-05-06 08:37:23|        5|\n",
      "|2020-05-06 11:40:59|        5|\n",
      "|2020-05-06 18:58:35|        5|\n",
      "|2020-05-07 17:06:03|        5|\n",
      "|2020-05-07 17:42:39|        5|\n",
      "|2020-05-08 00:34:21|        5|\n",
      "|2020-05-09 06:14:01|        5|\n",
      "|2020-05-10 14:59:23|        5|\n",
      "|2020-05-10 19:13:40|        5|\n",
      "|2020-05-11 08:18:33|        5|\n",
      "|2020-05-11 10:41:08|        5|\n",
      "+-------------------+---------+\n",
      "only showing top 20 rows\n",
      "\n"
     ]
    }
   ],
   "source": [
    "from pyspark.sql import SparkSession\n",
    "from pyspark.sql.functions import col, month\n",
    "\n",
    "\n",
    "# Extract month component from event_time column\n",
    "df_mon = df.withColumn(\"month_key\", month(col(\"event_time\")))\n",
    "\n",
    "# Show the DataFrame with new column month_key\n",
    "df_mon.select(\"event_time\", \"month_key\").show()\n",
    "\n"
   ]
  },
  {
   "cell_type": "code",
   "execution_count": 11,
   "id": "79778ed9-843c-49eb-bc38-54be95e9501a",
   "metadata": {},
   "outputs": [
    {
     "name": "stdout",
     "output_type": "stream",
     "text": [
      "+-------------------+-------------------+-------------------+-------------------+-------+------+-------------------+-----------+-----------+---------------+---------+\n",
      "|         event_time|           order_id|         product_id|        category_id|  brand| price|            user_id|      cat_1|      cat_2|          cat_3|month_key|\n",
      "+-------------------+-------------------+-------------------+-------------------+-------+------+-------------------+-----------+-----------+---------------+---------+\n",
      "|2020-04-29 20:11:49|2298069964415828136|1515966223509122874|2268105407933187062|     hp|152.52|1515915625443027224|  computers|peripherals|        printer|        4|\n",
      "|2020-04-29 23:42:11|2298175846491357353|1515966223509122666|2268105430162997728|samsung|  8.08|1515915625445938216|electronics|      audio|      headphone|        4|\n",
      "|2020-04-30 18:01:51|2298729326712980173|1515966223509089265|2360741866917331945|   beko|231.46|1515915625446617606| appliances|environment|air_conditioner|        4|\n",
      "|2020-04-30 19:27:36|2298772487720140990|1515966223509335414|2268105430162997728|  razer|104.14|1515915625452727322|electronics|      audio|      headphone|        4|\n",
      "|2020-04-30 21:37:48|2298838016631767159|1515966223509255514|2268105430162997728|philips| 32.38|1515915625452815830|electronics|      audio|      headphone|        4|\n",
      "|2020-05-01 12:54:33|2299299428894245316|1515966223509089826|2268105406549066706|  delux|   6.0|1515915625452840817|  computers|peripherals|          mouse|        5|\n",
      "|2020-05-01 22:40:42|2299594452823442104|1515966223509122666|2268105430162997728|samsung|  8.08|1515915625441990819|electronics|      audio|      headphone|        5|\n",
      "|2020-05-02 23:25:58|2300342008322982139|2273948248047616169|2268105406549066706|  delux|  5.07|1515915625444068089|  computers|peripherals|          mouse|        5|\n",
      "|2020-05-04 07:07:11|2301298926818427157|1515966223509351741|2268105419375247608|  varta|  0.69|1515915625452091416| stationery|    battery|          other|        5|\n",
      "|2020-05-06 08:37:23|2302793875086902264|1515966223509090254|2268105421933773102|  trust| 19.65|1515915625455538086|electronics|      audio|     microphone|        5|\n",
      "|2020-05-06 11:40:59|2302886286089781416|1515966223509089722|2268105441856717530|    ava|  9.24|1515915625455413662| appliances|    kitchen|         kettle|        5|\n",
      "|2020-05-06 18:58:35|2303106530796372754|2273948216456118473|2268105440917193414|polaris| 30.07|1515915625454919094| appliances|    kitchen|          mixer|        5|\n",
      "|2020-05-07 17:06:03|2303774668819006287|1515966223509104779|2268105428166508982| huawei|277.75|1515915625455260153|electronics| smartphone|          other|        5|\n",
      "|2020-05-07 17:42:39|2303793094941737810|1515966223509104342|2268105430162997728| xiaomi| 25.44|1515915625455337062|electronics|      audio|      headphone|        5|\n",
      "|2020-05-08 00:34:21|2304000304833627082|1515966223509117177|2268105464766005446|ninebot|608.77|1515915625454603469|       kids|     skates|          other|        5|\n",
      "|2020-05-09 06:14:01|2304896044028134084|1515966223509089293|2360741867017995243|   beko|266.18|1515915625457040117| appliances|environment|air_conditioner|        5|\n",
      "|2020-05-10 14:59:23|2305885242767966747|2273948308370096764|2268105409048870926|  altel| 57.85|1515915625497428278|  computers|    network|         router|        5|\n",
      "|2020-05-10 19:13:40|2306013232357180361|1515966223509088510|2268105428166508982| huawei|127.29|1515915625457683949|electronics| smartphone|          other|        5|\n",
      "|2020-05-11 08:18:33|2306408274540364573|1515966223509259282|2268105389956399770|indesit|198.13|1515915625457596219| appliances|    kitchen|         washer|        5|\n",
      "|2020-05-11 10:41:08|2306480038981140584|1515966223509088613|2268105430162997728|  apple|203.68|1515915625457954091|electronics|      audio|      headphone|        5|\n",
      "+-------------------+-------------------+-------------------+-------------------+-------+------+-------------------+-----------+-----------+---------------+---------+\n",
      "only showing top 20 rows\n",
      "\n"
     ]
    }
   ],
   "source": [
    "df_mon.show()"
   ]
  },
  {
   "cell_type": "markdown",
   "id": "c2e4e3b0-f8b3-423e-9ee5-b86e7e59ebe0",
   "metadata": {},
   "source": [
    "# Calculate Purchase(sum of price) by users per year-month"
   ]
  },
  {
   "cell_type": "code",
   "execution_count": 19,
   "id": "4e3f0776-fae2-4e24-b91d-8a0e4bf4ac98",
   "metadata": {},
   "outputs": [
    {
     "name": "stderr",
     "output_type": "stream",
     "text": [
      "[Stage 28:=======>                                                  (1 + 7) / 8]\r"
     ]
    },
    {
     "name": "stdout",
     "output_type": "stream",
     "text": [
      "+---------+------------------------+\n",
      "|month_key|Monthly purchase by user|\n",
      "+---------+------------------------+\n",
      "|        1|       1726269.314012686|\n",
      "|        2|        2212593.63003171|\n",
      "|        3|      2836594.8920063437|\n",
      "|        4|      1659148.3920063446|\n",
      "|        5|       7638151.942006315|\n",
      "|        6|       7479405.318025369|\n",
      "|        7|    1.6006443429999901E7|\n",
      "|        8|     2.730199569200609E7|\n",
      "|        9|    1.6757457076018898E7|\n",
      "|       10|     1.936188824805694E7|\n",
      "|       11|    1.1767545436018975E7|\n",
      "+---------+------------------------+\n",
      "\n"
     ]
    },
    {
     "name": "stderr",
     "output_type": "stream",
     "text": [
      "                                                                                \r"
     ]
    }
   ],
   "source": [
    "from pyspark.sql.functions import col, sum, to_date\n",
    "\n",
    "user_purchase_month = df_mon.withColumn(\"purchase_month\", to_date(col(\"event_time\")).substr(1, 7)).groupBy(\"month_key\").agg(sum(\"price\").alias(\"Monthly purchase by user\")).orderBy(\"month_key\")\n",
    "\n",
    "user_purchase_month.show()\n",
    "\n",
    "\n"
   ]
  },
  {
   "cell_type": "code",
   "execution_count": 14,
   "id": "ed7b30aa-348f-436b-901a-74e92e04edcd",
   "metadata": {},
   "outputs": [
    {
     "name": "stdout",
     "output_type": "stream",
     "text": [
      "Defaulting to user installation because normal site-packages is not writeable\n",
      "Collecting matplotlib\n",
      "  Downloading matplotlib-3.8.3-cp310-cp310-manylinux_2_17_x86_64.manylinux2014_x86_64.whl (11.6 MB)\n",
      "\u001b[2K     \u001b[38;2;114;156;31m━━━━━━━━━━━━━━━━━━━━━━━━━━━━━━━━━━━━━━━━\u001b[0m \u001b[32m11.6/11.6 MB\u001b[0m \u001b[31m2.0 MB/s\u001b[0m eta \u001b[36m0:00:00\u001b[0mm eta \u001b[36m0:00:01\u001b[0m[36m0:00:01\u001b[0m\n",
      "\u001b[?25hCollecting contourpy>=1.0.1\n",
      "  Downloading contourpy-1.2.0-cp310-cp310-manylinux_2_17_x86_64.manylinux2014_x86_64.whl (310 kB)\n",
      "\u001b[2K     \u001b[38;2;114;156;31m━━━━━━━━━━━━━━━━━━━━━━━━━━━━━━━━━━━━━━━\u001b[0m \u001b[32m310.7/310.7 KB\u001b[0m \u001b[31m2.4 MB/s\u001b[0m eta \u001b[36m0:00:00\u001b[0mm eta \u001b[36m0:00:01\u001b[0m0:01\u001b[0m:01\u001b[0m\n",
      "\u001b[?25hCollecting numpy<2,>=1.21\n",
      "  Downloading numpy-1.26.4-cp310-cp310-manylinux_2_17_x86_64.manylinux2014_x86_64.whl (18.2 MB)\n",
      "\u001b[2K     \u001b[38;2;114;156;31m━━━━━━━━━━━━━━━━━━━━━━━━━━━━━━━━━━━━━━━━\u001b[0m \u001b[32m18.2/18.2 MB\u001b[0m \u001b[31m2.6 MB/s\u001b[0m eta \u001b[36m0:00:00\u001b[0mm eta \u001b[36m0:00:01\u001b[0m[36m0:00:01\u001b[0m\n",
      "\u001b[?25hRequirement already satisfied: pillow>=8 in /usr/lib/python3/dist-packages (from matplotlib) (9.0.1)\n",
      "Collecting fonttools>=4.22.0\n",
      "  Downloading fonttools-4.49.0-cp310-cp310-manylinux_2_17_x86_64.manylinux2014_x86_64.whl (4.6 MB)\n",
      "\u001b[2K     \u001b[38;2;114;156;31m━━━━━━━━━━━━━━━━━━━━━━━━━━━━━━━━━━━━━━━━\u001b[0m \u001b[32m4.6/4.6 MB\u001b[0m \u001b[31m1.2 MB/s\u001b[0m eta \u001b[36m0:00:00\u001b[0mm eta \u001b[36m0:00:01\u001b[0m[36m0:00:01\u001b[0m0m\n",
      "\u001b[?25hRequirement already satisfied: pyparsing>=2.3.1 in /usr/lib/python3/dist-packages (from matplotlib) (2.4.7)\n",
      "Requirement already satisfied: packaging>=20.0 in /home/hadoop/.local/lib/python3.10/site-packages (from matplotlib) (23.2)\n",
      "Requirement already satisfied: python-dateutil>=2.7 in /home/hadoop/.local/lib/python3.10/site-packages (from matplotlib) (2.8.2)\n",
      "Collecting kiwisolver>=1.3.1\n",
      "  Downloading kiwisolver-1.4.5-cp310-cp310-manylinux_2_12_x86_64.manylinux2010_x86_64.whl (1.6 MB)\n",
      "\u001b[2K     \u001b[38;2;114;156;31m━━━━━━━━━━━━━━━━━━━━━━━━━━━━━━━━━━━━━━━━\u001b[0m \u001b[32m1.6/1.6 MB\u001b[0m \u001b[31m1.1 MB/s\u001b[0m eta \u001b[36m0:00:00\u001b[0mm eta \u001b[36m0:00:01\u001b[0m0:01\u001b[0m:01\u001b[0m\n",
      "\u001b[?25hCollecting cycler>=0.10\n",
      "  Downloading cycler-0.12.1-py3-none-any.whl (8.3 kB)\n",
      "Requirement already satisfied: six>=1.5 in /usr/lib/python3/dist-packages (from python-dateutil>=2.7->matplotlib) (1.16.0)\n",
      "Installing collected packages: numpy, kiwisolver, fonttools, cycler, contourpy, matplotlib\n",
      "Successfully installed contourpy-1.2.0 cycler-0.12.1 fonttools-4.49.0 kiwisolver-1.4.5 matplotlib-3.8.3 numpy-1.26.4\n",
      "Note: you may need to restart the kernel to use updated packages.\n"
     ]
    }
   ],
   "source": [
    "pip install matplotlib"
   ]
  },
  {
   "cell_type": "code",
   "execution_count": 16,
   "id": "47f4eebc-e98b-49cc-a6e8-30e548934d68",
   "metadata": {},
   "outputs": [
    {
     "name": "stdout",
     "output_type": "stream",
     "text": [
      "Defaulting to user installation because normal site-packages is not writeable\n",
      "Collecting pandas\n",
      "  Downloading pandas-2.2.0-cp310-cp310-manylinux_2_17_x86_64.manylinux2014_x86_64.whl (13.0 MB)\n",
      "\u001b[2K     \u001b[38;2;114;156;31m━━━━━━━━━━━━━━━━━━━━━━━━━━━━━━━━━━━━━━━━\u001b[0m \u001b[32m13.0/13.0 MB\u001b[0m \u001b[31m2.2 MB/s\u001b[0m eta \u001b[36m0:00:00\u001b[0mm eta \u001b[36m0:00:01\u001b[0m[36m0:00:01\u001b[0mm\n",
      "\u001b[?25hRequirement already satisfied: pytz>=2020.1 in /usr/lib/python3/dist-packages (from pandas) (2022.1)\n",
      "Requirement already satisfied: python-dateutil>=2.8.2 in /home/hadoop/.local/lib/python3.10/site-packages (from pandas) (2.8.2)\n",
      "Collecting tzdata>=2022.7\n",
      "  Downloading tzdata-2024.1-py2.py3-none-any.whl (345 kB)\n",
      "\u001b[2K     \u001b[38;2;114;156;31m━━━━━━━━━━━━━━━━━━━━━━━━━━━━━━━━━━━━━━━\u001b[0m \u001b[32m345.4/345.4 KB\u001b[0m \u001b[31m1.9 MB/s\u001b[0m eta \u001b[36m0:00:00\u001b[0m[36m0:00:01\u001b[0mm eta \u001b[36m0:00:01\u001b[0m\n",
      "\u001b[?25hRequirement already satisfied: numpy<2,>=1.22.4 in /home/hadoop/.local/lib/python3.10/site-packages (from pandas) (1.26.4)\n",
      "Requirement already satisfied: six>=1.5 in /usr/lib/python3/dist-packages (from python-dateutil>=2.8.2->pandas) (1.16.0)\n",
      "Installing collected packages: tzdata, pandas\n",
      "Successfully installed pandas-2.2.0 tzdata-2024.1\n",
      "Note: you may need to restart the kernel to use updated packages.\n"
     ]
    }
   ],
   "source": [
    "pip install pandas"
   ]
  },
  {
   "cell_type": "code",
   "execution_count": 18,
   "id": "a7a1a26c-4d8c-45ad-bb5c-97cdc96a2c63",
   "metadata": {},
   "outputs": [
    {
     "name": "stderr",
     "output_type": "stream",
     "text": [
      "                                                                                \r"
     ]
    },
    {
     "data": {
      "image/png": "[encoded data removed]",
      "text/plain": [
       "<Figure size 1000x600 with 1 Axes>"
      ]
     },
     "metadata": {},
     "output_type": "display_data"
    },
    {
     "data": {
      "text/plain": [
       "None"
      ]
     },
     "metadata": {},
     "output_type": "display_data"
    }
   ],
   "source": [
    "from pyspark.sql.functions import col, sum, to_date\n",
    "import matplotlib.pyplot as plt\n",
    "\n",
    "# Calculate GMV (sum of price) per year-month\n",
    "user_purchase_month_GMV = df_mon.withColumn(\"purchase_month\", to_date(col(\"event_time\")).substr(1, 7)) \\\n",
    "    .groupBy(\"purchase_month\") \\\n",
    "    .agg(sum(\"price\").alias(\"Purchase by user\")) \\\n",
    "    .orderBy(\"purchase_month\")\n",
    "\n",
    "# Convert PySpark DataFrame to Pandas DataFrame for plotting\n",
    "user_purchase_month_GMV_pd = user_purchase_month_GMV.toPandas()\n",
    "\n",
    "plt.figure(figsize=(10, 6))\n",
    "plt.plot(user_purchase_month_GMV_pd[\"purchase_month\"], user_purchase_month_GMV_pd[\"GMV\"], marker='o', linestyle='-')\n",
    "plt.title(\"Month-wise Transaction\")\n",
    "plt.xlabel(\"Month\")\n",
    "plt.ylabel(\"Purchases by user\")\n",
    "plt.xticks(rotation=45)\n",
    "plt.grid(True)\n",
    "plt.tight_layout()\n",
    "\n",
    "display(plt.show())\n"
   ]
  },
  {
   "cell_type": "code",
   "execution_count": null,
   "id": "36236f4c-f9f4-4bb7-a447-41868121c90b",
   "metadata": {},
   "outputs": [],
   "source": []
  },
  {
   "cell_type": "code",
   "execution_count": null,
   "id": "1115f817-0adb-4e91-b8e9-e64705a65dce",
   "metadata": {},
   "outputs": [],
   "source": []
  },
  {
   "cell_type": "code",
   "execution_count": null,
   "id": "5e183005-5f9e-45f7-9351-54355ae27047",
   "metadata": {},
   "outputs": [],
   "source": []
  },
  {
   "cell_type": "code",
   "execution_count": null,
   "id": "92c6aefe-274f-460f-8a61-ed8449c6b97c",
   "metadata": {},
   "outputs": [],
   "source": []
  },
  {
   "cell_type": "code",
   "execution_count": null,
   "id": "91b12af2-4e0a-45f6-8580-667d8d124fa0",
   "metadata": {},
   "outputs": [],
   "source": []
  },
  {
   "cell_type": "code",
   "execution_count": null,
   "id": "fba4c202-a9bb-4253-8b55-8502d8cbc9d5",
   "metadata": {},
   "outputs": [],
   "source": []
  },
  {
   "cell_type": "code",
   "execution_count": null,
   "id": "05fda83f-2c65-4390-8c31-bfccc4934645",
   "metadata": {},
   "outputs": [],
   "source": []
  },
  {
   "cell_type": "code",
   "execution_count": null,
   "id": "b4bd2663-d572-4636-9dcd-fd08917bbc74",
   "metadata": {},
   "outputs": [],
   "source": []
  },
  {
   "cell_type": "code",
   "execution_count": null,
   "id": "b7c49c4c-5fd2-417a-8f24-5722c765d0f3",
   "metadata": {},
   "outputs": [],
   "source": []
  },
  {
   "cell_type": "code",
   "execution_count": null,
   "id": "16aa24d3-fedb-4e04-8d0a-2345e47b9c21",
   "metadata": {},
   "outputs": [],
   "source": []
  },
  {
   "cell_type": "code",
   "execution_count": null,
   "id": "5e89927b-9440-40d5-81bb-55c7dcc6bbcb",
   "metadata": {},
   "outputs": [],
   "source": []
  },
  {
   "cell_type": "code",
   "execution_count": null,
   "id": "dc824eb7-289a-45ed-8b1a-273fd6b8617d",
   "metadata": {},
   "outputs": [],
   "source": []
  },
  {
   "cell_type": "code",
   "execution_count": null,
   "id": "6795fd35-bbc9-44e1-8cff-6ee509858e4b",
   "metadata": {},
   "outputs": [],
   "source": []
  },
  {
   "cell_type": "code",
   "execution_count": null,
   "id": "70a0c7f0-87e6-426a-a94b-0b2a1a1f6301",
   "metadata": {},
   "outputs": [],
   "source": []
  }
 ],
 "metadata": {
  "kernelspec": {
   "display_name": "Python 3 (ipykernel)",
   "language": "python",
   "name": "python3"
  },
  "language_info": {
   "codemirror_mode": {
    "name": "ipython",
    "version": 3
   },
   "file_extension": ".py",
   "mimetype": "text/x-python",
   "name": "python",
   "nbconvert_exporter": "python",
   "pygments_lexer": "ipython3",
   "version": "3.10.12"
  }
 },
 "nbformat": 4,
 "nbformat_minor": 5
}
