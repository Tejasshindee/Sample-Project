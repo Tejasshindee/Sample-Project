{
 "cells": [
  {
   "cell_type": "code",
   "execution_count": 1,
   "id": "2d020cc4-8a0e-4dc3-9ec5-9caecc596977",
   "metadata": {},
   "outputs": [
    {
     "name": "stdout",
     "output_type": "stream",
     "text": [
      "Defaulting to user installation because normal site-packages is not writeable\n",
      "Requirement already satisfied: findspark in /home/hadoop/.local/lib/python3.10/site-packages (2.0.1)\n"
     ]
    }
   ],
   "source": [
    "!pip install findspark\n"
   ]
  },
  {
   "cell_type": "code",
   "execution_count": 2,
   "id": "adef1bc1-8052-4f1a-a15b-7eadf739fcc3",
   "metadata": {},
   "outputs": [],
   "source": [
    "import findspark\n",
    "findspark.init()\n"
   ]
  },
  {
   "cell_type": "code",
   "execution_count": 3,
   "id": "367283a5-a19d-44f8-b5a9-2bb8abe22c55",
   "metadata": {},
   "outputs": [
    {
     "name": "stderr",
     "output_type": "stream",
     "text": [
      "24/02/23 11:44:22 WARN Utils: Your hostname, tejasshinde-Nitro-AN515-55 resolves to a loopback address: 127.0.1.1; using 192.168.1.155 instead (on interface wlp0s20f3)\n",
      "24/02/23 11:44:22 WARN Utils: Set SPARK_LOCAL_IP if you need to bind to another address\n",
      "Setting default log level to \"WARN\".\n",
      "To adjust logging level use sc.setLogLevel(newLevel). For SparkR, use setLogLevel(newLevel).\n",
      "24/02/23 11:44:23 WARN NativeCodeLoader: Unable to load native-hadoop library for your platform... using builtin-java classes where applicable\n"
     ]
    }
   ],
   "source": [
    "from pyspark.sql import SparkSession\n",
    "\n",
    "spark = SparkSession.builder.appName(\"MySparkApp\").getOrCreate()\n"
   ]
  },
  {
   "cell_type": "markdown",
   "id": "d80b6048-5848-406c-8f04-a356fa818c24",
   "metadata": {},
   "source": [
    "# Load Clean Data"
   ]
  },
  {
   "cell_type": "code",
   "execution_count": 4,
   "id": "23d79bc0-a4be-4ed8-a52e-30ed36c051c3",
   "metadata": {},
   "outputs": [
    {
     "name": "stderr",
     "output_type": "stream",
     "text": [
      "                                                                                \r"
     ]
    }
   ],
   "source": [
    "data_path = \"nonull.csv\"\n",
    "df= spark.read.csv(data_path, header=True, inferSchema=True)"
   ]
  },
  {
   "cell_type": "code",
   "execution_count": 5,
   "id": "f9a768d8-9380-4f17-8caf-23a0e6865a69",
   "metadata": {},
   "outputs": [
    {
     "name": "stdout",
     "output_type": "stream",
     "text": [
      "+-------------------+-------------------+-------------------+-------------------+-------+------+-----------+-----------+---------------+-------------------+\n",
      "|         event_time|           order_id|         product_id|        category_id|  brand| price|      cat_1|      cat_2|          cat_3|            user_id|\n",
      "+-------------------+-------------------+-------------------+-------------------+-------+------+-----------+-----------+---------------+-------------------+\n",
      "|2020-04-29 20:11:49|2298069964415828136|1515966223509122874|2268105407933187062|     hp|152.52|  computers|peripherals|        printer|1515915625509647001|\n",
      "|2020-04-29 23:42:11|2298175846491357353|1515966223509122666|2268105430162997728|samsung|  8.08|electronics|      audio|      headphone|1515915625511889093|\n",
      "|2020-04-30 18:01:51|2298729326712980173|1515966223509089265|2360741866917331945|   beko|231.46| appliances|environment|air_conditioner|1515915625510823948|\n",
      "|2020-04-30 19:27:36|2298772487720140990|1515966223509335414|2268105430162997728|  razer|104.14|electronics|      audio|      headphone|1515915625512018088|\n",
      "|2020-04-30 21:37:48|2298838016631767159|1515966223509255514|2268105430162997728|philips| 32.38|electronics|      audio|      headphone|1515915625499309469|\n",
      "|2020-05-01 12:54:33|2299299428894245316|1515966223509089826|2268105406549066706|  delux|   6.0|  computers|peripherals|          mouse|1515915625514536341|\n",
      "|2020-05-01 22:40:42|2299594452823442104|1515966223509122666|2268105430162997728|samsung|  8.08|electronics|      audio|      headphone|1515915625484635108|\n",
      "|2020-05-02 23:25:58|2300342008322982139|2273948248047616169|2268105406549066706|  delux|  5.07|  computers|peripherals|          mouse|1515915625484676605|\n",
      "|2020-05-04 07:07:11|2301298926818427157|1515966223509351741|2268105419375247608|  varta|  0.69| stationery|    battery|  miscellaneous|1515915625512202402|\n",
      "|2020-05-06 08:37:23|2302793875086902264|1515966223509090254|2268105421933773102|  trust| 19.65|electronics|      audio|     microphone|1515915625484676302|\n",
      "|2020-05-06 11:40:59|2302886286089781416|1515966223509089722|2268105441856717530|    ava|  9.24| appliances|    kitchen|         kettle|1515915625512660612|\n",
      "|2020-05-06 18:58:35|2303106530796372754|2273948216456118473|2268105440917193414|polaris| 30.07| appliances|    kitchen|          mixer|1515915625492249288|\n",
      "|2020-05-07 17:06:03|2303774668819006287|1515966223509104779|2268105428166508982| huawei|277.75|electronics| smartphone|  miscellaneous|1515915625475938346|\n",
      "|2020-05-07 17:42:39|2303793094941737810|1515966223509104342|2268105430162997728| xiaomi| 25.44|electronics|      audio|      headphone|1515915625510239770|\n",
      "|2020-05-08 00:34:21|2304000304833627082|1515966223509117177|2268105464766005446|ninebot|608.77|       kids|     skates|  miscellaneous|1515915625511698424|\n",
      "|2020-05-09 06:14:01|2304896044028134084|1515966223509089293|2360741867017995243|   beko|266.18| appliances|environment|air_conditioner|1515915625448095694|\n",
      "|2020-05-10 14:59:23|2305885242767966747|2273948308370096764|2268105409048870926|  altel| 57.85|  computers|    network|         router|1515915625513605277|\n",
      "|2020-05-10 19:13:40|2306013232357180361|1515966223509088510|2268105428166508982| huawei|127.29|electronics| smartphone|  miscellaneous|1515915625511195241|\n",
      "|2020-05-11 08:18:33|2306408274540364573|1515966223509259282|2268105389956399770|indesit|198.13| appliances|    kitchen|         washer|1515915625512118829|\n",
      "|2020-05-11 10:41:08|2306480038981140584|1515966223509088613|2268105430162997728|  apple|203.68|electronics|      audio|      headphone|1515915625514504268|\n",
      "+-------------------+-------------------+-------------------+-------------------+-------+------+-----------+-----------+---------------+-------------------+\n",
      "only showing top 20 rows\n",
      "\n"
     ]
    }
   ],
   "source": [
    "df.show()"
   ]
  },
  {
   "cell_type": "markdown",
   "id": "93de2357-d2e1-486e-ad79-9248c5ca9555",
   "metadata": {},
   "source": [
    "# Calculate RFM Values"
   ]
  },
  {
   "cell_type": "code",
   "execution_count": 5,
   "id": "328cc295-c892-4ab1-af4e-3fa85d7d40fd",
   "metadata": {},
   "outputs": [
    {
     "name": "stderr",
     "output_type": "stream",
     "text": [
      "24/02/23 11:44:45 WARN SparkSession: Using an existing Spark session; only runtime SQL configurations will take effect.\n",
      "[Stage 9:==============>                                            (2 + 6) / 8]\r"
     ]
    },
    {
     "name": "stdout",
     "output_type": "stream",
     "text": [
      "+-------------------+-------------------+-------+---------+------------------+\n",
      "|            user_id|    last_order_time|recency|frequency|          monetary|\n",
      "+-------------------+-------------------+-------+---------+------------------+\n",
      "|1515915625440051468|2020-10-10 16:27:29|     42|       19|           1619.51|\n",
      "|1515915625440121544|2020-10-04 12:18:21|     48|        7|            878.32|\n",
      "|1515915625440937295|2020-11-19 15:36:46|      2|       18|1493.3400000000001|\n",
      "|1515915625440937382|2020-10-25 17:36:25|     27|       10| 757.6599999999999|\n",
      "|1515915625440937580|2020-10-10 10:52:42|     42|        8|            275.05|\n",
      "|1515915625440940742|2020-09-16 13:59:35|     66|        2|59.910000000000004|\n",
      "|1515915625440940932|2020-09-01 13:45:29|     81|        6|1854.2500000000002|\n",
      "|1515915625440941441|2020-01-16 12:06:23|    310|        1|             80.76|\n",
      "|1515915625440943934|2020-10-11 17:17:47|     41|       24| 5877.459999999999|\n",
      "|1515915625440945265|2020-11-18 19:45:39|      3|       19| 5456.570000000001|\n",
      "|1515915625440946733|2020-10-19 12:37:07|     33|       26|           2698.23|\n",
      "|1515915625440947224|2020-09-23 16:35:40|     59|        7|198.67999999999998|\n",
      "|1515915625440947741|2020-11-14 13:57:16|      7|       50|          10036.37|\n",
      "|1515915625440949051|2020-11-07 19:45:06|     14|       30|2144.8500000000004|\n",
      "|1515915625440949578|2020-11-01 14:55:49|     20|        3|114.52000000000001|\n",
      "|1515915625440951258|2020-09-23 19:30:54|     59|       16|           3249.18|\n",
      "|1515915625440951523|2020-10-10 10:41:59|     42|       19|            587.28|\n",
      "|1515915625440952019|2020-11-04 15:59:17|     17|       12|3929.8599999999997|\n",
      "|1515915625440952419|2020-09-07 18:56:31|     75|        6|248.79999999999995|\n",
      "|1515915625440954254|2020-08-17 23:46:54|     96|       10|            2646.3|\n",
      "+-------------------+-------------------+-------+---------+------------------+\n",
      "only showing top 20 rows\n",
      "\n"
     ]
    },
    {
     "name": "stderr",
     "output_type": "stream",
     "text": [
      "                                                                                \r"
     ]
    }
   ],
   "source": [
    "from pyspark.sql.functions import col, max as max_, countDistinct, sum as sum_, datediff, lit\n",
    "\n",
    "spark = SparkSession.builder.appName(\"RFM_Scores_Calculation\").getOrCreate()\n",
    "\n",
    "# Calculate recency (number of days since the last order)\n",
    "max_order_date = df.groupBy(\"user_id\").agg(max_(\"event_time\").alias(\"last_order_time\"))\n",
    "current_time = df.select(max_(\"event_time\")).head()[0]\n",
    "df_recency = max_order_date.withColumn(\"recency\", datediff(lit(current_time), col(\"last_order_time\")))\n",
    "\n",
    "# Calculate frequency (number of orders per user)\n",
    "df_frequency = df.groupBy(\"user_id\").agg(countDistinct(\"order_id\").alias(\"frequency\"))\n",
    "\n",
    "# Calculate monetary value (total spending per user)\n",
    "df_monetary = df.groupBy(\"user_id\").agg(sum_(\"price\").alias(\"monetary\"))\n",
    "\n",
    "# Aggregate the data to calculate RFM scores\n",
    "rfm_data = df_recency.join(df_frequency, \"user_id\").join(df_monetary, \"user_id\")\n",
    "\n",
    "rfm_data.show()\n",
    "\n",
    "\n"
   ]
  },
  {
   "cell_type": "code",
   "execution_count": 8,
   "id": "9b29289c-9390-44c4-b445-328702311a0a",
   "metadata": {},
   "outputs": [
    {
     "name": "stderr",
     "output_type": "stream",
     "text": [
      "                                                                                \r"
     ]
    },
    {
     "data": {
      "text/plain": [
       "218524"
      ]
     },
     "execution_count": 8,
     "metadata": {},
     "output_type": "execute_result"
    }
   ],
   "source": [
    "rfm_data.count()"
   ]
  },
  {
   "cell_type": "markdown",
   "id": "3f564c45-1c5e-41d4-8d7a-10c2f559ac60",
   "metadata": {},
   "source": [
    "# Download RFM Data"
   ]
  },
  {
   "cell_type": "code",
   "execution_count": 20,
   "id": "2b30dbc1-c756-4a54-afc4-9937a84a8432",
   "metadata": {},
   "outputs": [],
   "source": [
    "output_path = \"RFMData\"\n",
    "rfm_data.coalesce(1).write.csv(output_path, header=True)\n"
   ]
  },
  {
   "cell_type": "markdown",
   "id": "2c28fa9e-3bf2-4b54-a2bc-a3c0da141b09",
   "metadata": {},
   "source": [
    "# Calculate the minimum, maximum, mean, and average price"
   ]
  },
  {
   "cell_type": "code",
   "execution_count": 9,
   "id": "64f4b906-34fe-4b0f-aca4-4abdd597980d",
   "metadata": {},
   "outputs": [
    {
     "name": "stderr",
     "output_type": "stream",
     "text": [
      "[Stage 46:=====================>                                    (3 + 5) / 8]\r"
     ]
    },
    {
     "name": "stdout",
     "output_type": "stream",
     "text": [
      "Minimum Price: 0.02\n",
      "Maximum Price: 50925.9\n",
      "Average Price: 160.222006341935\n"
     ]
    },
    {
     "name": "stderr",
     "output_type": "stream",
     "text": [
      "                                                                                \r"
     ]
    }
   ],
   "source": [
    "from pyspark.sql.functions import max as max_, min as min_, avg as avg_\n",
    "\n",
    "min_price = df.select(min_(\"price\")).collect()[0][0]\n",
    "max_price = df.select(max_(\"price\")).collect()[0][0]\n",
    "mean_price = df.select(mean_(\"price\")).collect()[0][0]\n",
    "avg_price = df.select(avg_(\"price\")).collect()[0][0]\n",
    "\n",
    "print(\"Minimum Price:\", min_price)\n",
    "print(\"Maximum Price:\", max_price)\n",
    "print(\"Average Price:\", avg_price)\n"
   ]
  },
  {
   "cell_type": "markdown",
   "id": "4d1f4ccd-c895-4ee8-9432-b48afa2a7b00",
   "metadata": {},
   "source": [
    "# Assign a class ID to each user based on their maximum price using the cluster boundaries"
   ]
  },
  {
   "cell_type": "code",
   "execution_count": 50,
   "id": "1c5c8111-2fec-4653-b4bf-e71d2e25da7b",
   "metadata": {},
   "outputs": [
    {
     "name": "stderr",
     "output_type": "stream",
     "text": [
      "[Stage 368:>                                                        (0 + 8) / 8]\r"
     ]
    },
    {
     "name": "stdout",
     "output_type": "stream",
     "text": [
      "+-------------------+---------+--------+\n",
      "|            user_id|max_price|class_id|\n",
      "+-------------------+---------+--------+\n",
      "|1515915625447920758|   555.53|       3|\n",
      "|1515915625514155523|   486.09|       3|\n",
      "|1515915625484629394|   671.27|       3|\n",
      "|1515915625443650194|   636.55|       3|\n",
      "|1515915625512376820|   694.42|       3|\n",
      "|1515915625512375843|  1041.64|       4|\n",
      "|1515915625496322977|   479.14|       3|\n",
      "|1515915625514800986|   185.16|       2|\n",
      "|1515915625476291004|  1388.87|       5|\n",
      "|1515915625461255450|   555.53|       3|\n",
      "|1515915625513057327|   486.09|       3|\n",
      "|1515915625442959158|   601.83|       3|\n",
      "|1515915625450900260|   763.63|       3|\n",
      "|1515915625492428068|   763.63|       3|\n",
      "|1515915625512154161|   925.67|       4|\n",
      "|1515915625492842511|  1192.11|       4|\n",
      "|1515915625457032478|  1387.01|       5|\n",
      "|1515915625475085544|    300.9|       2|\n",
      "|1515915625461618764|   162.01|       2|\n",
      "|1515915625512876282|   949.05|       4|\n",
      "+-------------------+---------+--------+\n",
      "only showing top 20 rows\n",
      "\n"
     ]
    },
    {
     "name": "stderr",
     "output_type": "stream",
     "text": [
      "                                                                                \r"
     ]
    }
   ],
   "source": [
    "from pyspark.ml.feature import VectorAssembler\n",
    "from pyspark.ml.clustering import KMeans\n",
    "from pyspark.sql import functions as F\n",
    "from pyspark.sql import SparkSession\n",
    "\n",
    "spark = SparkSession.builder.appName(\"KMeans_MaxPrice_Grouping\").getOrCreate()\n",
    "\n",
    "# Step 1: Find the maximum price for each distinct user ID\n",
    "max_prices = df.groupBy(\"user_id\").agg(F.max(\"price\").alias(\"max_price\"))\n",
    "\n",
    "# Step 2: Prepare the data for KMeans clustering\n",
    "assembler = VectorAssembler(inputCols=[\"max_price\"], outputCol=\"features\")\n",
    "data = assembler.transform(max_prices.select(\"user_id\", \"max_price\"))\n",
    "\n",
    "# Step 3: Fit a KMeans model to cluster the maximum prices\n",
    "k = 5 \n",
    "kmeans = KMeans(k=k, seed=42)\n",
    "model = kmeans.fit(data)\n",
    "\n",
    "# Step 4: Analyze the cluster centers to determine the boundaries for the categories\n",
    "cluster_centers = model.clusterCenters()\n",
    "cluster_boundaries = sorted([center[0] for center in cluster_centers])\n",
    "\n",
    "df_with_class = max_prices.withColumn(\"class_id\",\n",
    "    when(max_prices[\"max_price\"] <= cluster_boundaries[0], \"1\")\n",
    "    .when((max_prices[\"max_price\"] > cluster_boundaries[0]) & (max_prices[\"max_price\"] <= cluster_boundaries[1]), \"2\")\n",
    "    .when((max_prices[\"max_price\"] > cluster_boundaries[1]) & (max_prices[\"max_price\"] <= cluster_boundaries[2]), \"3\")\n",
    "    .when((max_prices[\"max_price\"] > cluster_boundaries[2]) & (max_prices[\"max_price\"] <= cluster_boundaries[3]), \"4\")\n",
    "    .otherwise(\"5\")\n",
    ")\n",
    "\n",
    "df_with_class.show()\n"
   ]
  },
  {
   "cell_type": "markdown",
   "id": "f309f89b-4ef7-44cb-96fc-1264061021d0",
   "metadata": {},
   "source": [
    "# Group the DataFrame by class_id and calculate the min and max of max_price"
   ]
  },
  {
   "cell_type": "code",
   "execution_count": 51,
   "id": "6b73d5aa-97e8-4c49-9db1-4e524fd9443e",
   "metadata": {},
   "outputs": [
    {
     "name": "stderr",
     "output_type": "stream",
     "text": [
      "[Stage 371:>                                                        (0 + 8) / 8]\r"
     ]
    },
    {
     "name": "stdout",
     "output_type": "stream",
     "text": [
      "+--------+-------------+-------------+\n",
      "|class_id|min_max_price|max_max_price|\n",
      "+--------+-------------+-------------+\n",
      "|       3|       453.68|       833.31|\n",
      "|       5|      1377.29|      50925.9|\n",
      "|       1|         0.02|       137.94|\n",
      "|       4|       835.63|      1367.12|\n",
      "|       2|        138.4|       453.47|\n",
      "+--------+-------------+-------------+\n",
      "\n"
     ]
    },
    {
     "name": "stderr",
     "output_type": "stream",
     "text": [
      "                                                                                \r"
     ]
    }
   ],
   "source": [
    "min_max_price = df_with_class.groupBy(\"class_id\").agg(F.min(\"max_price\").alias(\"min_max_price\"), F.max(\"max_price\").alias(\"max_max_price\"))\n",
    "\n",
    "min_max_price.show()\n"
   ]
  },
  {
   "cell_type": "markdown",
   "id": "5d1db72b-a2a5-4b88-87e4-901ead2d9d90",
   "metadata": {},
   "source": [
    "# Assign classes on basis of class ID in new column "
   ]
  },
  {
   "cell_type": "code",
   "execution_count": 52,
   "id": "64bf024d-a369-4f3d-a943-70624dd4b8c6",
   "metadata": {},
   "outputs": [],
   "source": [
    "from pyspark.sql.functions import col, when\n",
    "\n",
    "class_conditions = [\n",
    "    (col(\"class_id\") == 5, \"Upper class\"),\n",
    "    (col(\"class_id\") == 4, \"Upper middle class\"),\n",
    "    (col(\"class_id\") == 3, \"Middle class\"),\n",
    "    (col(\"class_id\") == 2, \"Lower middle class\"),\n",
    "    (col(\"class_id\") == 1, \"Lower class\")\n",
    "]\n",
    "\n",
    "class_cat = df_with_class.withColumn(\"class_category\", \n",
    "                   when(class_conditions[0][0], class_conditions[0][1])\n",
    "                   .when(class_conditions[1][0], class_conditions[1][1])\n",
    "                   .when(class_conditions[2][0], class_conditions[2][1])\n",
    "                   .when(class_conditions[3][0], class_conditions[3][1])\n",
    "                   .when(class_conditions[4][0], class_conditions[4][1])\n",
    "                   .otherwise(None))\n"
   ]
  },
  {
   "cell_type": "code",
   "execution_count": 53,
   "id": "29d029d0-5c8d-4b74-90ba-94f3c73bb386",
   "metadata": {},
   "outputs": [
    {
     "name": "stderr",
     "output_type": "stream",
     "text": [
      "[Stage 377:=======>                                                 (1 + 7) / 8]\r"
     ]
    },
    {
     "name": "stdout",
     "output_type": "stream",
     "text": [
      "+-------------------+---------+--------+------------------+\n",
      "|            user_id|max_price|class_id|    class_category|\n",
      "+-------------------+---------+--------+------------------+\n",
      "|1515915625447920758|   555.53|       3|      Middle class|\n",
      "|1515915625514155523|   486.09|       3|      Middle class|\n",
      "|1515915625484629394|   671.27|       3|      Middle class|\n",
      "|1515915625443650194|   636.55|       3|      Middle class|\n",
      "|1515915625512376820|   694.42|       3|      Middle class|\n",
      "|1515915625512375843|  1041.64|       4|Upper middle class|\n",
      "|1515915625496322977|   479.14|       3|      Middle class|\n",
      "|1515915625514800986|   185.16|       2|Lower middle class|\n",
      "|1515915625476291004|  1388.87|       5|       Upper class|\n",
      "|1515915625461255450|   555.53|       3|      Middle class|\n",
      "|1515915625513057327|   486.09|       3|      Middle class|\n",
      "|1515915625442959158|   601.83|       3|      Middle class|\n",
      "|1515915625450900260|   763.63|       3|      Middle class|\n",
      "|1515915625492428068|   763.63|       3|      Middle class|\n",
      "|1515915625512154161|   925.67|       4|Upper middle class|\n",
      "|1515915625492842511|  1192.11|       4|Upper middle class|\n",
      "|1515915625457032478|  1387.01|       5|       Upper class|\n",
      "|1515915625475085544|    300.9|       2|Lower middle class|\n",
      "|1515915625461618764|   162.01|       2|Lower middle class|\n",
      "|1515915625512876282|   949.05|       4|Upper middle class|\n",
      "+-------------------+---------+--------+------------------+\n",
      "only showing top 20 rows\n",
      "\n"
     ]
    },
    {
     "name": "stderr",
     "output_type": "stream",
     "text": [
      "                                                                                \r"
     ]
    }
   ],
   "source": [
    "class_cat.show()"
   ]
  },
  {
   "cell_type": "markdown",
   "id": "5f5b8c18-6e22-4e6e-9be6-84db370097f5",
   "metadata": {},
   "source": [
    "# Join class category to original dataframe"
   ]
  },
  {
   "cell_type": "code",
   "execution_count": 54,
   "id": "9d516f9c-8f55-47a8-b5ee-bedbc93e0ef6",
   "metadata": {},
   "outputs": [
    {
     "name": "stderr",
     "output_type": "stream",
     "text": [
      "[Stage 381:============================>                            (4 + 4) / 8]\r"
     ]
    },
    {
     "name": "stdout",
     "output_type": "stream",
     "text": [
      "+-------------------+-------------------+-------------------+-------------------+-------------------+----------+-------+-------------+-------------+-------------+---------+--------+------------------+\n",
      "|            user_id|         event_time|           order_id|         product_id|        category_id|     brand|  price|        cat_1|        cat_2|        cat_3|max_price|class_id|    class_category|\n",
      "+-------------------+-------------------+-------------------+-------------------+-------------------+----------+-------+-------------+-------------+-------------+---------+--------+------------------+\n",
      "|1515915625441612480|2020-02-10 16:48:37|2348791608045994250|1515966223509122835|2268105430162997728|       neo|  20.81|  electronics|        audio|    headphone|  1337.71|       4|Upper middle class|\n",
      "|1515915625443940057|2020-02-08 11:57:41|2348791388851666961|1515966223509335434|2309018577547559593|       ggg|  30.07|      apparel|        shirt|miscellaneous|   694.42|       3|      Middle class|\n",
      "|1515915625448231173|2020-06-23 13:58:21|2353275108837032055|1515966223509881249|2268105388555502202|   samsung| 810.16|   appliances|      kitchen|         oven|   895.81|       4|Upper middle class|\n",
      "|1515915625452290673|2020-01-22 18:07:26|2348776920809734746|1515966223509117383|2268105408293897214|        hp|   9.93|   stationery|     cartrige|miscellaneous|    393.5|       2|Lower middle class|\n",
      "|1515915625455372283|2020-02-12 13:04:42|2348792334415561114|1515966223509090064|2268105426648170900|   samsung| 185.16|  electronics|       tablet|miscellaneous|  1157.38|       4|Upper middle class|\n",
      "|1515915625460013275|2020-01-21 17:38:19|2348776903453704554|2273948222277812511|2268105388555502202|   samsung| 462.94|   appliances|      kitchen|         oven|   578.68|       3|      Middle class|\n",
      "|1515915625483792988|2020-06-22 16:03:24|2353273770635952932|1515966223510398442|2268105441647002326| panasonic| 106.46|   appliances|      kitchen|       kettle|   543.96|       3|      Middle class|\n",
      "|1515915625484619972|2020-01-21 13:35:46|2348777062342328622|1515966223509130215|2268105392070329020|   philips| 138.87|   appliances|  environment|       vacuum|   627.29|       3|      Middle class|\n",
      "|1515915625484627601|2020-02-28 20:21:15|2348804799140462968|1515966223509089560|2268105428166508982|     honor|  69.19|  electronics|   smartphone|miscellaneous|  1736.09|       5|       Upper class|\n",
      "|1515915625484631448|2020-02-11 14:57:32|2348791644662268446|1515966223509090005|2268105430162997728|     trust|  37.01|  electronics|        audio|    headphone|   138.87|       2|Lower middle class|\n",
      "|1515915625484635841|2020-06-23 13:00:05|2353275308494291150|1515966223510338428|2268105391030141614| different|  13.87|   appliances|         iron|miscellaneous|  1212.94|       4|Upper middle class|\n",
      "|1515915625484642547|2020-01-17 11:48:58|2348774892939247745|1515966223510058555|2268105393848713950|  liebherr|1226.83|   appliances|      kitchen|refrigerators|  1226.83|       4|Upper middle class|\n",
      "|1515915625484656830|2020-02-17 12:38:52|2348798506216456350|2273948181223965148|2268105409048870926|   tp-link|  13.87|    computers|      network|       router|   1300.9|       4|Upper middle class|\n",
      "|1515915625492249288|2020-05-06 18:58:35|2303106530796372754|2273948216456118473|2268105440917193414|   polaris|  30.07|   appliances|      kitchen|        mixer|   412.01|       2|Lower middle class|\n",
      "|1515915625493616830|2020-02-11 17:21:53|2348792162482651974|2273948297037087396|2268105538568979268|  goodride|  48.82|miscellaneous|miscellaneous|miscellaneous|   856.23|       4|Upper middle class|\n",
      "|1515915625509841711|2020-06-26 18:22:29|2353279208291042259|1515966223509088578|2268105428166508982|   samsung|  300.9|  electronics|   smartphone|miscellaneous|    925.9|       4|Upper middle class|\n",
      "|1515915625511044406|2020-02-11 18:18:50|2348792348751692368|1515966223509257792|2268105389385974414|electrolux| 358.77|   appliances|      kitchen|         hood|  1041.64|       4|Upper middle class|\n",
      "|1515915625513331966|2020-01-22 13:20:53|2348776970906501355|1515966223509104401|2268105426908217754| transcend|   6.92|miscellaneous|miscellaneous|miscellaneous|   694.42|       3|      Middle class|\n",
      "|1515915625514159475|2020-02-28 21:15:33|2348804795617247592|1515966223509258414|2268105396776338182|     tailg| 601.83|miscellaneous|miscellaneous|miscellaneous|   601.83|       3|      Middle class|\n",
      "|1515915625514160671|2020-01-17 11:23:16|2348774840300733103|1515966223509089400|2268105430162997728|   samsung|   81.0|  electronics|        audio|    headphone|   925.67|       4|Upper middle class|\n",
      "+-------------------+-------------------+-------------------+-------------------+-------------------+----------+-------+-------------+-------------+-------------+---------+--------+------------------+\n",
      "only showing top 20 rows\n",
      "\n"
     ]
    },
    {
     "name": "stderr",
     "output_type": "stream",
     "text": [
      "                                                                                \r"
     ]
    }
   ],
   "source": [
    "classdf = df.join(class_cat, \"user_id\", \"left\")\n",
    "classdf.show()\n"
   ]
  },
  {
   "cell_type": "markdown",
   "id": "05858c00-200d-4120-bac7-79b7dce99e74",
   "metadata": {},
   "source": [
    "# Drop the product_id column"
   ]
  },
  {
   "cell_type": "code",
   "execution_count": 55,
   "id": "9c987fcf-eb5d-4e6f-b47e-4eb41b42b678",
   "metadata": {},
   "outputs": [],
   "source": [
    "classdf = classdf.drop(\"product_id\")\n"
   ]
  },
  {
   "cell_type": "code",
   "execution_count": 56,
   "id": "0aed98e8-2fa3-4989-834d-3500668f3690",
   "metadata": {},
   "outputs": [],
   "source": [
    "classdf = classdf.withColumnRenamed(\"max_price\", \"max_purchase_by_user\")"
   ]
  },
  {
   "cell_type": "markdown",
   "id": "80094060-1036-4e78-b217-dcc85daeeb03",
   "metadata": {},
   "source": [
    "# Categorize customers on basis RFM score "
   ]
  },
  {
   "cell_type": "code",
   "execution_count": 68,
   "id": "ce396625-5ea9-4a27-98a5-6838b4a82353",
   "metadata": {},
   "outputs": [
    {
     "name": "stderr",
     "output_type": "stream",
     "text": [
      "[Stage 1109:=======>                                                (1 + 7) / 8]\r"
     ]
    },
    {
     "name": "stdout",
     "output_type": "stream",
     "text": [
      "+-------------------+-------------------+-------+---------+------------------+--------------------+----------+----------+\n",
      "|            user_id|    last_order_time|recency|frequency|          monetary|            features|prediction|  category|\n",
      "+-------------------+-------------------+-------+---------+------------------+--------------------+----------+----------+\n",
      "|1515915625440051468|2020-10-10 16:27:29|     42|       19|           1619.51| [42.0,19.0,1619.51]|         2| Mid-Value|\n",
      "|1515915625440121544|2020-10-04 12:18:21|     48|        7|            878.32|   [48.0,7.0,878.32]|         0| Low-Value|\n",
      "|1515915625440937295|2020-11-19 15:36:46|      2|       18|1493.3400000000001|[2.0,18.0,1493.34...|         2| Mid-Value|\n",
      "|1515915625440937382|2020-10-25 17:36:25|     27|       10| 757.6599999999999|[27.0,10.0,757.65...|         0| Low-Value|\n",
      "|1515915625440937580|2020-10-10 10:52:42|     42|        8|            275.05|   [42.0,8.0,275.05]|         0| Low-Value|\n",
      "|1515915625440940742|2020-09-16 13:59:35|     66|        2|59.910000000000004|[66.0,2.0,59.9100...|         0| Low-Value|\n",
      "|1515915625440940932|2020-09-01 13:45:29|     81|        6|1854.2500000000002|[81.0,6.0,1854.25...|         2| Mid-Value|\n",
      "|1515915625440941441|2020-01-16 12:06:23|    310|        1|             80.76|   [310.0,1.0,80.76]|         0| Low-Value|\n",
      "|1515915625440943934|2020-10-11 17:17:47|     41|       24| 5877.459999999999|[41.0,24.0,5877.4...|         1|High-Value|\n",
      "|1515915625440945265|2020-11-18 19:45:39|      3|       19| 5456.570000000001|[3.0,19.0,5456.57...|         1|High-Value|\n",
      "|1515915625440946733|2020-10-19 12:37:07|     33|       26|           2698.23| [33.0,26.0,2698.23]|         2| Mid-Value|\n",
      "|1515915625440947224|2020-09-23 16:35:40|     59|        7|198.67999999999998|[59.0,7.0,198.679...|         0| Low-Value|\n",
      "|1515915625440947741|2020-11-14 13:57:16|      7|       50|          10036.37| [7.0,50.0,10036.37]|         1|High-Value|\n",
      "|1515915625440949051|2020-11-07 19:45:06|     14|       30|2144.8500000000004|[14.0,30.0,2144.8...|         2| Mid-Value|\n",
      "|1515915625440949578|2020-11-01 14:55:49|     20|        3|114.52000000000001|[20.0,3.0,114.520...|         0| Low-Value|\n",
      "|1515915625440951258|2020-09-23 19:30:54|     59|       16|           3249.18| [59.0,16.0,3249.18]|         2| Mid-Value|\n",
      "|1515915625440951523|2020-10-10 10:41:59|     42|       19|            587.28|  [42.0,19.0,587.28]|         0| Low-Value|\n",
      "|1515915625440952019|2020-11-04 15:59:17|     17|       12|3929.8599999999997|[17.0,12.0,3929.8...|         1|High-Value|\n",
      "|1515915625440952419|2020-09-07 18:56:31|     75|        6|248.79999999999995|[75.0,6.0,248.799...|         0| Low-Value|\n",
      "|1515915625440954254|2020-08-17 23:46:54|     96|       10|            2646.3|  [96.0,10.0,2646.3]|         2| Mid-Value|\n",
      "+-------------------+-------------------+-------+---------+------------------+--------------------+----------+----------+\n",
      "only showing top 20 rows\n",
      "\n"
     ]
    },
    {
     "name": "stderr",
     "output_type": "stream",
     "text": [
      "                                                                                \r"
     ]
    }
   ],
   "source": [
    "from pyspark.ml.feature import VectorAssembler\n",
    "from pyspark.ml.clustering import KMeans\n",
    "from pyspark.sql import SparkSession\n",
    "\n",
    "spark = SparkSession.builder.appName(\"Customer_Value_Categorization_KMeans\").getOrCreate()\n",
    "\n",
    "# Step 1: Normalize the RFM scores\n",
    "normalized_rfm = rfm_data.withColumn(\"recency\", F.log1p(\"recency\")).withColumn(\"frequency\", F.log1p(\"frequency\")).withColumn(\"monetary\", F.log1p(\"monetary\"))\n",
    "\n",
    "# Step 2: Combine RFM scores into a single feature vector\n",
    "assembler = VectorAssembler(inputCols=[\"recency\", \"frequency\", \"monetary\"], outputCol=\"features\")\n",
    "rfm_vector = assembler.transform(rfm_data)\n",
    "\n",
    "# Step 3: Apply KMeans clustering\n",
    "k = 3\n",
    "kmeans = KMeans(k=k, seed=42)\n",
    "model = kmeans.fit(rfm_vector)\n",
    "\n",
    "# Step 4: Make predictions\n",
    "predictions = model.transform(rfm_vector)\n",
    "\n",
    "# Step 5: Assign categories based on cluster assignments\n",
    "df_with_categories = predictions.withColumn(\"category\",\n",
    "    F.when(predictions[\"prediction\"] == 0, \"Low-Value\")\n",
    "    .when(predictions[\"prediction\"] == 1, \"High-Value\")\n",
    "    .otherwise(\"Mid-Value\")\n",
    ")\n",
    "\n",
    "df_with_categories.show()\n"
   ]
  },
  {
   "cell_type": "markdown",
   "id": "6918796e-0134-4b29-9ddf-43fb42a61e76",
   "metadata": {},
   "source": [
    "# Chech RFM values for assigned categories"
   ]
  },
  {
   "cell_type": "code",
   "execution_count": 65,
   "id": "0cd04971-d4ff-4409-80e6-10b730fdd857",
   "metadata": {},
   "outputs": [
    {
     "name": "stderr",
     "output_type": "stream",
     "text": [
      "[Stage 879:==========================================>              (6 + 2) / 8]\r"
     ]
    },
    {
     "name": "stdout",
     "output_type": "stream",
     "text": [
      "+----------+------------+\n",
      "|prediction|max(recency)|\n",
      "+----------+------------+\n",
      "|         1|         260|\n",
      "|         2|         313|\n",
      "|         0|         321|\n",
      "+----------+------------+\n",
      "\n"
     ]
    },
    {
     "name": "stderr",
     "output_type": "stream",
     "text": [
      "                                                                                \r"
     ]
    }
   ],
   "source": [
    "max = df_with_categories.groupBy(\"prediction\").agg({\"recency\": \"max\"})\n",
    "\n",
    "max.show()"
   ]
  },
  {
   "cell_type": "code",
   "execution_count": 67,
   "id": "8145bfe5-81c3-4f2d-9bed-921a94815b3e",
   "metadata": {},
   "outputs": [
    {
     "name": "stderr",
     "output_type": "stream",
     "text": [
      "[Stage 895:=================================================>       (7 + 1) / 8]\r"
     ]
    },
    {
     "name": "stdout",
     "output_type": "stream",
     "text": [
      "+----------+--------------+\n",
      "|prediction|max(frequency)|\n",
      "+----------+--------------+\n",
      "|         1|            79|\n",
      "|         2|            52|\n",
      "|         0|            43|\n",
      "+----------+--------------+\n",
      "\n"
     ]
    },
    {
     "name": "stderr",
     "output_type": "stream",
     "text": [
      "                                                                                \r"
     ]
    }
   ],
   "source": [
    "max = df_with_categories.groupBy(\"prediction\").agg({\"frequency\": \"max\"})\n",
    "\n",
    "max.show()"
   ]
  },
  {
   "cell_type": "code",
   "execution_count": 63,
   "id": "afabaa16-94c3-4c78-982c-7b72973d3cdf",
   "metadata": {},
   "outputs": [
    {
     "name": "stderr",
     "output_type": "stream",
     "text": [
      "[Stage 847:==============>                                          (2 + 6) / 8]\r"
     ]
    },
    {
     "name": "stdout",
     "output_type": "stream",
     "text": [
      "+----------+-------------+\n",
      "|prediction|max(monetary)|\n",
      "+----------+-------------+\n",
      "|         1|     52328.31|\n",
      "|         2|      3414.71|\n",
      "|         0|      1409.64|\n",
      "+----------+-------------+\n",
      "\n"
     ]
    },
    {
     "name": "stderr",
     "output_type": "stream",
     "text": [
      "                                                                                \r"
     ]
    }
   ],
   "source": [
    "max = df_with_categories.groupBy(\"prediction\").agg({\"monetary\": \"max\"})\n",
    "\n",
    "max.show()"
   ]
  },
  {
   "cell_type": "markdown",
   "id": "901cae82-770c-4dae-b9cb-cac4f915328c",
   "metadata": {},
   "source": [
    "# Using category create the category_value column"
   ]
  },
  {
   "cell_type": "code",
   "execution_count": 69,
   "id": "c933150b-dc4b-4f59-a8fa-b97c00c1826b",
   "metadata": {},
   "outputs": [
    {
     "name": "stderr",
     "output_type": "stream",
     "text": [
      "[Stage 1119:=======>                                                (1 + 7) / 8]\r"
     ]
    },
    {
     "name": "stdout",
     "output_type": "stream",
     "text": [
      "+-------------------+-------------------+-------+---------+------------------+--------------------+----------+----------+--------------+\n",
      "|            user_id|    last_order_time|recency|frequency|          monetary|            features|prediction|  category|category_value|\n",
      "+-------------------+-------------------+-------+---------+------------------+--------------------+----------+----------+--------------+\n",
      "|1515915625440051468|2020-10-10 16:27:29|     42|       19|           1619.51| [42.0,19.0,1619.51]|         2| Mid-Value|             2|\n",
      "|1515915625440121544|2020-10-04 12:18:21|     48|        7|            878.32|   [48.0,7.0,878.32]|         0| Low-Value|             3|\n",
      "|1515915625440937295|2020-11-19 15:36:46|      2|       18|1493.3400000000001|[2.0,18.0,1493.34...|         2| Mid-Value|             2|\n",
      "|1515915625440937382|2020-10-25 17:36:25|     27|       10| 757.6599999999999|[27.0,10.0,757.65...|         0| Low-Value|             3|\n",
      "|1515915625440937580|2020-10-10 10:52:42|     42|        8|            275.05|   [42.0,8.0,275.05]|         0| Low-Value|             3|\n",
      "|1515915625440940742|2020-09-16 13:59:35|     66|        2|59.910000000000004|[66.0,2.0,59.9100...|         0| Low-Value|             3|\n",
      "|1515915625440940932|2020-09-01 13:45:29|     81|        6|1854.2500000000002|[81.0,6.0,1854.25...|         2| Mid-Value|             2|\n",
      "|1515915625440941441|2020-01-16 12:06:23|    310|        1|             80.76|   [310.0,1.0,80.76]|         0| Low-Value|             3|\n",
      "|1515915625440943934|2020-10-11 17:17:47|     41|       24| 5877.459999999999|[41.0,24.0,5877.4...|         1|High-Value|             1|\n",
      "|1515915625440945265|2020-11-18 19:45:39|      3|       19| 5456.570000000001|[3.0,19.0,5456.57...|         1|High-Value|             1|\n",
      "|1515915625440946733|2020-10-19 12:37:07|     33|       26|           2698.23| [33.0,26.0,2698.23]|         2| Mid-Value|             2|\n",
      "|1515915625440947224|2020-09-23 16:35:40|     59|        7|198.67999999999998|[59.0,7.0,198.679...|         0| Low-Value|             3|\n",
      "|1515915625440947741|2020-11-14 13:57:16|      7|       50|          10036.37| [7.0,50.0,10036.37]|         1|High-Value|             1|\n",
      "|1515915625440949051|2020-11-07 19:45:06|     14|       30|2144.8500000000004|[14.0,30.0,2144.8...|         2| Mid-Value|             2|\n",
      "|1515915625440949578|2020-11-01 14:55:49|     20|        3|114.52000000000001|[20.0,3.0,114.520...|         0| Low-Value|             3|\n",
      "|1515915625440951258|2020-09-23 19:30:54|     59|       16|           3249.18| [59.0,16.0,3249.18]|         2| Mid-Value|             2|\n",
      "|1515915625440951523|2020-10-10 10:41:59|     42|       19|            587.28|  [42.0,19.0,587.28]|         0| Low-Value|             3|\n",
      "|1515915625440952019|2020-11-04 15:59:17|     17|       12|3929.8599999999997|[17.0,12.0,3929.8...|         1|High-Value|             1|\n",
      "|1515915625440952419|2020-09-07 18:56:31|     75|        6|248.79999999999995|[75.0,6.0,248.799...|         0| Low-Value|             3|\n",
      "|1515915625440954254|2020-08-17 23:46:54|     96|       10|            2646.3|  [96.0,10.0,2646.3]|         2| Mid-Value|             2|\n",
      "+-------------------+-------------------+-------+---------+------------------+--------------------+----------+----------+--------------+\n",
      "only showing top 20 rows\n",
      "\n"
     ]
    },
    {
     "name": "stderr",
     "output_type": "stream",
     "text": [
      "                                                                                \r"
     ]
    }
   ],
   "source": [
    "from pyspark.sql.functions import when\n",
    "\n",
    "category_conditions = [\n",
    "    (col(\"category\") == \"High-Value\", 1),\n",
    "    (col(\"category\") == \"Mid-Value\", 2),\n",
    "    (col(\"category\") == \"Low-Value\", 3)\n",
    "]\n",
    "\n",
    "df_with_categories = df_with_categories.withColumn(\"category_value\", \n",
    "                                 when(category_conditions[0][0], category_conditions[0][1])\n",
    "                                 .when(category_conditions[1][0], category_conditions[1][1])\n",
    "                                 .when(category_conditions[2][0], category_conditions[2][1])\n",
    "                                 .otherwise(None))\n",
    "\n",
    "df_with_categories.show()\n"
   ]
  },
  {
   "cell_type": "markdown",
   "id": "469d04be-4b33-432d-8475-99c98c2de2b1",
   "metadata": {},
   "source": [
    "# Drop unnecessary columns"
   ]
  },
  {
   "cell_type": "code",
   "execution_count": 70,
   "id": "256a866f-b9d2-4941-86d4-53533988e313",
   "metadata": {},
   "outputs": [],
   "source": [
    "df_cat = df_with_categories.drop(\"last_order_time\", \"features\", \"prediction\")"
   ]
  },
  {
   "cell_type": "code",
   "execution_count": 71,
   "id": "c079c665-6ff7-4233-b013-4e498576551d",
   "metadata": {},
   "outputs": [
    {
     "name": "stderr",
     "output_type": "stream",
     "text": [
      "[Stage 1129:=====================>                                  (3 + 5) / 8]\r"
     ]
    },
    {
     "name": "stdout",
     "output_type": "stream",
     "text": [
      "+-------------------+-------+---------+------------------+----------+--------------+\n",
      "|            user_id|recency|frequency|          monetary|  category|category_value|\n",
      "+-------------------+-------+---------+------------------+----------+--------------+\n",
      "|1515915625440051468|     42|       19|           1619.51| Mid-Value|             2|\n",
      "|1515915625440121544|     48|        7|            878.32| Low-Value|             3|\n",
      "|1515915625440937295|      2|       18|1493.3400000000001| Mid-Value|             2|\n",
      "|1515915625440937382|     27|       10| 757.6599999999999| Low-Value|             3|\n",
      "|1515915625440937580|     42|        8|            275.05| Low-Value|             3|\n",
      "|1515915625440940742|     66|        2|59.910000000000004| Low-Value|             3|\n",
      "|1515915625440940932|     81|        6|1854.2500000000002| Mid-Value|             2|\n",
      "|1515915625440941441|    310|        1|             80.76| Low-Value|             3|\n",
      "|1515915625440943934|     41|       24| 5877.459999999999|High-Value|             1|\n",
      "|1515915625440945265|      3|       19| 5456.570000000001|High-Value|             1|\n",
      "|1515915625440946733|     33|       26|           2698.23| Mid-Value|             2|\n",
      "|1515915625440947224|     59|        7|198.67999999999998| Low-Value|             3|\n",
      "|1515915625440947741|      7|       50|          10036.37|High-Value|             1|\n",
      "|1515915625440949051|     14|       30|2144.8500000000004| Mid-Value|             2|\n",
      "|1515915625440949578|     20|        3|114.52000000000001| Low-Value|             3|\n",
      "|1515915625440951258|     59|       16|           3249.18| Mid-Value|             2|\n",
      "|1515915625440951523|     42|       19|            587.28| Low-Value|             3|\n",
      "|1515915625440952019|     17|       12|3929.8599999999997|High-Value|             1|\n",
      "|1515915625440952419|     75|        6|248.79999999999995| Low-Value|             3|\n",
      "|1515915625440954254|     96|       10|            2646.3| Mid-Value|             2|\n",
      "+-------------------+-------+---------+------------------+----------+--------------+\n",
      "only showing top 20 rows\n",
      "\n"
     ]
    },
    {
     "name": "stderr",
     "output_type": "stream",
     "text": [
      "                                                                                \r"
     ]
    }
   ],
   "source": [
    "df_cat.show()"
   ]
  },
  {
   "cell_type": "markdown",
   "id": "afde20e0-4774-4da9-b29c-9d7a85543f59",
   "metadata": {},
   "source": [
    "# Join category dataframe with original dataframe"
   ]
  },
  {
   "cell_type": "code",
   "execution_count": 72,
   "id": "6fb047ed-d8b1-4c03-a2c1-06ef552a5c60",
   "metadata": {},
   "outputs": [
    {
     "name": "stderr",
     "output_type": "stream",
     "text": [
      "[Stage 1141:>                                                       (0 + 8) / 8]\r"
     ]
    },
    {
     "name": "stdout",
     "output_type": "stream",
     "text": [
      "+-------------------+-------------------+-------------------+-------------------+----------+-------+-------------+-------------+-------------+--------------------+--------+------------------+-------+---------+------------------+----------+--------------+\n",
      "|            user_id|         event_time|           order_id|        category_id|     brand|  price|        cat_1|        cat_2|        cat_3|max_purchase_by_user|class_id|    class_category|recency|frequency|          monetary|  category|category_value|\n",
      "+-------------------+-------------------+-------------------+-------------------+----------+-------+-------------+-------------+-------------+--------------------+--------+------------------+-------+---------+------------------+----------+--------------+\n",
      "|1515915625441612480|2020-02-10 16:48:37|2348791608045994250|2268105430162997728|       neo|  20.81|  electronics|        audio|    headphone|             1337.71|       4|Upper middle class|     18|       27|3760.3399999999997|High-Value|             1|\n",
      "|1515915625443940057|2020-02-08 11:57:41|2348791388851666961|2309018577547559593|       ggg|  30.07|      apparel|        shirt|miscellaneous|              694.42|       3|      Middle class|      2|       17|2958.9100000000003| Mid-Value|             2|\n",
      "|1515915625448231173|2020-06-23 13:58:21|2353275108837032055|2268105388555502202|   samsung| 810.16|   appliances|      kitchen|         oven|              895.81|       4|Upper middle class|      7|       19| 5060.650000000001|High-Value|             1|\n",
      "|1515915625452290673|2020-01-22 18:07:26|2348776920809734746|2268105408293897214|        hp|   9.93|   stationery|     cartrige|miscellaneous|               393.5|       2|Lower middle class|      2|       10|            525.78| Low-Value|             3|\n",
      "|1515915625455372283|2020-02-12 13:04:42|2348792334415561114|2268105426648170900|   samsung| 185.16|  electronics|       tablet|miscellaneous|             1157.38|       4|Upper middle class|     14|       24|           4688.55|High-Value|             1|\n",
      "|1515915625460013275|2020-01-21 17:38:19|2348776903453704554|2268105388555502202|   samsung| 462.94|   appliances|      kitchen|         oven|              578.68|       3|      Middle class|     26|       17|3749.6200000000003|High-Value|             1|\n",
      "|1515915625483792988|2020-06-22 16:03:24|2353273770635952932|2268105441647002326| panasonic| 106.46|   appliances|      kitchen|       kettle|              543.96|       3|      Middle class|     53|       10|           2050.69| Mid-Value|             2|\n",
      "|1515915625484619972|2020-01-21 13:35:46|2348777062342328622|2268105392070329020|   philips| 138.87|   appliances|  environment|       vacuum|              627.29|       3|      Middle class|     14|        7|           1312.35| Low-Value|             3|\n",
      "|1515915625484627601|2020-02-28 20:21:15|2348804799140462968|2268105428166508982|     honor|  69.19|  electronics|   smartphone|miscellaneous|             1736.09|       5|       Upper class|      2|       32|           9559.95|High-Value|             1|\n",
      "|1515915625484631448|2020-02-11 14:57:32|2348791644662268446|2268105430162997728|     trust|  37.01|  electronics|        audio|    headphone|              138.87|       2|Lower middle class|    142|        3|            187.43| Low-Value|             3|\n",
      "|1515915625484635841|2020-06-23 13:00:05|2353275308494291150|2268105391030141614| different|  13.87|   appliances|         iron|miscellaneous|             1212.94|       4|Upper middle class|     40|       35|           4277.33|High-Value|             1|\n",
      "|1515915625484642547|2020-01-17 11:48:58|2348774892939247745|2268105393848713950|  liebherr|1226.83|   appliances|      kitchen|refrigerators|             1226.83|       4|Upper middle class|     71|       17|3221.1299999999997| Mid-Value|             2|\n",
      "|1515915625484656830|2020-02-17 12:38:52|2348798506216456350|2268105409048870926|   tp-link|  13.87|    computers|      network|       router|              1300.9|       4|Upper middle class|      2|       21| 4607.389999999999|High-Value|             1|\n",
      "|1515915625492249288|2020-05-06 18:58:35|2303106530796372754|2268105440917193414|   polaris|  30.07|   appliances|      kitchen|        mixer|              412.01|       2|Lower middle class|     30|       23|            1606.9| Mid-Value|             2|\n",
      "|1515915625493616830|2020-02-11 17:21:53|2348792162482651974|2268105538568979268|  goodride|  48.82|miscellaneous|miscellaneous|miscellaneous|              856.23|       4|Upper middle class|     18|       13|           2329.41| Mid-Value|             2|\n",
      "|1515915625509841711|2020-06-26 18:22:29|2353279208291042259|2268105428166508982|   samsung|  300.9|  electronics|   smartphone|miscellaneous|               925.9|       4|Upper middle class|     34|        9|           2198.63| Mid-Value|             2|\n",
      "|1515915625511044406|2020-02-11 18:18:50|2348792348751692368|2268105389385974414|electrolux| 358.77|   appliances|      kitchen|         hood|             1041.64|       4|Upper middle class|     79|       31|           4871.38|High-Value|             1|\n",
      "|1515915625513331966|2020-01-22 13:20:53|2348776970906501355|2268105426908217754| transcend|   6.92|miscellaneous|miscellaneous|miscellaneous|              694.42|       3|      Middle class|    100|        9|1361.3700000000001| Low-Value|             3|\n",
      "|1515915625514159475|2020-02-28 21:15:33|2348804795617247592|2268105396776338182|     tailg| 601.83|miscellaneous|miscellaneous|miscellaneous|              601.83|       3|      Middle class|     36|       16|           2400.24| Mid-Value|             2|\n",
      "|1515915625514160671|2020-01-17 11:23:16|2348774840300733103|2268105430162997728|   samsung|   81.0|  electronics|        audio|    headphone|              925.67|       4|Upper middle class|      7|       11|           4728.22|High-Value|             1|\n",
      "+-------------------+-------------------+-------------------+-------------------+----------+-------+-------------+-------------+-------------+--------------------+--------+------------------+-------+---------+------------------+----------+--------------+\n",
      "only showing top 20 rows\n",
      "\n"
     ]
    },
    {
     "name": "stderr",
     "output_type": "stream",
     "text": [
      "                                                                                \r"
     ]
    }
   ],
   "source": [
    "catdf = classdf.join(df_cat, \"user_id\", \"left\")\n",
    "catdf.show()\n"
   ]
  },
  {
   "cell_type": "markdown",
   "id": "7a486e81-f03b-4fef-8566-139caead4402",
   "metadata": {},
   "source": [
    "# Download file"
   ]
  },
  {
   "cell_type": "code",
   "execution_count": 73,
   "id": "e28a1423-459b-4a46-9e8b-1dfe9eec6189",
   "metadata": {},
   "outputs": [
    {
     "name": "stderr",
     "output_type": "stream",
     "text": [
      "                                                                                \r"
     ]
    }
   ],
   "source": [
    "# output_path = \"CrystalClean\"\n",
    "# catdf.coalesce(1).write.csv(output_path, header=True)\n"
   ]
  },
  {
   "cell_type": "markdown",
   "id": "74f7f7fe-a5d8-466f-9322-036d652b4a73",
   "metadata": {},
   "source": [
    "# Check null values in dataframe "
   ]
  },
  {
   "cell_type": "code",
   "execution_count": 9,
   "id": "abcff561-f2d4-4e73-9004-0231841f1538",
   "metadata": {},
   "outputs": [
    {
     "name": "stderr",
     "output_type": "stream",
     "text": [
      "[Stage 20:==================================================>       (7 + 1) / 8]\r"
     ]
    },
    {
     "name": "stdout",
     "output_type": "stream",
     "text": [
      "+-------+----------+--------+-----------+-----+-----+-----+-----+-----+--------------------+--------+--------------+-------+---------+--------+--------+--------------+\n",
      "|user_id|event_time|order_id|category_id|brand|price|cat_1|cat_2|cat_3|max_purchase_by_user|class_id|class_category|recency|frequency|monetary|category|category_value|\n",
      "+-------+----------+--------+-----------+-----+-----+-----+-----+-----+--------------------+--------+--------------+-------+---------+--------+--------+--------------+\n",
      "|      0|         0|       0|          0|    0|    0|    0|    0|    0|                   0|       0|             0|      0|        0|       0|       0|             0|\n",
      "+-------+----------+--------+-----------+-----+-----+-----+-----+-----+--------------------+--------+--------------+-------+---------+--------+--------+--------------+\n",
      "\n"
     ]
    },
    {
     "name": "stderr",
     "output_type": "stream",
     "text": [
      "                                                                                \r"
     ]
    }
   ],
   "source": [
    "from pyspark.sql import functions as F\n",
    "null_cnt = [F.sum(F.col(column).isNull().cast(\"integer\")).alias(column) for column in catdf.columns]\n",
    "\n",
    "null_cnt_df = catdf.agg(*null_cnt)\n",
    "\n",
    "null_cnt_df.show()"
   ]
  },
  {
   "cell_type": "code",
   "execution_count": 8,
   "id": "3d8e5d43-e003-463b-8e8e-c74eccabd2e7",
   "metadata": {},
   "outputs": [
    {
     "data": {
      "text/plain": [
       "2060046"
      ]
     },
     "execution_count": 8,
     "metadata": {},
     "output_type": "execute_result"
    }
   ],
   "source": [
    "catdf.count()"
   ]
  },
  {
   "cell_type": "markdown",
   "id": "2763781f-11cd-46a2-82e4-f693198e3a23",
   "metadata": {},
   "source": [
    "# Load the clean file "
   ]
  },
  {
   "cell_type": "code",
   "execution_count": 7,
   "id": "5596cb48-0ed0-4c94-8027-377e46e92201",
   "metadata": {},
   "outputs": [
    {
     "name": "stderr",
     "output_type": "stream",
     "text": [
      "                                                                                \r"
     ]
    }
   ],
   "source": [
    "data_path = \"crystalClean.csv\"\n",
    "catdf= spark.read.csv(data_path, header=True, inferSchema=True)"
   ]
  },
  {
   "cell_type": "markdown",
   "id": "ffef15b4-6c5e-40c9-9fbd-2562915f5982",
   "metadata": {},
   "source": [
    "# Create new column Date from event_time column"
   ]
  },
  {
   "cell_type": "code",
   "execution_count": 10,
   "id": "e41390f6-3256-4bad-9c20-dfbb3bc83f32",
   "metadata": {},
   "outputs": [
    {
     "name": "stdout",
     "output_type": "stream",
     "text": [
      "+-------------------+-------------------+-------------------+-------------------+-----------+------+-------------+-------------+-------------+--------------------+--------+------------------+-------+---------+--------+---------+--------------+----------+\n",
      "|            user_id|         event_time|           order_id|        category_id|      brand| price|        cat_1|        cat_2|        cat_3|max_purchase_by_user|class_id|    class_category|recency|frequency|monetary| category|category_value|      Date|\n",
      "+-------------------+-------------------+-------------------+-------------------+-----------+------+-------------+-------------+-------------+--------------------+--------+------------------+-------+---------+--------+---------+--------------+----------+\n",
      "|1515915625440051468|2020-02-04 15:00:09|2348787268686184498|2268105402673529732|    rowenta| 25.44|miscellaneous|miscellaneous|miscellaneous|              403.45|       2|Lower middle class|     42|       19| 1619.51|Mid-Value|             2|2020-02-04|\n",
      "|1515915625440051468|2020-07-03 15:23:04|2353288131706355950|2268105428166508982|       oppo|138.87|  electronics|   smartphone|miscellaneous|              403.45|       2|Lower middle class|     42|       19| 1619.51|Mid-Value|             2|2020-07-03|\n",
      "|1515915625440051468|2020-01-25 12:04:48|2348778849963081747|2268105428166508982|       oppo|115.49|  electronics|   smartphone|miscellaneous|              403.45|       2|Lower middle class|     42|       19| 1619.51|Mid-Value|             2|2020-01-25|\n",
      "|1515915625440051468|2020-02-18 11:43:03|2348798557009478481|2268105442242593506|    akvafor|  7.62|miscellaneous|miscellaneous|miscellaneous|              403.45|       2|Lower middle class|     42|       19| 1619.51|Mid-Value|             2|2020-02-18|\n",
      "|1515915625440051468|2020-03-09 12:12:37|2348816136948154441|2268105494268740422|        neo| 30.07|miscellaneous|miscellaneous|miscellaneous|              403.45|       2|Lower middle class|     42|       19| 1619.51|Mid-Value|             2|2020-03-09|\n",
      "|1515915625440051468|2020-08-03 16:20:46|2367532145544527902|2268105428166508982|    samsung|173.59|  electronics|   smartphone|miscellaneous|              403.45|       2|Lower middle class|     42|       19| 1619.51|Mid-Value|             2|2020-08-03|\n",
      "|1515915625440051468|2020-03-18 12:44:00|2348821996986434350|2268105458457772096|       sony|403.45|      apparel|        glove|miscellaneous|              403.45|       2|Lower middle class|     42|       19| 1619.51|Mid-Value|             2|2020-03-18|\n",
      "|1515915625440051468|2020-03-10 17:53:22|2348815536416096948|2268105441747665624|    akvafor| 14.56|miscellaneous|miscellaneous|miscellaneous|              403.45|       2|Lower middle class|     42|       19| 1619.51|Mid-Value|             2|2020-03-10|\n",
      "|1515915625440051468|2020-06-01 16:32:58|2353242857592062086|2268105423527608654|     deluxe| 20.81|miscellaneous|miscellaneous|miscellaneous|              403.45|       2|Lower middle class|     42|       19| 1619.51|Mid-Value|             2|2020-06-01|\n",
      "|1515915625440051468|2020-02-20 17:10:47|2348798791538180315|2268105393278288594|     hintek| 32.38| construction|        tools|       heater|              403.45|       2|Lower middle class|     42|       19| 1619.51|Mid-Value|             2|2020-02-20|\n",
      "|1515915625440051468|2020-03-20 10:43:42|2348822548403191948|2268105506180563030|      grohe|184.72|miscellaneous|miscellaneous|miscellaneous|              403.45|       2|Lower middle class|     42|       19| 1619.51|Mid-Value|             2|2020-03-20|\n",
      "|1515915625440051468|2020-05-15 13:17:19|2353222590614471591|2268105635381903388|  technodom|  1.16|miscellaneous|miscellaneous|miscellaneous|              403.45|       2|Lower middle class|     42|       19| 1619.51|Mid-Value|             2|2020-05-15|\n",
      "|1515915625440051468|2020-09-23 16:20:39|2388440981134527235|2268105458457772096|       sony|403.45|      apparel|        glove|miscellaneous|              403.45|       2|Lower middle class|     42|       19| 1619.51|Mid-Value|             2|2020-09-23|\n",
      "|1515915625440051468|2020-05-31 11:16:14|2353241154201322224|2268105426983715228|        ava|  5.76| construction|        tools|        screw|              403.45|       2|Lower middle class|     42|       19| 1619.51|Mid-Value|             2|2020-05-31|\n",
      "|1515915625440051468|2020-02-09 10:16:47|2348792838528958849|2309018577363010213|        ggg| 20.81|      apparel|       tshirt|miscellaneous|              403.45|       2|Lower middle class|     42|       19| 1619.51|Mid-Value|             2|2020-02-09|\n",
      "|1515915625440051468|2020-06-05 19:25:42|2353248526445576833|2268105413008293994|     ausini|  2.06|miscellaneous|miscellaneous|miscellaneous|              403.45|       2|Lower middle class|     42|       19| 1619.51|Mid-Value|             2|2020-06-05|\n",
      "|1515915625440051468|2020-10-10 16:27:29|2388440981134600613|2268105426983715228|        ava|  5.76| construction|        tools|        screw|              403.45|       2|Lower middle class|     42|       19| 1619.51|Mid-Value|             2|2020-10-10|\n",
      "|1515915625440051468|2020-06-19 15:16:04|2353270647322312708|2268105442049655518|polimerbiht|  1.13|miscellaneous|miscellaneous|miscellaneous|              403.45|       2|Lower middle class|     42|       19| 1619.51|Mid-Value|             2|2020-06-19|\n",
      "|1515915625440051468|2020-05-21 09:52:15|2313703190987538444|2309018577547559593|        ggg| 32.38|      apparel|        shirt|miscellaneous|              403.45|       2|Lower middle class|     42|       19| 1619.51|Mid-Value|             2|2020-05-21|\n",
      "|1515915625440121544|2020-08-05 11:05:04|2368822801109876964|2268105440917193414|    maxwell| 16.18|   appliances|      kitchen|        mixer|               347.2|       2|Lower middle class|     48|        7|  878.32|Low-Value|             3|2020-08-05|\n",
      "+-------------------+-------------------+-------------------+-------------------+-----------+------+-------------+-------------+-------------+--------------------+--------+------------------+-------+---------+--------+---------+--------------+----------+\n",
      "only showing top 20 rows\n",
      "\n"
     ]
    }
   ],
   "source": [
    "from pyspark.sql.functions import col, to_date\n",
    "\n",
    "newdf = catdf.withColumn(\"Date\", to_date(col(\"event_time\")))\n",
    "newdf.show()\n"
   ]
  },
  {
   "cell_type": "code",
   "execution_count": 11,
   "id": "9df3d366-ac5c-47c6-a110-6bd2bfac7352",
   "metadata": {},
   "outputs": [
    {
     "data": {
      "text/plain": [
       "2060046"
      ]
     },
     "execution_count": 11,
     "metadata": {},
     "output_type": "execute_result"
    }
   ],
   "source": [
    "newdf.count()"
   ]
  },
  {
   "cell_type": "markdown",
   "id": "576eca3c-b659-4273-b318-b1d475f4b2db",
   "metadata": {},
   "source": [
    "# Check unique user IDs "
   ]
  },
  {
   "cell_type": "code",
   "execution_count": 12,
   "id": "88537dd6-897b-47cf-b187-d39594d3facf",
   "metadata": {},
   "outputs": [
    {
     "name": "stderr",
     "output_type": "stream",
     "text": [
      "[Stage 27:=====================>                                    (3 + 5) / 8]\r"
     ]
    },
    {
     "name": "stdout",
     "output_type": "stream",
     "text": [
      "Number of unique user_ids: 218524\n"
     ]
    },
    {
     "name": "stderr",
     "output_type": "stream",
     "text": [
      "                                                                                \r"
     ]
    }
   ],
   "source": [
    "from pyspark.sql import functions as F\n",
    "\n",
    "# Count the number of unique user_ids\n",
    "unique_user_count = newdf.select(F.countDistinct(\"user_id\")).first()[0]\n",
    "\n",
    "# Print the count\n",
    "print(\"Number of unique user_ids:\", unique_user_count)\n"
   ]
  },
  {
   "cell_type": "markdown",
   "id": "9e92b3af-0066-4c5f-a64b-e3074c884ea0",
   "metadata": {},
   "source": [
    "# Create new column Time (Hour, Minute, Second) from event_time"
   ]
  },
  {
   "cell_type": "code",
   "execution_count": 13,
   "id": "c0742f90-1870-4ec6-b0e6-d939772b1a53",
   "metadata": {},
   "outputs": [
    {
     "name": "stdout",
     "output_type": "stream",
     "text": [
      "+-------------------+-------------------+-------------------+-------------------+-----------+------+-------------+-------------+-------------+--------------------+--------+------------------+-------+---------+--------+---------+--------------+----------+--------+\n",
      "|            user_id|         event_time|           order_id|        category_id|      brand| price|        cat_1|        cat_2|        cat_3|max_purchase_by_user|class_id|    class_category|recency|frequency|monetary| category|category_value|      Date|    Time|\n",
      "+-------------------+-------------------+-------------------+-------------------+-----------+------+-------------+-------------+-------------+--------------------+--------+------------------+-------+---------+--------+---------+--------------+----------+--------+\n",
      "|1515915625440051468|2020-02-04 15:00:09|2348787268686184498|2268105402673529732|    rowenta| 25.44|miscellaneous|miscellaneous|miscellaneous|              403.45|       2|Lower middle class|     42|       19| 1619.51|Mid-Value|             2|2020-02-04|15:00:09|\n",
      "|1515915625440051468|2020-07-03 15:23:04|2353288131706355950|2268105428166508982|       oppo|138.87|  electronics|   smartphone|miscellaneous|              403.45|       2|Lower middle class|     42|       19| 1619.51|Mid-Value|             2|2020-07-03|15:23:04|\n",
      "|1515915625440051468|2020-01-25 12:04:48|2348778849963081747|2268105428166508982|       oppo|115.49|  electronics|   smartphone|miscellaneous|              403.45|       2|Lower middle class|     42|       19| 1619.51|Mid-Value|             2|2020-01-25|12:04:48|\n",
      "|1515915625440051468|2020-02-18 11:43:03|2348798557009478481|2268105442242593506|    akvafor|  7.62|miscellaneous|miscellaneous|miscellaneous|              403.45|       2|Lower middle class|     42|       19| 1619.51|Mid-Value|             2|2020-02-18|11:43:03|\n",
      "|1515915625440051468|2020-03-09 12:12:37|2348816136948154441|2268105494268740422|        neo| 30.07|miscellaneous|miscellaneous|miscellaneous|              403.45|       2|Lower middle class|     42|       19| 1619.51|Mid-Value|             2|2020-03-09|12:12:37|\n",
      "|1515915625440051468|2020-08-03 16:20:46|2367532145544527902|2268105428166508982|    samsung|173.59|  electronics|   smartphone|miscellaneous|              403.45|       2|Lower middle class|     42|       19| 1619.51|Mid-Value|             2|2020-08-03|16:20:46|\n",
      "|1515915625440051468|2020-03-18 12:44:00|2348821996986434350|2268105458457772096|       sony|403.45|      apparel|        glove|miscellaneous|              403.45|       2|Lower middle class|     42|       19| 1619.51|Mid-Value|             2|2020-03-18|12:44:00|\n",
      "|1515915625440051468|2020-03-10 17:53:22|2348815536416096948|2268105441747665624|    akvafor| 14.56|miscellaneous|miscellaneous|miscellaneous|              403.45|       2|Lower middle class|     42|       19| 1619.51|Mid-Value|             2|2020-03-10|17:53:22|\n",
      "|1515915625440051468|2020-06-01 16:32:58|2353242857592062086|2268105423527608654|     deluxe| 20.81|miscellaneous|miscellaneous|miscellaneous|              403.45|       2|Lower middle class|     42|       19| 1619.51|Mid-Value|             2|2020-06-01|16:32:58|\n",
      "|1515915625440051468|2020-02-20 17:10:47|2348798791538180315|2268105393278288594|     hintek| 32.38| construction|        tools|       heater|              403.45|       2|Lower middle class|     42|       19| 1619.51|Mid-Value|             2|2020-02-20|17:10:47|\n",
      "|1515915625440051468|2020-03-20 10:43:42|2348822548403191948|2268105506180563030|      grohe|184.72|miscellaneous|miscellaneous|miscellaneous|              403.45|       2|Lower middle class|     42|       19| 1619.51|Mid-Value|             2|2020-03-20|10:43:42|\n",
      "|1515915625440051468|2020-05-15 13:17:19|2353222590614471591|2268105635381903388|  technodom|  1.16|miscellaneous|miscellaneous|miscellaneous|              403.45|       2|Lower middle class|     42|       19| 1619.51|Mid-Value|             2|2020-05-15|13:17:19|\n",
      "|1515915625440051468|2020-09-23 16:20:39|2388440981134527235|2268105458457772096|       sony|403.45|      apparel|        glove|miscellaneous|              403.45|       2|Lower middle class|     42|       19| 1619.51|Mid-Value|             2|2020-09-23|16:20:39|\n",
      "|1515915625440051468|2020-05-31 11:16:14|2353241154201322224|2268105426983715228|        ava|  5.76| construction|        tools|        screw|              403.45|       2|Lower middle class|     42|       19| 1619.51|Mid-Value|             2|2020-05-31|11:16:14|\n",
      "|1515915625440051468|2020-02-09 10:16:47|2348792838528958849|2309018577363010213|        ggg| 20.81|      apparel|       tshirt|miscellaneous|              403.45|       2|Lower middle class|     42|       19| 1619.51|Mid-Value|             2|2020-02-09|10:16:47|\n",
      "|1515915625440051468|2020-06-05 19:25:42|2353248526445576833|2268105413008293994|     ausini|  2.06|miscellaneous|miscellaneous|miscellaneous|              403.45|       2|Lower middle class|     42|       19| 1619.51|Mid-Value|             2|2020-06-05|19:25:42|\n",
      "|1515915625440051468|2020-10-10 16:27:29|2388440981134600613|2268105426983715228|        ava|  5.76| construction|        tools|        screw|              403.45|       2|Lower middle class|     42|       19| 1619.51|Mid-Value|             2|2020-10-10|16:27:29|\n",
      "|1515915625440051468|2020-06-19 15:16:04|2353270647322312708|2268105442049655518|polimerbiht|  1.13|miscellaneous|miscellaneous|miscellaneous|              403.45|       2|Lower middle class|     42|       19| 1619.51|Mid-Value|             2|2020-06-19|15:16:04|\n",
      "|1515915625440051468|2020-05-21 09:52:15|2313703190987538444|2309018577547559593|        ggg| 32.38|      apparel|        shirt|miscellaneous|              403.45|       2|Lower middle class|     42|       19| 1619.51|Mid-Value|             2|2020-05-21|09:52:15|\n",
      "|1515915625440121544|2020-08-05 11:05:04|2368822801109876964|2268105440917193414|    maxwell| 16.18|   appliances|      kitchen|        mixer|               347.2|       2|Lower middle class|     48|        7|  878.32|Low-Value|             3|2020-08-05|11:05:04|\n",
      "+-------------------+-------------------+-------------------+-------------------+-----------+------+-------------+-------------+-------------+--------------------+--------+------------------+-------+---------+--------+---------+--------------+----------+--------+\n",
      "only showing top 20 rows\n",
      "\n"
     ]
    }
   ],
   "source": [
    "from pyspark.sql.functions import concat, format_string, hour, minute, second\n",
    "\n",
    "newdf = newdf.withColumn(\"Time\", format_string(\"%02d:%02d:%02d\", hour(\"event_time\"), minute(\"event_time\"), second(\"event_time\")))\n",
    "\n",
    "newdf.show()\n"
   ]
  },
  {
   "cell_type": "markdown",
   "id": "3f002347-ab69-4db5-9292-9d0ec4fdc20f",
   "metadata": {},
   "source": [
    "# Drop event_time column"
   ]
  },
  {
   "cell_type": "code",
   "execution_count": 14,
   "id": "d7202dcc-e5e3-401f-9a90-abc13790504c",
   "metadata": {},
   "outputs": [],
   "source": [
    "newdf = newdf.drop(\"event_time\")"
   ]
  },
  {
   "cell_type": "markdown",
   "id": "6790536f-5bcb-471e-a568-5cf45879f240",
   "metadata": {},
   "source": [
    "# Create spending column which contains total spend by unique user"
   ]
  },
  {
   "cell_type": "code",
   "execution_count": 15,
   "id": "88d45eda-292b-4095-a66f-68864db78c23",
   "metadata": {},
   "outputs": [
    {
     "name": "stderr",
     "output_type": "stream",
     "text": [
      "[Stage 34:=======>                                                  (1 + 7) / 8]\r"
     ]
    },
    {
     "name": "stdout",
     "output_type": "stream",
     "text": [
      "+-------------------+-------------------+-------------------+-----------+------+-------------+-------------+-------------+--------------------+--------+------------------+-------+---------+--------+---------+--------------+----------+--------+-----------------+\n",
      "|            user_id|           order_id|        category_id|      brand| price|        cat_1|        cat_2|        cat_3|max_purchase_by_user|class_id|    class_category|recency|frequency|monetary| category|category_value|      Date|    Time|         spending|\n",
      "+-------------------+-------------------+-------------------+-----------+------+-------------+-------------+-------------+--------------------+--------+------------------+-------+---------+--------+---------+--------------+----------+--------+-----------------+\n",
      "|1515915625440051468|2348787268686184498|2268105402673529732|    rowenta| 25.44|miscellaneous|miscellaneous|miscellaneous|              403.45|       2|Lower middle class|     42|       19| 1619.51|Mid-Value|             2|2020-02-04|15:00:09|          1619.51|\n",
      "|1515915625440051468|2353288131706355950|2268105428166508982|       oppo|138.87|  electronics|   smartphone|miscellaneous|              403.45|       2|Lower middle class|     42|       19| 1619.51|Mid-Value|             2|2020-07-03|15:23:04|          1619.51|\n",
      "|1515915625440051468|2348778849963081747|2268105428166508982|       oppo|115.49|  electronics|   smartphone|miscellaneous|              403.45|       2|Lower middle class|     42|       19| 1619.51|Mid-Value|             2|2020-01-25|12:04:48|          1619.51|\n",
      "|1515915625440051468|2348798557009478481|2268105442242593506|    akvafor|  7.62|miscellaneous|miscellaneous|miscellaneous|              403.45|       2|Lower middle class|     42|       19| 1619.51|Mid-Value|             2|2020-02-18|11:43:03|          1619.51|\n",
      "|1515915625440051468|2348816136948154441|2268105494268740422|        neo| 30.07|miscellaneous|miscellaneous|miscellaneous|              403.45|       2|Lower middle class|     42|       19| 1619.51|Mid-Value|             2|2020-03-09|12:12:37|          1619.51|\n",
      "|1515915625440051468|2367532145544527902|2268105428166508982|    samsung|173.59|  electronics|   smartphone|miscellaneous|              403.45|       2|Lower middle class|     42|       19| 1619.51|Mid-Value|             2|2020-08-03|16:20:46|          1619.51|\n",
      "|1515915625440051468|2348821996986434350|2268105458457772096|       sony|403.45|      apparel|        glove|miscellaneous|              403.45|       2|Lower middle class|     42|       19| 1619.51|Mid-Value|             2|2020-03-18|12:44:00|          1619.51|\n",
      "|1515915625440051468|2348815536416096948|2268105441747665624|    akvafor| 14.56|miscellaneous|miscellaneous|miscellaneous|              403.45|       2|Lower middle class|     42|       19| 1619.51|Mid-Value|             2|2020-03-10|17:53:22|          1619.51|\n",
      "|1515915625440051468|2353242857592062086|2268105423527608654|     deluxe| 20.81|miscellaneous|miscellaneous|miscellaneous|              403.45|       2|Lower middle class|     42|       19| 1619.51|Mid-Value|             2|2020-06-01|16:32:58|          1619.51|\n",
      "|1515915625440051468|2348798791538180315|2268105393278288594|     hintek| 32.38| construction|        tools|       heater|              403.45|       2|Lower middle class|     42|       19| 1619.51|Mid-Value|             2|2020-02-20|17:10:47|          1619.51|\n",
      "|1515915625440051468|2348822548403191948|2268105506180563030|      grohe|184.72|miscellaneous|miscellaneous|miscellaneous|              403.45|       2|Lower middle class|     42|       19| 1619.51|Mid-Value|             2|2020-03-20|10:43:42|          1619.51|\n",
      "|1515915625440051468|2353222590614471591|2268105635381903388|  technodom|  1.16|miscellaneous|miscellaneous|miscellaneous|              403.45|       2|Lower middle class|     42|       19| 1619.51|Mid-Value|             2|2020-05-15|13:17:19|          1619.51|\n",
      "|1515915625440051468|2388440981134527235|2268105458457772096|       sony|403.45|      apparel|        glove|miscellaneous|              403.45|       2|Lower middle class|     42|       19| 1619.51|Mid-Value|             2|2020-09-23|16:20:39|          1619.51|\n",
      "|1515915625440051468|2353241154201322224|2268105426983715228|        ava|  5.76| construction|        tools|        screw|              403.45|       2|Lower middle class|     42|       19| 1619.51|Mid-Value|             2|2020-05-31|11:16:14|          1619.51|\n",
      "|1515915625440051468|2348792838528958849|2309018577363010213|        ggg| 20.81|      apparel|       tshirt|miscellaneous|              403.45|       2|Lower middle class|     42|       19| 1619.51|Mid-Value|             2|2020-02-09|10:16:47|          1619.51|\n",
      "|1515915625440051468|2353248526445576833|2268105413008293994|     ausini|  2.06|miscellaneous|miscellaneous|miscellaneous|              403.45|       2|Lower middle class|     42|       19| 1619.51|Mid-Value|             2|2020-06-05|19:25:42|          1619.51|\n",
      "|1515915625440051468|2388440981134600613|2268105426983715228|        ava|  5.76| construction|        tools|        screw|              403.45|       2|Lower middle class|     42|       19| 1619.51|Mid-Value|             2|2020-10-10|16:27:29|          1619.51|\n",
      "|1515915625440051468|2353270647322312708|2268105442049655518|polimerbiht|  1.13|miscellaneous|miscellaneous|miscellaneous|              403.45|       2|Lower middle class|     42|       19| 1619.51|Mid-Value|             2|2020-06-19|15:16:04|          1619.51|\n",
      "|1515915625440051468|2313703190987538444|2309018577547559593|        ggg| 32.38|      apparel|        shirt|miscellaneous|              403.45|       2|Lower middle class|     42|       19| 1619.51|Mid-Value|             2|2020-05-21|09:52:15|          1619.51|\n",
      "|1515915625440121544|2368822801109876964|2268105440917193414|    maxwell| 16.18|   appliances|      kitchen|        mixer|               347.2|       2|Lower middle class|     48|        7|  878.32|Low-Value|             3|2020-08-05|11:05:04|878.3200000000002|\n",
      "+-------------------+-------------------+-------------------+-----------+------+-------------+-------------+-------------+--------------------+--------+------------------+-------+---------+--------+---------+--------------+----------+--------+-----------------+\n",
      "only showing top 20 rows\n",
      "\n"
     ]
    },
    {
     "name": "stderr",
     "output_type": "stream",
     "text": [
      "                                                                                \r"
     ]
    }
   ],
   "source": [
    "from pyspark.sql import Window\n",
    "from pyspark.sql import functions as F\n",
    "\n",
    "purchase = newdf.withColumn(\"spending\", F.sum(\"price\").over(Window.partitionBy(\"user_id\")))\n",
    "\n",
    "purchase.show()\n"
   ]
  },
  {
   "cell_type": "markdown",
   "id": "2813d207-14c4-44c0-a882-20939d12ace1",
   "metadata": {},
   "source": [
    "# Check min, max, avg of spending column"
   ]
  },
  {
   "cell_type": "code",
   "execution_count": 16,
   "id": "f99f16a6-2e2a-4a80-89fc-c373cac40219",
   "metadata": {},
   "outputs": [
    {
     "name": "stderr",
     "output_type": "stream",
     "text": [
      "[Stage 49:=======>                                                  (1 + 7) / 8]\r"
     ]
    },
    {
     "name": "stdout",
     "output_type": "stream",
     "text": [
      "Minimum Price: 0.02\n",
      "Maximum Price: 52328.31\n",
      "Average Price: 2203.42764967584\n"
     ]
    },
    {
     "name": "stderr",
     "output_type": "stream",
     "text": [
      "                                                                                \r"
     ]
    }
   ],
   "source": [
    "from pyspark.sql.functions import max as max_, min as min_, avg as avg_\n",
    "\n",
    "min_price = purchase.select(min_(\"spending\")).collect()[0][0]\n",
    "max_price = purchase.select(max_(\"spending\")).collect()[0][0]\n",
    "avg_price = purchase.select(avg_(\"spending\")).collect()[0][0]\n",
    "\n",
    "print(\"Minimum Price:\", min_price)\n",
    "print(\"Maximum Price:\", max_price)\n",
    "print(\"Average Price:\", avg_price)\n"
   ]
  },
  {
   "cell_type": "code",
   "execution_count": 17,
   "id": "478f5e47-cc1c-4a9e-9ef6-5bfcc0c40017",
   "metadata": {},
   "outputs": [],
   "source": [
    "purchase = purchase.withColumnRenamed(\"category\", \"customer_type\")\n",
    "purchase = purchase.withColumnRenamed(\"category_value\", \"cust_value\")"
   ]
  },
  {
   "cell_type": "code",
   "execution_count": 18,
   "id": "716806f3-03da-43ba-9056-44212a24e46d",
   "metadata": {},
   "outputs": [
    {
     "name": "stderr",
     "output_type": "stream",
     "text": [
      "[Stage 55:=======>                                                  (1 + 7) / 8]\r"
     ]
    },
    {
     "name": "stdout",
     "output_type": "stream",
     "text": [
      "+-------------------+-------------------+-------------------+-----------+------+-------------+-------------+-------------+--------------------+--------+------------------+-------+---------+--------+-------------+----------+----------+--------+-----------------+\n",
      "|            user_id|           order_id|        category_id|      brand| price|        cat_1|        cat_2|        cat_3|max_purchase_by_user|class_id|    class_category|recency|frequency|monetary|customer_type|cust_value|      Date|    Time|         spending|\n",
      "+-------------------+-------------------+-------------------+-----------+------+-------------+-------------+-------------+--------------------+--------+------------------+-------+---------+--------+-------------+----------+----------+--------+-----------------+\n",
      "|1515915625440051468|2348787268686184498|2268105402673529732|    rowenta| 25.44|miscellaneous|miscellaneous|miscellaneous|              403.45|       2|Lower middle class|     42|       19| 1619.51|    Mid-Value|         2|2020-02-04|15:00:09|          1619.51|\n",
      "|1515915625440051468|2353288131706355950|2268105428166508982|       oppo|138.87|  electronics|   smartphone|miscellaneous|              403.45|       2|Lower middle class|     42|       19| 1619.51|    Mid-Value|         2|2020-07-03|15:23:04|          1619.51|\n",
      "|1515915625440051468|2348778849963081747|2268105428166508982|       oppo|115.49|  electronics|   smartphone|miscellaneous|              403.45|       2|Lower middle class|     42|       19| 1619.51|    Mid-Value|         2|2020-01-25|12:04:48|          1619.51|\n",
      "|1515915625440051468|2348798557009478481|2268105442242593506|    akvafor|  7.62|miscellaneous|miscellaneous|miscellaneous|              403.45|       2|Lower middle class|     42|       19| 1619.51|    Mid-Value|         2|2020-02-18|11:43:03|          1619.51|\n",
      "|1515915625440051468|2348816136948154441|2268105494268740422|        neo| 30.07|miscellaneous|miscellaneous|miscellaneous|              403.45|       2|Lower middle class|     42|       19| 1619.51|    Mid-Value|         2|2020-03-09|12:12:37|          1619.51|\n",
      "|1515915625440051468|2367532145544527902|2268105428166508982|    samsung|173.59|  electronics|   smartphone|miscellaneous|              403.45|       2|Lower middle class|     42|       19| 1619.51|    Mid-Value|         2|2020-08-03|16:20:46|          1619.51|\n",
      "|1515915625440051468|2348821996986434350|2268105458457772096|       sony|403.45|      apparel|        glove|miscellaneous|              403.45|       2|Lower middle class|     42|       19| 1619.51|    Mid-Value|         2|2020-03-18|12:44:00|          1619.51|\n",
      "|1515915625440051468|2348815536416096948|2268105441747665624|    akvafor| 14.56|miscellaneous|miscellaneous|miscellaneous|              403.45|       2|Lower middle class|     42|       19| 1619.51|    Mid-Value|         2|2020-03-10|17:53:22|          1619.51|\n",
      "|1515915625440051468|2353242857592062086|2268105423527608654|     deluxe| 20.81|miscellaneous|miscellaneous|miscellaneous|              403.45|       2|Lower middle class|     42|       19| 1619.51|    Mid-Value|         2|2020-06-01|16:32:58|          1619.51|\n",
      "|1515915625440051468|2348798791538180315|2268105393278288594|     hintek| 32.38| construction|        tools|       heater|              403.45|       2|Lower middle class|     42|       19| 1619.51|    Mid-Value|         2|2020-02-20|17:10:47|          1619.51|\n",
      "|1515915625440051468|2348822548403191948|2268105506180563030|      grohe|184.72|miscellaneous|miscellaneous|miscellaneous|              403.45|       2|Lower middle class|     42|       19| 1619.51|    Mid-Value|         2|2020-03-20|10:43:42|          1619.51|\n",
      "|1515915625440051468|2353222590614471591|2268105635381903388|  technodom|  1.16|miscellaneous|miscellaneous|miscellaneous|              403.45|       2|Lower middle class|     42|       19| 1619.51|    Mid-Value|         2|2020-05-15|13:17:19|          1619.51|\n",
      "|1515915625440051468|2388440981134527235|2268105458457772096|       sony|403.45|      apparel|        glove|miscellaneous|              403.45|       2|Lower middle class|     42|       19| 1619.51|    Mid-Value|         2|2020-09-23|16:20:39|          1619.51|\n",
      "|1515915625440051468|2353241154201322224|2268105426983715228|        ava|  5.76| construction|        tools|        screw|              403.45|       2|Lower middle class|     42|       19| 1619.51|    Mid-Value|         2|2020-05-31|11:16:14|          1619.51|\n",
      "|1515915625440051468|2348792838528958849|2309018577363010213|        ggg| 20.81|      apparel|       tshirt|miscellaneous|              403.45|       2|Lower middle class|     42|       19| 1619.51|    Mid-Value|         2|2020-02-09|10:16:47|          1619.51|\n",
      "|1515915625440051468|2353248526445576833|2268105413008293994|     ausini|  2.06|miscellaneous|miscellaneous|miscellaneous|              403.45|       2|Lower middle class|     42|       19| 1619.51|    Mid-Value|         2|2020-06-05|19:25:42|          1619.51|\n",
      "|1515915625440051468|2388440981134600613|2268105426983715228|        ava|  5.76| construction|        tools|        screw|              403.45|       2|Lower middle class|     42|       19| 1619.51|    Mid-Value|         2|2020-10-10|16:27:29|          1619.51|\n",
      "|1515915625440051468|2353270647322312708|2268105442049655518|polimerbiht|  1.13|miscellaneous|miscellaneous|miscellaneous|              403.45|       2|Lower middle class|     42|       19| 1619.51|    Mid-Value|         2|2020-06-19|15:16:04|          1619.51|\n",
      "|1515915625440051468|2313703190987538444|2309018577547559593|        ggg| 32.38|      apparel|        shirt|miscellaneous|              403.45|       2|Lower middle class|     42|       19| 1619.51|    Mid-Value|         2|2020-05-21|09:52:15|          1619.51|\n",
      "|1515915625440121544|2368822801109876964|2268105440917193414|    maxwell| 16.18|   appliances|      kitchen|        mixer|               347.2|       2|Lower middle class|     48|        7|  878.32|    Low-Value|         3|2020-08-05|11:05:04|878.3200000000002|\n",
      "+-------------------+-------------------+-------------------+-----------+------+-------------+-------------+-------------+--------------------+--------+------------------+-------+---------+--------+-------------+----------+----------+--------+-----------------+\n",
      "only showing top 20 rows\n",
      "\n"
     ]
    },
    {
     "name": "stderr",
     "output_type": "stream",
     "text": [
      "                                                                                \r"
     ]
    }
   ],
   "source": [
    "purchase.show()"
   ]
  },
  {
   "cell_type": "markdown",
   "id": "99111bad-62fe-401f-a3cb-74bdf9c8bf28",
   "metadata": {},
   "source": [
    "# Create FDF dataframe"
   ]
  },
  {
   "cell_type": "code",
   "execution_count": 19,
   "id": "fcbf1d47-3f42-49e4-9c60-2628d87a7e3a",
   "metadata": {},
   "outputs": [],
   "source": [
    "fdf = purchase"
   ]
  },
  {
   "cell_type": "code",
   "execution_count": 24,
   "id": "32f33d34-5ac6-4ded-a0d6-8b8923dfa592",
   "metadata": {},
   "outputs": [
    {
     "name": "stderr",
     "output_type": "stream",
     "text": [
      "[Stage 88:======>                                                   (1 + 8) / 9]\r"
     ]
    },
    {
     "name": "stdout",
     "output_type": "stream",
     "text": [
      "+-------+--------+-----------+-----+-----+-----+-----+-----+--------------------+--------+--------------+-------+---------+--------+-------------+----------+----+----+--------+\n",
      "|user_id|order_id|category_id|brand|price|cat_1|cat_2|cat_3|max_purchase_by_user|class_id|class_category|recency|frequency|monetary|customer_type|cust_value|Date|Time|spending|\n",
      "+-------+--------+-----------+-----+-----+-----+-----+-----+--------------------+--------+--------------+-------+---------+--------+-------------+----------+----+----+--------+\n",
      "|      0|       0|          0|    0|    0|    0|    0|    0|                   0|       0|             0|      0|        0|       0|            0|         0|   0|   0|       0|\n",
      "+-------+--------+-----------+-----+-----+-----+-----+-----+--------------------+--------+--------------+-------+---------+--------+-------------+----------+----+----+--------+\n",
      "\n"
     ]
    },
    {
     "name": "stderr",
     "output_type": "stream",
     "text": [
      "                                                                                \r"
     ]
    }
   ],
   "source": [
    "from pyspark.sql import functions as F\n",
    "null_cnt = [F.sum(F.col(column).isNull().cast(\"integer\")).alias(column) for column in fdf.columns]\n",
    "\n",
    "null_cnt_df = fdf.agg(*null_cnt)\n",
    "\n",
    "null_cnt_df.show()"
   ]
  },
  {
   "cell_type": "code",
   "execution_count": 22,
   "id": "43b06c9e-21d0-4b18-8674-7ec2fac03b2b",
   "metadata": {},
   "outputs": [
    {
     "data": {
      "text/plain": [
       "[('user_id', 'bigint'),\n",
       " ('order_id', 'bigint'),\n",
       " ('category_id', 'bigint'),\n",
       " ('brand', 'string'),\n",
       " ('price', 'double'),\n",
       " ('cat_1', 'string'),\n",
       " ('cat_2', 'string'),\n",
       " ('cat_3', 'string'),\n",
       " ('max_purchase_by_user', 'double'),\n",
       " ('class_id', 'int'),\n",
       " ('class_category', 'string'),\n",
       " ('recency', 'int'),\n",
       " ('frequency', 'int'),\n",
       " ('monetary', 'double'),\n",
       " ('customer_type', 'string'),\n",
       " ('cust_value', 'int'),\n",
       " ('Date', 'date'),\n",
       " ('Time', 'string'),\n",
       " ('spending', 'double')]"
      ]
     },
     "execution_count": 22,
     "metadata": {},
     "output_type": "execute_result"
    }
   ],
   "source": [
    "fdf.dtypes"
   ]
  },
  {
   "cell_type": "code",
   "execution_count": 23,
   "id": "71801f80-c69a-459d-bf5f-b20c5be81b74",
   "metadata": {},
   "outputs": [
    {
     "name": "stderr",
     "output_type": "stream",
     "text": [
      "                                                                                \r"
     ]
    }
   ],
   "source": [
    "output_path = \"Crystal_Clean_Data\"\n",
    "fdf.coalesce(1).write.csv(output_path, header=True)\n"
   ]
  },
  {
   "cell_type": "code",
   "execution_count": null,
   "id": "dc824eb7-289a-45ed-8b1a-273fd6b8617d",
   "metadata": {},
   "outputs": [],
   "source": []
  },
  {
   "cell_type": "code",
   "execution_count": null,
   "id": "6795fd35-bbc9-44e1-8cff-6ee509858e4b",
   "metadata": {},
   "outputs": [],
   "source": []
  },
  {
   "cell_type": "code",
   "execution_count": null,
   "id": "70a0c7f0-87e6-426a-a94b-0b2a1a1f6301",
   "metadata": {},
   "outputs": [],
   "source": []
  }
 ],
 "metadata": {
  "kernelspec": {
   "display_name": "Python 3 (ipykernel)",
   "language": "python",
   "name": "python3"
  },
  "language_info": {
   "codemirror_mode": {
    "name": "ipython",
    "version": 3
   },
   "file_extension": ".py",
   "mimetype": "text/x-python",
   "name": "python",
   "nbconvert_exporter": "python",
   "pygments_lexer": "ipython3",
   "version": "3.10.12"
  }
 },
 "nbformat": 4,
 "nbformat_minor": 5
}
