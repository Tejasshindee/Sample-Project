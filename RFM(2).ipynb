{
 "cells": [
  {
   "cell_type": "code",
   "execution_count": 2,
   "id": "2d020cc4-8a0e-4dc3-9ec5-9caecc596977",
   "metadata": {},
   "outputs": [
    {
     "name": "stdout",
     "output_type": "stream",
     "text": [
      "Defaulting to user installation because normal site-packages is not writeable\n",
      "Requirement already satisfied: findspark in /home/hadoop/.local/lib/python3.10/site-packages (2.0.1)\n"
     ]
    }
   ],
   "source": [
    "!pip install findspark\n"
   ]
  },
  {
   "cell_type": "code",
   "execution_count": 3,
   "id": "adef1bc1-8052-4f1a-a15b-7eadf739fcc3",
   "metadata": {},
   "outputs": [],
   "source": [
    "import findspark\n",
    "findspark.init()\n"
   ]
  },
  {
   "cell_type": "code",
   "execution_count": 4,
   "id": "367283a5-a19d-44f8-b5a9-2bb8abe22c55",
   "metadata": {},
   "outputs": [
    {
     "name": "stderr",
     "output_type": "stream",
     "text": [
      "24/02/19 14:51:43 WARN Utils: Your hostname, tejasshinde-Nitro-AN515-55 resolves to a loopback address: 127.0.1.1; using 192.168.1.157 instead (on interface wlp0s20f3)\n",
      "24/02/19 14:51:43 WARN Utils: Set SPARK_LOCAL_IP if you need to bind to another address\n",
      "Setting default log level to \"WARN\".\n",
      "To adjust logging level use sc.setLogLevel(newLevel). For SparkR, use setLogLevel(newLevel).\n",
      "24/02/19 14:51:45 WARN NativeCodeLoader: Unable to load native-hadoop library for your platform... using builtin-java classes where applicable\n"
     ]
    }
   ],
   "source": [
    "from pyspark.sql import SparkSession\n",
    "\n",
    "spark = SparkSession.builder.appName(\"MySparkApp\").getOrCreate()\n"
   ]
  },
  {
   "cell_type": "markdown",
   "id": "d80b6048-5848-406c-8f04-a356fa818c24",
   "metadata": {},
   "source": [
    "# Load Clean Data"
   ]
  },
  {
   "cell_type": "code",
   "execution_count": 5,
   "id": "23d79bc0-a4be-4ed8-a52e-30ed36c051c3",
   "metadata": {},
   "outputs": [
    {
     "name": "stderr",
     "output_type": "stream",
     "text": [
      "                                                                                \r"
     ]
    }
   ],
   "source": [
    "data_path = \"nonull.csv\"\n",
    "df= spark.read.csv(data_path, header=True, inferSchema=True)\n",
    "\n"
   ]
  },
  {
   "cell_type": "code",
   "execution_count": 6,
   "id": "f9a768d8-9380-4f17-8caf-23a0e6865a69",
   "metadata": {},
   "outputs": [
    {
     "name": "stdout",
     "output_type": "stream",
     "text": [
      "+-------------------+-------------------+-------------------+-------------------+-------+------+-----------+-----------+---------------+-------------------+\n",
      "|         event_time|           order_id|         product_id|        category_id|  brand| price|      cat_1|      cat_2|          cat_3|            user_id|\n",
      "+-------------------+-------------------+-------------------+-------------------+-------+------+-----------+-----------+---------------+-------------------+\n",
      "|2020-04-29 20:11:49|2298069964415828136|1515966223509122874|2268105407933187062|     hp|152.52|  computers|peripherals|        printer|1515915625509647001|\n",
      "|2020-04-29 23:42:11|2298175846491357353|1515966223509122666|2268105430162997728|samsung|  8.08|electronics|      audio|      headphone|1515915625511889093|\n",
      "|2020-04-30 18:01:51|2298729326712980173|1515966223509089265|2360741866917331945|   beko|231.46| appliances|environment|air_conditioner|1515915625510823948|\n",
      "|2020-04-30 19:27:36|2298772487720140990|1515966223509335414|2268105430162997728|  razer|104.14|electronics|      audio|      headphone|1515915625512018088|\n",
      "|2020-04-30 21:37:48|2298838016631767159|1515966223509255514|2268105430162997728|philips| 32.38|electronics|      audio|      headphone|1515915625499309469|\n",
      "|2020-05-01 12:54:33|2299299428894245316|1515966223509089826|2268105406549066706|  delux|   6.0|  computers|peripherals|          mouse|1515915625514536341|\n",
      "|2020-05-01 22:40:42|2299594452823442104|1515966223509122666|2268105430162997728|samsung|  8.08|electronics|      audio|      headphone|1515915625484635108|\n",
      "|2020-05-02 23:25:58|2300342008322982139|2273948248047616169|2268105406549066706|  delux|  5.07|  computers|peripherals|          mouse|1515915625484676605|\n",
      "|2020-05-04 07:07:11|2301298926818427157|1515966223509351741|2268105419375247608|  varta|  0.69| stationery|    battery|  miscellaneous|1515915625512202402|\n",
      "|2020-05-06 08:37:23|2302793875086902264|1515966223509090254|2268105421933773102|  trust| 19.65|electronics|      audio|     microphone|1515915625484676302|\n",
      "|2020-05-06 11:40:59|2302886286089781416|1515966223509089722|2268105441856717530|    ava|  9.24| appliances|    kitchen|         kettle|1515915625512660612|\n",
      "|2020-05-06 18:58:35|2303106530796372754|2273948216456118473|2268105440917193414|polaris| 30.07| appliances|    kitchen|          mixer|1515915625492249288|\n",
      "|2020-05-07 17:06:03|2303774668819006287|1515966223509104779|2268105428166508982| huawei|277.75|electronics| smartphone|  miscellaneous|1515915625475938346|\n",
      "|2020-05-07 17:42:39|2303793094941737810|1515966223509104342|2268105430162997728| xiaomi| 25.44|electronics|      audio|      headphone|1515915625510239770|\n",
      "|2020-05-08 00:34:21|2304000304833627082|1515966223509117177|2268105464766005446|ninebot|608.77|       kids|     skates|  miscellaneous|1515915625511698424|\n",
      "|2020-05-09 06:14:01|2304896044028134084|1515966223509089293|2360741867017995243|   beko|266.18| appliances|environment|air_conditioner|1515915625448095694|\n",
      "|2020-05-10 14:59:23|2305885242767966747|2273948308370096764|2268105409048870926|  altel| 57.85|  computers|    network|         router|1515915625513605277|\n",
      "|2020-05-10 19:13:40|2306013232357180361|1515966223509088510|2268105428166508982| huawei|127.29|electronics| smartphone|  miscellaneous|1515915625511195241|\n",
      "|2020-05-11 08:18:33|2306408274540364573|1515966223509259282|2268105389956399770|indesit|198.13| appliances|    kitchen|         washer|1515915625512118829|\n",
      "|2020-05-11 10:41:08|2306480038981140584|1515966223509088613|2268105430162997728|  apple|203.68|electronics|      audio|      headphone|1515915625514504268|\n",
      "+-------------------+-------------------+-------------------+-------------------+-------+------+-----------+-----------+---------------+-------------------+\n",
      "only showing top 20 rows\n",
      "\n"
     ]
    }
   ],
   "source": [
    "df.show()"
   ]
  },
  {
   "cell_type": "code",
   "execution_count": 6,
   "id": "e69eea48-27b5-4795-a4bc-69a8195285f5",
   "metadata": {},
   "outputs": [],
   "source": [
    "# from pyspark.sql.functions import col, to_date\n",
    "\n",
    "# # Create new column Date from event_time column\n",
    "# df_date = df.withColumn(\"Date\", to_date(col(\"event_time\")))\n",
    "\n",
    "# df_date.show()\n",
    "\n",
    "\n"
   ]
  },
  {
   "cell_type": "code",
   "execution_count": 7,
   "id": "2f680541-8f96-46b2-b42c-ea6ac4b451b7",
   "metadata": {},
   "outputs": [
    {
     "name": "stderr",
     "output_type": "stream",
     "text": [
      "                                                                                \r"
     ]
    }
   ],
   "source": [
    "# output_path = \"WithDate\"\n",
    "# df_date.coalesce(1).write.csv(output_path, header=True)\n"
   ]
  },
  {
   "cell_type": "markdown",
   "id": "93de2357-d2e1-486e-ad79-9248c5ca9555",
   "metadata": {},
   "source": [
    "# Calculate RFM Values"
   ]
  },
  {
   "cell_type": "code",
   "execution_count": 7,
   "id": "328cc295-c892-4ab1-af4e-3fa85d7d40fd",
   "metadata": {},
   "outputs": [
    {
     "name": "stderr",
     "output_type": "stream",
     "text": [
      "24/02/19 14:52:31 WARN SparkSession: Using an existing Spark session; only runtime SQL configurations will take effect.\n",
      "[Stage 10:==============>                                           (2 + 6) / 8]\r"
     ]
    },
    {
     "name": "stdout",
     "output_type": "stream",
     "text": [
      "+-------------------+-------------------+-------+---------+------------------+\n",
      "|            user_id|    last_order_time|recency|frequency|          monetary|\n",
      "+-------------------+-------------------+-------+---------+------------------+\n",
      "|1515915625440051468|2020-10-10 16:27:29|     42|       19|           1619.51|\n",
      "|1515915625440121544|2020-10-04 12:18:21|     48|        7|            878.32|\n",
      "|1515915625440937295|2020-11-19 15:36:46|      2|       18|1493.3400000000001|\n",
      "|1515915625440937382|2020-10-25 17:36:25|     27|       10| 757.6599999999999|\n",
      "|1515915625440937580|2020-10-10 10:52:42|     42|        8|            275.05|\n",
      "|1515915625440940742|2020-09-16 13:59:35|     66|        2|59.910000000000004|\n",
      "|1515915625440940932|2020-09-01 13:45:29|     81|        6|1854.2500000000002|\n",
      "|1515915625440941441|2020-01-16 12:06:23|    310|        1|             80.76|\n",
      "|1515915625440943934|2020-10-11 17:17:47|     41|       24| 5877.459999999999|\n",
      "|1515915625440945265|2020-11-18 19:45:39|      3|       19| 5456.570000000001|\n",
      "|1515915625440946733|2020-10-19 12:37:07|     33|       26|           2698.23|\n",
      "|1515915625440947224|2020-09-23 16:35:40|     59|        7|198.67999999999998|\n",
      "|1515915625440947741|2020-11-14 13:57:16|      7|       50|          10036.37|\n",
      "|1515915625440949051|2020-11-07 19:45:06|     14|       30|2144.8500000000004|\n",
      "|1515915625440949578|2020-11-01 14:55:49|     20|        3|114.52000000000001|\n",
      "|1515915625440951258|2020-09-23 19:30:54|     59|       16|           3249.18|\n",
      "|1515915625440951523|2020-10-10 10:41:59|     42|       19|            587.28|\n",
      "|1515915625440952019|2020-11-04 15:59:17|     17|       12|3929.8599999999997|\n",
      "|1515915625440952419|2020-09-07 18:56:31|     75|        6|248.79999999999995|\n",
      "|1515915625440954254|2020-08-17 23:46:54|     96|       10|            2646.3|\n",
      "+-------------------+-------------------+-------+---------+------------------+\n",
      "only showing top 20 rows\n",
      "\n"
     ]
    },
    {
     "name": "stderr",
     "output_type": "stream",
     "text": [
      "                                                                                \r"
     ]
    }
   ],
   "source": [
    "from pyspark.sql.functions import col, max as max_, countDistinct, sum as sum_, datediff, lit\n",
    "\n",
    "# Initialize SparkSession\n",
    "spark = SparkSession.builder \\\n",
    "    .appName(\"RFM_Scores_Calculation\") \\\n",
    "    .getOrCreate()\n",
    "\n",
    "\n",
    "# Step 1: Calculate recency, frequency, and monetary values\n",
    "\n",
    "# Calculate recency (number of days since the last order)\n",
    "max_order_date = df.groupBy(\"user_id\").agg(max_(\"event_time\").alias(\"last_order_time\"))\n",
    "current_time = df.select(max_(\"event_time\")).head()[0]\n",
    "df_recency = max_order_date.withColumn(\"recency\", datediff(lit(current_time), col(\"last_order_time\")))\n",
    "\n",
    "# Calculate frequency (number of orders per user)\n",
    "df_frequency = df.groupBy(\"user_id\").agg(countDistinct(\"order_id\").alias(\"frequency\"))\n",
    "\n",
    "# Calculate monetary value (total spending per user)\n",
    "df_monetary = df.groupBy(\"user_id\").agg(sum_(\"price\").alias(\"monetary\"))\n",
    "\n",
    "# Step 2: Define the time frame for recency calculation (e.g., 90 days)\n",
    "\n",
    "# Step 3: Aggregate the data to calculate RFM scores\n",
    "rfm_data = df_recency.join(df_frequency, \"user_id\").join(df_monetary, \"user_id\")\n",
    "\n",
    "# Show the RFM data\n",
    "rfm_data.show()\n",
    "\n",
    "\n"
   ]
  },
  {
   "cell_type": "code",
   "execution_count": 8,
   "id": "9b29289c-9390-44c4-b445-328702311a0a",
   "metadata": {},
   "outputs": [
    {
     "name": "stderr",
     "output_type": "stream",
     "text": [
      "                                                                                \r"
     ]
    },
    {
     "data": {
      "text/plain": [
       "218524"
      ]
     },
     "execution_count": 8,
     "metadata": {},
     "output_type": "execute_result"
    }
   ],
   "source": [
    "rfm_data.count()"
   ]
  },
  {
   "cell_type": "markdown",
   "id": "3f564c45-1c5e-41d4-8d7a-10c2f559ac60",
   "metadata": {},
   "source": [
    "# Download RFM Data"
   ]
  },
  {
   "cell_type": "code",
   "execution_count": 22,
   "id": "2b30dbc1-c756-4a54-afc4-9937a84a8432",
   "metadata": {},
   "outputs": [
    {
     "name": "stderr",
     "output_type": "stream",
     "text": [
      "                                                                                \r"
     ]
    }
   ],
   "source": [
    "output_path = \"RFMData\"\n",
    "rfm_data.coalesce(1).write.csv(output_path, header=True)\n"
   ]
  },
  {
   "cell_type": "code",
   "execution_count": null,
   "id": "25c7addb-4013-447e-8f07-48cada6d968c",
   "metadata": {},
   "outputs": [],
   "source": []
  },
  {
   "cell_type": "code",
   "execution_count": 12,
   "id": "4cedaa99-a054-435f-8c44-990b77e17dfc",
   "metadata": {},
   "outputs": [
    {
     "name": "stderr",
     "output_type": "stream",
     "text": [
      "[Stage 461:=====================>                                   (3 + 5) / 8]\r"
     ]
    },
    {
     "name": "stdout",
     "output_type": "stream",
     "text": [
      "+-------------------+----------+\n",
      "|            user_id|prediction|\n",
      "+-------------------+----------+\n",
      "|1515915625440051468|         4|\n",
      "|1515915625440121544|         4|\n",
      "|1515915625440937295|         4|\n",
      "|1515915625440937382|         2|\n",
      "|1515915625440937580|         2|\n",
      "|1515915625440940742|         2|\n",
      "|1515915625440940932|         0|\n",
      "|1515915625440941441|         2|\n",
      "|1515915625440943934|         1|\n",
      "|1515915625440945265|         1|\n",
      "|1515915625440946733|         0|\n",
      "|1515915625440947224|         2|\n",
      "|1515915625440947741|         1|\n",
      "|1515915625440949051|         0|\n",
      "|1515915625440949578|         2|\n",
      "|1515915625440951258|         3|\n",
      "|1515915625440951523|         2|\n",
      "|1515915625440952019|         3|\n",
      "|1515915625440952419|         2|\n",
      "|1515915625440954254|         0|\n",
      "+-------------------+----------+\n",
      "only showing top 20 rows\n",
      "\n"
     ]
    },
    {
     "name": "stderr",
     "output_type": "stream",
     "text": [
      "                                                                                \r"
     ]
    }
   ],
   "source": [
    "from pyspark.ml.clustering import KMeans\n",
    "from pyspark.ml.feature import VectorAssembler\n",
    "from pyspark.sql import SparkSession\n",
    "\n",
    "# Initialize SparkSession\n",
    "spark = SparkSession.builder \\\n",
    "    .appName(\"RFM_Clustering\") \\\n",
    "    .getOrCreate()\n",
    "\n",
    "# Assemble the RFM values into a feature vector\n",
    "assembler = VectorAssembler(inputCols=[\"recency\", \"frequency\", \"monetary\"], outputCol=\"features\")\n",
    "rfm_features = assembler.transform(rfm_data).select(\"user_id\", \"features\")\n",
    "\n",
    "# Initialize KMeans with the number of clusters\n",
    "kmeans = KMeans(k=5, seed=42)\n",
    "\n",
    "# Fit the KMeans model to the data\n",
    "model = kmeans.fit(rfm_features)\n",
    "\n",
    "# Make predictions\n",
    "predictions = model.transform(rfm_features)\n",
    "\n",
    "# Show the cluster assignment for each user\n",
    "predictions.select(\"user_id\", \"prediction\").show()\n",
    "\n",
    "# Stop SparkSession\n",
    "# spark.stop()\n"
   ]
  },
  {
   "cell_type": "code",
   "execution_count": null,
   "id": "fafd7b35-bde7-4aa0-ad57-eb4d90a93354",
   "metadata": {},
   "outputs": [],
   "source": [
    "rfm_data = rfm_data.join(predictions, \"user_id\", \"left\")"
   ]
  },
  {
   "cell_type": "code",
   "execution_count": 20,
   "id": "f1392b9d-8fc8-4dd4-865a-80538d5a6d8d",
   "metadata": {},
   "outputs": [
    {
     "name": "stderr",
     "output_type": "stream",
     "text": [
      "[Stage 594:>                                                        (0 + 1) / 1]\r"
     ]
    },
    {
     "name": "stdout",
     "output_type": "stream",
     "text": [
      "+-------------------+-------------------+-------+---------+------------------+--------------------+----------+\n",
      "|            user_id|    last_order_time|recency|frequency|          monetary|            features|prediction|\n",
      "+-------------------+-------------------+-------+---------+------------------+--------------------+----------+\n",
      "|1515915625440051468|2020-10-10 16:27:29|     42|       19|           1619.51| [42.0,19.0,1619.51]|         4|\n",
      "|1515915625440121544|2020-10-04 12:18:21|     48|        7|            878.32|   [48.0,7.0,878.32]|         4|\n",
      "|1515915625440937295|2020-11-19 15:36:46|      2|       18|1493.3400000000001|[2.0,18.0,1493.34...|         4|\n",
      "|1515915625440937382|2020-10-25 17:36:25|     27|       10| 757.6599999999999|[27.0,10.0,757.65...|         2|\n",
      "|1515915625440937580|2020-10-10 10:52:42|     42|        8|            275.05|   [42.0,8.0,275.05]|         2|\n",
      "|1515915625440940742|2020-09-16 13:59:35|     66|        2|59.910000000000004|[66.0,2.0,59.9100...|         2|\n",
      "|1515915625440940932|2020-09-01 13:45:29|     81|        6|1854.2500000000002|[81.0,6.0,1854.25...|         0|\n",
      "|1515915625440941441|2020-01-16 12:06:23|    310|        1|             80.76|   [310.0,1.0,80.76]|         2|\n",
      "|1515915625440943934|2020-10-11 17:17:47|     41|       24| 5877.459999999999|[41.0,24.0,5877.4...|         1|\n",
      "|1515915625440945265|2020-11-18 19:45:39|      3|       19| 5456.570000000001|[3.0,19.0,5456.57...|         1|\n",
      "|1515915625440946733|2020-10-19 12:37:07|     33|       26|           2698.23| [33.0,26.0,2698.23]|         0|\n",
      "|1515915625440947224|2020-09-23 16:35:40|     59|        7|198.67999999999998|[59.0,7.0,198.679...|         2|\n",
      "|1515915625440947741|2020-11-14 13:57:16|      7|       50|          10036.37| [7.0,50.0,10036.37]|         1|\n",
      "|1515915625440949051|2020-11-07 19:45:06|     14|       30|2144.8500000000004|[14.0,30.0,2144.8...|         0|\n",
      "|1515915625440949578|2020-11-01 14:55:49|     20|        3|114.52000000000001|[20.0,3.0,114.520...|         2|\n",
      "|1515915625440951258|2020-09-23 19:30:54|     59|       16|           3249.18| [59.0,16.0,3249.18]|         3|\n",
      "|1515915625440951523|2020-10-10 10:41:59|     42|       19|            587.28|  [42.0,19.0,587.28]|         2|\n",
      "|1515915625440952019|2020-11-04 15:59:17|     17|       12|3929.8599999999997|[17.0,12.0,3929.8...|         3|\n",
      "|1515915625440952419|2020-09-07 18:56:31|     75|        6|248.79999999999995|[75.0,6.0,248.799...|         2|\n",
      "|1515915625440954254|2020-08-17 23:46:54|     96|       10|            2646.3|  [96.0,10.0,2646.3]|         0|\n",
      "+-------------------+-------------------+-------+---------+------------------+--------------------+----------+\n",
      "only showing top 20 rows\n",
      "\n"
     ]
    },
    {
     "name": "stderr",
     "output_type": "stream",
     "text": [
      "                                                                                \r"
     ]
    }
   ],
   "source": [
    "rfm_data.show()"
   ]
  },
  {
   "cell_type": "code",
   "execution_count": null,
   "id": "e4d1b956-b277-445c-80ca-aa9ee58b5ef2",
   "metadata": {},
   "outputs": [],
   "source": []
  },
  {
   "cell_type": "code",
   "execution_count": 26,
   "id": "cd63c608-a540-44b8-875a-5d0d433ab1e9",
   "metadata": {},
   "outputs": [
    {
     "name": "stderr",
     "output_type": "stream",
     "text": [
      "[Stage 681:=================================================>       (7 + 1) / 8]\r"
     ]
    },
    {
     "ename": "AnalysisException",
     "evalue": "[UNSUPPORTED_DATA_TYPE_FOR_DATASOURCE] The CSV datasource doesn't support the column `features` of the type \"STRUCT<type: TINYINT, size: INT, indices: ARRAY<INT>, values: ARRAY<DOUBLE>>\".",
     "output_type": "error",
     "traceback": [
      "\u001b[0;31m---------------------------------------------------------------------------\u001b[0m",
      "\u001b[0;31mAnalysisException\u001b[0m                         Traceback (most recent call last)",
      "Cell \u001b[0;32mIn[26], line 2\u001b[0m\n\u001b[1;32m      1\u001b[0m output_path \u001b[38;5;241m=\u001b[39m \u001b[38;5;124m\"\u001b[39m\u001b[38;5;124mRFMDataClusters\u001b[39m\u001b[38;5;124m\"\u001b[39m\n\u001b[0;32m----> 2\u001b[0m \u001b[43mrfm_data\u001b[49m\u001b[38;5;241;43m.\u001b[39;49m\u001b[43mcoalesce\u001b[49m\u001b[43m(\u001b[49m\u001b[38;5;241;43m1\u001b[39;49m\u001b[43m)\u001b[49m\u001b[38;5;241;43m.\u001b[39;49m\u001b[43mwrite\u001b[49m\u001b[38;5;241;43m.\u001b[39;49m\u001b[43mcsv\u001b[49m\u001b[43m(\u001b[49m\u001b[43moutput_path\u001b[49m\u001b[43m,\u001b[49m\u001b[43m \u001b[49m\u001b[43mheader\u001b[49m\u001b[38;5;241;43m=\u001b[39;49m\u001b[38;5;28;43;01mTrue\u001b[39;49;00m\u001b[43m)\u001b[49m\n",
      "File \u001b[0;32m~/spark-3.5.0-bin-hadoop3/python/pyspark/sql/readwriter.py:1864\u001b[0m, in \u001b[0;36mDataFrameWriter.csv\u001b[0;34m(self, path, mode, compression, sep, quote, escape, header, nullValue, escapeQuotes, quoteAll, dateFormat, timestampFormat, ignoreLeadingWhiteSpace, ignoreTrailingWhiteSpace, charToEscapeQuoteEscaping, encoding, emptyValue, lineSep)\u001b[0m\n\u001b[1;32m   1845\u001b[0m \u001b[38;5;28mself\u001b[39m\u001b[38;5;241m.\u001b[39mmode(mode)\n\u001b[1;32m   1846\u001b[0m \u001b[38;5;28mself\u001b[39m\u001b[38;5;241m.\u001b[39m_set_opts(\n\u001b[1;32m   1847\u001b[0m     compression\u001b[38;5;241m=\u001b[39mcompression,\n\u001b[1;32m   1848\u001b[0m     sep\u001b[38;5;241m=\u001b[39msep,\n\u001b[0;32m   (...)\u001b[0m\n\u001b[1;32m   1862\u001b[0m     lineSep\u001b[38;5;241m=\u001b[39mlineSep,\n\u001b[1;32m   1863\u001b[0m )\n\u001b[0;32m-> 1864\u001b[0m \u001b[38;5;28;43mself\u001b[39;49m\u001b[38;5;241;43m.\u001b[39;49m\u001b[43m_jwrite\u001b[49m\u001b[38;5;241;43m.\u001b[39;49m\u001b[43mcsv\u001b[49m\u001b[43m(\u001b[49m\u001b[43mpath\u001b[49m\u001b[43m)\u001b[49m\n",
      "File \u001b[0;32m~/spark-3.5.0-bin-hadoop3/python/lib/py4j-0.10.9.7-src.zip/py4j/java_gateway.py:1322\u001b[0m, in \u001b[0;36mJavaMember.__call__\u001b[0;34m(self, *args)\u001b[0m\n\u001b[1;32m   1316\u001b[0m command \u001b[38;5;241m=\u001b[39m proto\u001b[38;5;241m.\u001b[39mCALL_COMMAND_NAME \u001b[38;5;241m+\u001b[39m\\\n\u001b[1;32m   1317\u001b[0m     \u001b[38;5;28mself\u001b[39m\u001b[38;5;241m.\u001b[39mcommand_header \u001b[38;5;241m+\u001b[39m\\\n\u001b[1;32m   1318\u001b[0m     args_command \u001b[38;5;241m+\u001b[39m\\\n\u001b[1;32m   1319\u001b[0m     proto\u001b[38;5;241m.\u001b[39mEND_COMMAND_PART\n\u001b[1;32m   1321\u001b[0m answer \u001b[38;5;241m=\u001b[39m \u001b[38;5;28mself\u001b[39m\u001b[38;5;241m.\u001b[39mgateway_client\u001b[38;5;241m.\u001b[39msend_command(command)\n\u001b[0;32m-> 1322\u001b[0m return_value \u001b[38;5;241m=\u001b[39m \u001b[43mget_return_value\u001b[49m\u001b[43m(\u001b[49m\n\u001b[1;32m   1323\u001b[0m \u001b[43m    \u001b[49m\u001b[43manswer\u001b[49m\u001b[43m,\u001b[49m\u001b[43m \u001b[49m\u001b[38;5;28;43mself\u001b[39;49m\u001b[38;5;241;43m.\u001b[39;49m\u001b[43mgateway_client\u001b[49m\u001b[43m,\u001b[49m\u001b[43m \u001b[49m\u001b[38;5;28;43mself\u001b[39;49m\u001b[38;5;241;43m.\u001b[39;49m\u001b[43mtarget_id\u001b[49m\u001b[43m,\u001b[49m\u001b[43m \u001b[49m\u001b[38;5;28;43mself\u001b[39;49m\u001b[38;5;241;43m.\u001b[39;49m\u001b[43mname\u001b[49m\u001b[43m)\u001b[49m\n\u001b[1;32m   1325\u001b[0m \u001b[38;5;28;01mfor\u001b[39;00m temp_arg \u001b[38;5;129;01min\u001b[39;00m temp_args:\n\u001b[1;32m   1326\u001b[0m     \u001b[38;5;28;01mif\u001b[39;00m \u001b[38;5;28mhasattr\u001b[39m(temp_arg, \u001b[38;5;124m\"\u001b[39m\u001b[38;5;124m_detach\u001b[39m\u001b[38;5;124m\"\u001b[39m):\n",
      "File \u001b[0;32m~/spark-3.5.0-bin-hadoop3/python/pyspark/errors/exceptions/captured.py:185\u001b[0m, in \u001b[0;36mcapture_sql_exception.<locals>.deco\u001b[0;34m(*a, **kw)\u001b[0m\n\u001b[1;32m    181\u001b[0m converted \u001b[38;5;241m=\u001b[39m convert_exception(e\u001b[38;5;241m.\u001b[39mjava_exception)\n\u001b[1;32m    182\u001b[0m \u001b[38;5;28;01mif\u001b[39;00m \u001b[38;5;129;01mnot\u001b[39;00m \u001b[38;5;28misinstance\u001b[39m(converted, UnknownException):\n\u001b[1;32m    183\u001b[0m     \u001b[38;5;66;03m# Hide where the exception came from that shows a non-Pythonic\u001b[39;00m\n\u001b[1;32m    184\u001b[0m     \u001b[38;5;66;03m# JVM exception message.\u001b[39;00m\n\u001b[0;32m--> 185\u001b[0m     \u001b[38;5;28;01mraise\u001b[39;00m converted \u001b[38;5;28;01mfrom\u001b[39;00m \u001b[38;5;28;01mNone\u001b[39;00m\n\u001b[1;32m    186\u001b[0m \u001b[38;5;28;01melse\u001b[39;00m:\n\u001b[1;32m    187\u001b[0m     \u001b[38;5;28;01mraise\u001b[39;00m\n",
      "\u001b[0;31mAnalysisException\u001b[0m: [UNSUPPORTED_DATA_TYPE_FOR_DATASOURCE] The CSV datasource doesn't support the column `features` of the type \"STRUCT<type: TINYINT, size: INT, indices: ARRAY<INT>, values: ARRAY<DOUBLE>>\"."
     ]
    }
   ],
   "source": [
    "# output_path = \"RFMDataClusters\"\n",
    "# rfm_data.coalesce(1).write.csv(output_path, header=True)"
   ]
  },
  {
   "cell_type": "code",
   "execution_count": null,
   "id": "6bba70d5-a47a-4a22-a6b2-da9cd30e3afc",
   "metadata": {},
   "outputs": [],
   "source": []
  },
  {
   "cell_type": "code",
   "execution_count": 21,
   "id": "f537c62f-5c9f-4273-b02e-100e6a50519c",
   "metadata": {},
   "outputs": [
    {
     "name": "stderr",
     "output_type": "stream",
     "text": [
      "[Stage 606:==================================================>      (8 + 1) / 9]\r"
     ]
    },
    {
     "name": "stdout",
     "output_type": "stream",
     "text": [
      "+----------+------------------+\n",
      "|prediction|     max(monetary)|\n",
      "+----------+------------------+\n",
      "|         1|          52328.31|\n",
      "|         3|           4832.66|\n",
      "|         4|1747.6200000000001|\n",
      "|         2| 798.5699999999999|\n",
      "|         0|2964.4300000000003|\n",
      "+----------+------------------+\n",
      "\n"
     ]
    },
    {
     "name": "stderr",
     "output_type": "stream",
     "text": [
      "                                                                                \r"
     ]
    }
   ],
   "source": [
    "# Group the data by cluster and calculate the maximum spending for each cluster\n",
    "max_spending_per_cluster = rfm_data.groupBy(\"prediction\").agg({\"monetary\": \"max\"})\n",
    "\n",
    "# Show the results\n",
    "max_spending_per_cluster.show()\n"
   ]
  },
  {
   "cell_type": "code",
   "execution_count": null,
   "id": "f47f672c-2d23-473b-bcc8-56b70c16faac",
   "metadata": {},
   "outputs": [],
   "source": []
  },
  {
   "cell_type": "code",
   "execution_count": 22,
   "id": "175d19d6-f819-4be0-a284-e648ffb4f187",
   "metadata": {},
   "outputs": [
    {
     "name": "stderr",
     "output_type": "stream",
     "text": [
      "[Stage 617:============================>                            (4 + 4) / 8]\r"
     ]
    },
    {
     "name": "stdout",
     "output_type": "stream",
     "text": [
      "+----------+------------------+\n",
      "|prediction|     min(monetary)|\n",
      "+----------+------------------+\n",
      "|         1|           4832.73|\n",
      "|         3|2964.0099999999998|\n",
      "|         4|            790.29|\n",
      "|         2|              0.02|\n",
      "|         0|1745.4100000000003|\n",
      "+----------+------------------+\n",
      "\n"
     ]
    },
    {
     "name": "stderr",
     "output_type": "stream",
     "text": [
      "                                                                                \r"
     ]
    }
   ],
   "source": [
    "# Group the data by cluster and calculate the maximum spending for each cluster\n",
    "max_spending_per_cluster = rfm_data.groupBy(\"prediction\").agg({\"monetary\": \"min\"})\n",
    "\n",
    "# Show the results\n",
    "max_spending_per_cluster.show()\n"
   ]
  },
  {
   "cell_type": "code",
   "execution_count": null,
   "id": "bbd0956b-0471-4845-a335-ef6e9139e7f0",
   "metadata": {},
   "outputs": [],
   "source": []
  },
  {
   "cell_type": "code",
   "execution_count": 23,
   "id": "e29ba9f7-005c-4e02-be0d-23b22ce3a9ef",
   "metadata": {},
   "outputs": [],
   "source": [
    "from pyspark.sql.functions import col, when\n",
    "\n",
    "# Define conditions and values for the new column\n",
    "class_conditions = [\n",
    "    (col(\"prediction\") == 1, \"Upper class\"),\n",
    "    (col(\"prediction\") == 2, \"Lower class\"),\n",
    "    (col(\"prediction\") == 4, \"Lower middle class\"),\n",
    "    (col(\"prediction\") == 0, \"Middle class\"),\n",
    "    (col(\"prediction\") == 3, \"Upper middle class\")\n",
    "]\n",
    "\n",
    "# Apply the conditions using the when function\n",
    "df_class = rfm_data.withColumn(\"Class\", \n",
    "                   when(class_conditions[0][0], class_conditions[0][1])\n",
    "                   .when(class_conditions[1][0], class_conditions[1][1])\n",
    "                   .when(class_conditions[2][0], class_conditions[2][1])\n",
    "                   .when(class_conditions[3][0], class_conditions[3][1])\n",
    "                   .when(class_conditions[4][0], class_conditions[4][1])\n",
    "                   .otherwise(None))\n"
   ]
  },
  {
   "cell_type": "code",
   "execution_count": 24,
   "id": "c66e8fd4-b362-4a04-b372-5cccfe6afcb5",
   "metadata": {},
   "outputs": [
    {
     "name": "stderr",
     "output_type": "stream",
     "text": [
      "[Stage 637:=====================>                                   (3 + 5) / 8]\r"
     ]
    },
    {
     "name": "stdout",
     "output_type": "stream",
     "text": [
      "+-------------------+-------------------+-------+---------+------------------+--------------------+----------+------------------+\n",
      "|            user_id|    last_order_time|recency|frequency|          monetary|            features|prediction|             Class|\n",
      "+-------------------+-------------------+-------+---------+------------------+--------------------+----------+------------------+\n",
      "|1515915625440051468|2020-10-10 16:27:29|     42|       19|           1619.51| [42.0,19.0,1619.51]|         4|Lower middle class|\n",
      "|1515915625440121544|2020-10-04 12:18:21|     48|        7|            878.32|   [48.0,7.0,878.32]|         4|Lower middle class|\n",
      "|1515915625440937295|2020-11-19 15:36:46|      2|       18|1493.3400000000001|[2.0,18.0,1493.34...|         4|Lower middle class|\n",
      "|1515915625440937382|2020-10-25 17:36:25|     27|       10| 757.6599999999999|[27.0,10.0,757.65...|         2|       Lower class|\n",
      "|1515915625440937580|2020-10-10 10:52:42|     42|        8|            275.05|   [42.0,8.0,275.05]|         2|       Lower class|\n",
      "|1515915625440940742|2020-09-16 13:59:35|     66|        2|59.910000000000004|[66.0,2.0,59.9100...|         2|       Lower class|\n",
      "|1515915625440940932|2020-09-01 13:45:29|     81|        6|1854.2500000000002|[81.0,6.0,1854.25...|         0|      Middle class|\n",
      "|1515915625440941441|2020-01-16 12:06:23|    310|        1|             80.76|   [310.0,1.0,80.76]|         2|       Lower class|\n",
      "|1515915625440943934|2020-10-11 17:17:47|     41|       24| 5877.459999999999|[41.0,24.0,5877.4...|         1|       Upper class|\n",
      "|1515915625440945265|2020-11-18 19:45:39|      3|       19| 5456.570000000001|[3.0,19.0,5456.57...|         1|       Upper class|\n",
      "|1515915625440946733|2020-10-19 12:37:07|     33|       26|           2698.23| [33.0,26.0,2698.23]|         0|      Middle class|\n",
      "|1515915625440947224|2020-09-23 16:35:40|     59|        7|198.67999999999998|[59.0,7.0,198.679...|         2|       Lower class|\n",
      "|1515915625440947741|2020-11-14 13:57:16|      7|       50|          10036.37| [7.0,50.0,10036.37]|         1|       Upper class|\n",
      "|1515915625440949051|2020-11-07 19:45:06|     14|       30|2144.8500000000004|[14.0,30.0,2144.8...|         0|      Middle class|\n",
      "|1515915625440949578|2020-11-01 14:55:49|     20|        3|114.52000000000001|[20.0,3.0,114.520...|         2|       Lower class|\n",
      "|1515915625440951258|2020-09-23 19:30:54|     59|       16|           3249.18| [59.0,16.0,3249.18]|         3|Upper middle class|\n",
      "|1515915625440951523|2020-10-10 10:41:59|     42|       19|            587.28|  [42.0,19.0,587.28]|         2|       Lower class|\n",
      "|1515915625440952019|2020-11-04 15:59:17|     17|       12|3929.8599999999997|[17.0,12.0,3929.8...|         3|Upper middle class|\n",
      "|1515915625440952419|2020-09-07 18:56:31|     75|        6|248.79999999999995|[75.0,6.0,248.799...|         2|       Lower class|\n",
      "|1515915625440954254|2020-08-17 23:46:54|     96|       10|            2646.3|  [96.0,10.0,2646.3]|         0|      Middle class|\n",
      "+-------------------+-------------------+-------+---------+------------------+--------------------+----------+------------------+\n",
      "only showing top 20 rows\n",
      "\n"
     ]
    },
    {
     "name": "stderr",
     "output_type": "stream",
     "text": [
      "                                                                                \r"
     ]
    }
   ],
   "source": [
    "df_class.show()"
   ]
  },
  {
   "cell_type": "code",
   "execution_count": 28,
   "id": "6b8ddd72-aec1-4b83-8d37-ea647cbd89f3",
   "metadata": {},
   "outputs": [
    {
     "name": "stderr",
     "output_type": "stream",
     "text": [
      "[Stage 691:=======>                                                 (1 + 7) / 8]\r"
     ]
    },
    {
     "ename": "AnalysisException",
     "evalue": "[UNSUPPORTED_DATA_TYPE_FOR_DATASOURCE] The CSV datasource doesn't support the column `features` of the type \"STRUCT<type: TINYINT, size: INT, indices: ARRAY<INT>, values: ARRAY<DOUBLE>>\".",
     "output_type": "error",
     "traceback": [
      "\u001b[0;31m---------------------------------------------------------------------------\u001b[0m",
      "\u001b[0;31mAnalysisException\u001b[0m                         Traceback (most recent call last)",
      "Cell \u001b[0;32mIn[28], line 2\u001b[0m\n\u001b[1;32m      1\u001b[0m output_path \u001b[38;5;241m=\u001b[39m \u001b[38;5;124m\"\u001b[39m\u001b[38;5;124mNewClassesRFM\u001b[39m\u001b[38;5;124m\"\u001b[39m\n\u001b[0;32m----> 2\u001b[0m \u001b[43mdf_class\u001b[49m\u001b[38;5;241;43m.\u001b[39;49m\u001b[43mcoalesce\u001b[49m\u001b[43m(\u001b[49m\u001b[38;5;241;43m1\u001b[39;49m\u001b[43m)\u001b[49m\u001b[38;5;241;43m.\u001b[39;49m\u001b[43mwrite\u001b[49m\u001b[38;5;241;43m.\u001b[39;49m\u001b[43mcsv\u001b[49m\u001b[43m(\u001b[49m\u001b[43moutput_path\u001b[49m\u001b[43m,\u001b[49m\u001b[43m \u001b[49m\u001b[43mheader\u001b[49m\u001b[38;5;241;43m=\u001b[39;49m\u001b[38;5;28;43;01mTrue\u001b[39;49;00m\u001b[43m)\u001b[49m\n",
      "File \u001b[0;32m~/spark-3.5.0-bin-hadoop3/python/pyspark/sql/readwriter.py:1864\u001b[0m, in \u001b[0;36mDataFrameWriter.csv\u001b[0;34m(self, path, mode, compression, sep, quote, escape, header, nullValue, escapeQuotes, quoteAll, dateFormat, timestampFormat, ignoreLeadingWhiteSpace, ignoreTrailingWhiteSpace, charToEscapeQuoteEscaping, encoding, emptyValue, lineSep)\u001b[0m\n\u001b[1;32m   1845\u001b[0m \u001b[38;5;28mself\u001b[39m\u001b[38;5;241m.\u001b[39mmode(mode)\n\u001b[1;32m   1846\u001b[0m \u001b[38;5;28mself\u001b[39m\u001b[38;5;241m.\u001b[39m_set_opts(\n\u001b[1;32m   1847\u001b[0m     compression\u001b[38;5;241m=\u001b[39mcompression,\n\u001b[1;32m   1848\u001b[0m     sep\u001b[38;5;241m=\u001b[39msep,\n\u001b[0;32m   (...)\u001b[0m\n\u001b[1;32m   1862\u001b[0m     lineSep\u001b[38;5;241m=\u001b[39mlineSep,\n\u001b[1;32m   1863\u001b[0m )\n\u001b[0;32m-> 1864\u001b[0m \u001b[38;5;28;43mself\u001b[39;49m\u001b[38;5;241;43m.\u001b[39;49m\u001b[43m_jwrite\u001b[49m\u001b[38;5;241;43m.\u001b[39;49m\u001b[43mcsv\u001b[49m\u001b[43m(\u001b[49m\u001b[43mpath\u001b[49m\u001b[43m)\u001b[49m\n",
      "File \u001b[0;32m~/spark-3.5.0-bin-hadoop3/python/lib/py4j-0.10.9.7-src.zip/py4j/java_gateway.py:1322\u001b[0m, in \u001b[0;36mJavaMember.__call__\u001b[0;34m(self, *args)\u001b[0m\n\u001b[1;32m   1316\u001b[0m command \u001b[38;5;241m=\u001b[39m proto\u001b[38;5;241m.\u001b[39mCALL_COMMAND_NAME \u001b[38;5;241m+\u001b[39m\\\n\u001b[1;32m   1317\u001b[0m     \u001b[38;5;28mself\u001b[39m\u001b[38;5;241m.\u001b[39mcommand_header \u001b[38;5;241m+\u001b[39m\\\n\u001b[1;32m   1318\u001b[0m     args_command \u001b[38;5;241m+\u001b[39m\\\n\u001b[1;32m   1319\u001b[0m     proto\u001b[38;5;241m.\u001b[39mEND_COMMAND_PART\n\u001b[1;32m   1321\u001b[0m answer \u001b[38;5;241m=\u001b[39m \u001b[38;5;28mself\u001b[39m\u001b[38;5;241m.\u001b[39mgateway_client\u001b[38;5;241m.\u001b[39msend_command(command)\n\u001b[0;32m-> 1322\u001b[0m return_value \u001b[38;5;241m=\u001b[39m \u001b[43mget_return_value\u001b[49m\u001b[43m(\u001b[49m\n\u001b[1;32m   1323\u001b[0m \u001b[43m    \u001b[49m\u001b[43manswer\u001b[49m\u001b[43m,\u001b[49m\u001b[43m \u001b[49m\u001b[38;5;28;43mself\u001b[39;49m\u001b[38;5;241;43m.\u001b[39;49m\u001b[43mgateway_client\u001b[49m\u001b[43m,\u001b[49m\u001b[43m \u001b[49m\u001b[38;5;28;43mself\u001b[39;49m\u001b[38;5;241;43m.\u001b[39;49m\u001b[43mtarget_id\u001b[49m\u001b[43m,\u001b[49m\u001b[43m \u001b[49m\u001b[38;5;28;43mself\u001b[39;49m\u001b[38;5;241;43m.\u001b[39;49m\u001b[43mname\u001b[49m\u001b[43m)\u001b[49m\n\u001b[1;32m   1325\u001b[0m \u001b[38;5;28;01mfor\u001b[39;00m temp_arg \u001b[38;5;129;01min\u001b[39;00m temp_args:\n\u001b[1;32m   1326\u001b[0m     \u001b[38;5;28;01mif\u001b[39;00m \u001b[38;5;28mhasattr\u001b[39m(temp_arg, \u001b[38;5;124m\"\u001b[39m\u001b[38;5;124m_detach\u001b[39m\u001b[38;5;124m\"\u001b[39m):\n",
      "File \u001b[0;32m~/spark-3.5.0-bin-hadoop3/python/pyspark/errors/exceptions/captured.py:185\u001b[0m, in \u001b[0;36mcapture_sql_exception.<locals>.deco\u001b[0;34m(*a, **kw)\u001b[0m\n\u001b[1;32m    181\u001b[0m converted \u001b[38;5;241m=\u001b[39m convert_exception(e\u001b[38;5;241m.\u001b[39mjava_exception)\n\u001b[1;32m    182\u001b[0m \u001b[38;5;28;01mif\u001b[39;00m \u001b[38;5;129;01mnot\u001b[39;00m \u001b[38;5;28misinstance\u001b[39m(converted, UnknownException):\n\u001b[1;32m    183\u001b[0m     \u001b[38;5;66;03m# Hide where the exception came from that shows a non-Pythonic\u001b[39;00m\n\u001b[1;32m    184\u001b[0m     \u001b[38;5;66;03m# JVM exception message.\u001b[39;00m\n\u001b[0;32m--> 185\u001b[0m     \u001b[38;5;28;01mraise\u001b[39;00m converted \u001b[38;5;28;01mfrom\u001b[39;00m \u001b[38;5;28;01mNone\u001b[39;00m\n\u001b[1;32m    186\u001b[0m \u001b[38;5;28;01melse\u001b[39;00m:\n\u001b[1;32m    187\u001b[0m     \u001b[38;5;28;01mraise\u001b[39;00m\n",
      "\u001b[0;31mAnalysisException\u001b[0m: [UNSUPPORTED_DATA_TYPE_FOR_DATASOURCE] The CSV datasource doesn't support the column `features` of the type \"STRUCT<type: TINYINT, size: INT, indices: ARRAY<INT>, values: ARRAY<DOUBLE>>\"."
     ]
    }
   ],
   "source": [
    "# output_path = \"NewClassesRFM\"\n",
    "# df_class.coalesce(1).write.csv(output_path, header=True)\n"
   ]
  },
  {
   "cell_type": "code",
   "execution_count": 25,
   "id": "580237f7-c9da-4eac-a973-f3e8f63fff0c",
   "metadata": {},
   "outputs": [
    {
     "name": "stderr",
     "output_type": "stream",
     "text": [
      "                                                                                \r"
     ]
    },
    {
     "data": {
      "image/png": "[encoded data removed]",
      "text/plain": [
       "<Figure size 640x480 with 1 Axes>"
      ]
     },
     "metadata": {},
     "output_type": "display_data"
    }
   ],
   "source": [
    "import matplotlib.pyplot as plt\n",
    "\n",
    "# Group the DataFrame by Class and count the number of users in each class\n",
    "class_counts = df_class.groupBy(\"Class\").count().orderBy(\"Class\").collect()\n",
    "\n",
    "# Extract class names and corresponding user counts\n",
    "classes = [row[\"Class\"] for row in class_counts]\n",
    "user_counts = [row[\"count\"] for row in class_counts]\n",
    "\n",
    "# Plot the bar graph\n",
    "plt.bar(classes, user_counts, color='blue')\n",
    "plt.xlabel('Class')\n",
    "plt.ylabel('Number of Users')\n",
    "plt.title('Number of Users in Each Class')\n",
    "plt.xticks(rotation=45)  # Rotate x-axis labels for better readability\n",
    "plt.show()\n"
   ]
  },
  {
   "cell_type": "code",
   "execution_count": null,
   "id": "a16d60e9-9809-46bd-83c6-05ce68dabe03",
   "metadata": {},
   "outputs": [],
   "source": []
  },
  {
   "cell_type": "code",
   "execution_count": 10,
   "id": "41e88203-3898-49dc-ab25-cdebb67e59ff",
   "metadata": {},
   "outputs": [
    {
     "name": "stderr",
     "output_type": "stream",
     "text": [
      "                                                                                \r"
     ]
    },
    {
     "data": {
      "image/png": "[encoded data removed]",
      "text/plain": [
       "<Figure size 640x480 with 1 Axes>"
      ]
     },
     "metadata": {},
     "output_type": "display_data"
    }
   ],
   "source": [
    "import matplotlib.pyplot as plt\n",
    "\n",
    "# Group the predictions by cluster and count the number of users in each cluster\n",
    "cluster_counts = predictions.groupBy(\"prediction\").count().orderBy(\"prediction\").collect()\n",
    "\n",
    "# Extract cluster numbers and corresponding user counts\n",
    "clusters = [row[\"prediction\"] for row in cluster_counts]\n",
    "user_counts = [row[\"count\"] for row in cluster_counts]\n",
    "\n",
    "# Plot the bar graph\n",
    "plt.bar(clusters, user_counts, color='blue')\n",
    "plt.xlabel('Cluster')\n",
    "plt.ylabel('Number of Users')\n",
    "plt.title('Number of Users in Each Cluster')\n",
    "plt.xticks(clusters)\n",
    "plt.show()\n"
   ]
  },
  {
   "cell_type": "code",
   "execution_count": null,
   "id": "abbc58dc-8305-48c2-b1d7-5d1e219f1f89",
   "metadata": {},
   "outputs": [],
   "source": []
  },
  {
   "cell_type": "code",
   "execution_count": 15,
   "id": "61add0dc-3453-4023-95b6-784db9d45634",
   "metadata": {},
   "outputs": [
    {
     "name": "stderr",
     "output_type": "stream",
     "text": [
      "                                                                                \r"
     ]
    },
    {
     "data": {
      "image/png": "[encoded data removed]",
      "text/plain": [
       "<Figure size 1500x500 with 3 Axes>"
      ]
     },
     "metadata": {},
     "output_type": "display_data"
    }
   ],
   "source": [
    "import matplotlib.pyplot as plt\n",
    "\n",
    "# Filter the DataFrame to get RFM values of users in cluster 1\n",
    "cluster_1_rfm = rfm_data.filter(rfm_data[\"prediction\"] == 1)\n",
    "\n",
    "# Extract RFM values for cluster 1\n",
    "recency_values = cluster_1_rfm.select(\"recency\").rdd.flatMap(lambda x: x).collect()\n",
    "frequency_values = cluster_1_rfm.select(\"frequency\").rdd.flatMap(lambda x: x).collect()\n",
    "monetary_values = cluster_1_rfm.select(\"monetary\").rdd.flatMap(lambda x: x).collect()\n",
    "\n",
    "# Plot histograms for RFM values\n",
    "plt.figure(figsize=(15, 5))\n",
    "\n",
    "plt.subplot(1, 3, 1)\n",
    "plt.hist(recency_values, bins=20, color='blue', alpha=0.7)\n",
    "plt.xlabel('Recency')\n",
    "plt.ylabel('Frequency')\n",
    "plt.title('Recency Distribution for Cluster 1')\n",
    "\n",
    "plt.subplot(1, 3, 2)\n",
    "plt.hist(frequency_values, bins=20, color='green', alpha=0.7)\n",
    "plt.xlabel('Frequency')\n",
    "plt.ylabel('Frequency')\n",
    "plt.title('Frequency Distribution for Cluster 1')\n",
    "\n",
    "plt.subplot(1, 3, 3)\n",
    "plt.hist(monetary_values, bins=20, color='red', alpha=0.7)\n",
    "plt.xlabel('Monetary')\n",
    "plt.ylabel('Frequency')\n",
    "plt.title('Monetary Distribution for Cluster 1')\n",
    "\n",
    "plt.tight_layout()\n",
    "plt.show()\n"
   ]
  },
  {
   "cell_type": "code",
   "execution_count": null,
   "id": "8ed5862f-c1bc-4e5d-ab4c-75bcdaa7e09f",
   "metadata": {},
   "outputs": [],
   "source": []
  },
  {
   "cell_type": "code",
   "execution_count": 16,
   "id": "4f738c7b-29e2-4999-888d-2aa9ddb3c34d",
   "metadata": {},
   "outputs": [
    {
     "name": "stderr",
     "output_type": "stream",
     "text": [
      "                                                                                \r"
     ]
    },
    {
     "data": {
      "image/png": "[encoded data removed]",
      "text/plain": [
       "<Figure size 1500x500 with 3 Axes>"
      ]
     },
     "metadata": {},
     "output_type": "display_data"
    }
   ],
   "source": [
    "import matplotlib.pyplot as plt\n",
    "\n",
    "# Filter the DataFrame to get RFM values of users in cluster 1\n",
    "cluster_1_rfm = rfm_data.filter(rfm_data[\"prediction\"] == 0)\n",
    "\n",
    "# Extract RFM values for cluster 1\n",
    "recency_values = cluster_1_rfm.select(\"recency\").rdd.flatMap(lambda x: x).collect()\n",
    "frequency_values = cluster_1_rfm.select(\"frequency\").rdd.flatMap(lambda x: x).collect()\n",
    "monetary_values = cluster_1_rfm.select(\"monetary\").rdd.flatMap(lambda x: x).collect()\n",
    "\n",
    "# Plot histograms for RFM values\n",
    "plt.figure(figsize=(15, 5))\n",
    "\n",
    "plt.subplot(1, 3, 1)\n",
    "plt.hist(recency_values, bins=20, color='blue', alpha=0.7)\n",
    "plt.xlabel('Recency')\n",
    "plt.ylabel('Frequency')\n",
    "plt.title('Recency Distribution for Cluster 0')\n",
    "\n",
    "plt.subplot(1, 3, 2)\n",
    "plt.hist(frequency_values, bins=20, color='green', alpha=0.7)\n",
    "plt.xlabel('Frequency')\n",
    "plt.ylabel('Frequency')\n",
    "plt.title('Frequency Distribution for Cluster 0')\n",
    "\n",
    "plt.subplot(1, 3, 3)\n",
    "plt.hist(monetary_values, bins=20, color='red', alpha=0.7)\n",
    "plt.xlabel('Monetary')\n",
    "plt.ylabel('Frequency')\n",
    "plt.title('Monetary Distribution for Cluster 0')\n",
    "\n",
    "plt.tight_layout()\n",
    "plt.show()\n"
   ]
  },
  {
   "cell_type": "code",
   "execution_count": null,
   "id": "ec433281-6afe-4f57-89e0-e925931529e3",
   "metadata": {},
   "outputs": [],
   "source": []
  },
  {
   "cell_type": "code",
   "execution_count": 17,
   "id": "7c8d825c-fe40-4068-81c1-7a787f3df814",
   "metadata": {},
   "outputs": [
    {
     "name": "stderr",
     "output_type": "stream",
     "text": [
      "                                                                                \r"
     ]
    },
    {
     "data": {
      "image/png": "[encoded data removed]",
      "text/plain": [
       "<Figure size 1500x500 with 3 Axes>"
      ]
     },
     "metadata": {},
     "output_type": "display_data"
    }
   ],
   "source": [
    "import matplotlib.pyplot as plt\n",
    "\n",
    "# Filter the DataFrame to get RFM values of users in cluster 1\n",
    "cluster_1_rfm = rfm_data.filter(rfm_data[\"prediction\"] == 4)\n",
    "\n",
    "# Extract RFM values for cluster 1\n",
    "recency_values = cluster_1_rfm.select(\"recency\").rdd.flatMap(lambda x: x).collect()\n",
    "frequency_values = cluster_1_rfm.select(\"frequency\").rdd.flatMap(lambda x: x).collect()\n",
    "monetary_values = cluster_1_rfm.select(\"monetary\").rdd.flatMap(lambda x: x).collect()\n",
    "\n",
    "# Plot histograms for RFM values\n",
    "plt.figure(figsize=(15, 5))\n",
    "\n",
    "plt.subplot(1, 3, 1)\n",
    "plt.hist(recency_values, bins=20, color='blue', alpha=0.7)\n",
    "plt.xlabel('Recency')\n",
    "plt.ylabel('Frequency')\n",
    "plt.title('Recency Distribution for Cluster 4')\n",
    "\n",
    "plt.subplot(1, 3, 2)\n",
    "plt.hist(frequency_values, bins=20, color='green', alpha=0.7)\n",
    "plt.xlabel('Frequency')\n",
    "plt.ylabel('Frequency')\n",
    "plt.title('Frequency Distribution for Cluster 4')\n",
    "\n",
    "plt.subplot(1, 3, 3)\n",
    "plt.hist(monetary_values, bins=20, color='red', alpha=0.7)\n",
    "plt.xlabel('Monetary')\n",
    "plt.ylabel('Frequency')\n",
    "plt.title('Monetary Distribution for Cluster 4')\n",
    "\n",
    "plt.tight_layout()\n",
    "plt.show()\n"
   ]
  },
  {
   "cell_type": "code",
   "execution_count": null,
   "id": "3999351b-cd83-414f-9825-2169891548b2",
   "metadata": {},
   "outputs": [],
   "source": []
  },
  {
   "cell_type": "code",
   "execution_count": null,
   "id": "11a2a18f-073d-4d65-94fb-f04f44b547ba",
   "metadata": {},
   "outputs": [],
   "source": []
  },
  {
   "cell_type": "code",
   "execution_count": null,
   "id": "3b47145b-016f-4085-aea8-6c52e9c05e11",
   "metadata": {},
   "outputs": [],
   "source": []
  },
  {
   "cell_type": "code",
   "execution_count": null,
   "id": "de4efd05-49ec-4afc-a1ec-8c37b23508f4",
   "metadata": {},
   "outputs": [],
   "source": []
  },
  {
   "cell_type": "code",
   "execution_count": null,
   "id": "beeca03a-f096-486b-8196-b52b2688d9e2",
   "metadata": {},
   "outputs": [],
   "source": []
  },
  {
   "cell_type": "markdown",
   "id": "2b8af209-7894-483f-ac24-7c1c0824b7d8",
   "metadata": {},
   "source": [
    "# Join rfm_data DataFrame with df DataFrame"
   ]
  },
  {
   "cell_type": "code",
   "execution_count": 10,
   "id": "c1cfb427-7f58-4dac-9428-754daa30e325",
   "metadata": {},
   "outputs": [
    {
     "name": "stderr",
     "output_type": "stream",
     "text": [
      "[Stage 40:==============>                                           (2 + 6) / 8]\r"
     ]
    },
    {
     "name": "stdout",
     "output_type": "stream",
     "text": [
      "+-------------------+-------------------+-------------------+-------------------+-------------------+----------+-------+-------------+-------------+-------------+-------------------+-------+---------+------------------+\n",
      "|            user_id|         event_time|           order_id|         product_id|        category_id|     brand|  price|        cat_1|        cat_2|        cat_3|    last_order_time|recency|frequency|          monetary|\n",
      "+-------------------+-------------------+-------------------+-------------------+-------------------+----------+-------+-------------+-------------+-------------+-------------------+-------+---------+------------------+\n",
      "|1515915625441612480|2020-02-10 16:48:37|2348791608045994250|1515966223509122835|2268105430162997728|       neo|  20.81|  electronics|        audio|    headphone|2020-11-03 13:09:18|     18|       27|3760.3399999999997|\n",
      "|1515915625443940057|2020-02-08 11:57:41|2348791388851666961|1515966223509335434|2309018577547559593|       ggg|  30.07|      apparel|        shirt|miscellaneous|2020-11-19 20:12:43|      2|       17|2958.9100000000003|\n",
      "|1515915625448231173|2020-06-23 13:58:21|2353275108837032055|1515966223509881249|2268105388555502202|   samsung| 810.16|   appliances|      kitchen|         oven|2020-11-14 18:08:09|      7|       19| 5060.650000000001|\n",
      "|1515915625452290673|2020-01-22 18:07:26|2348776920809734746|1515966223509117383|2268105408293897214|        hp|   9.93|   stationery|     cartrige|miscellaneous|2020-11-19 11:00:10|      2|       10|            525.78|\n",
      "|1515915625455372283|2020-02-12 13:04:42|2348792334415561114|1515966223509090064|2268105426648170900|   samsung| 185.16|  electronics|       tablet|miscellaneous|2020-11-07 17:33:02|     14|       24|           4688.55|\n",
      "|1515915625460013275|2020-01-21 17:38:19|2348776903453704554|2273948222277812511|2268105388555502202|   samsung| 462.94|   appliances|      kitchen|         oven|2020-10-26 11:24:44|     26|       17|3749.6200000000003|\n",
      "|1515915625483792988|2020-06-22 16:03:24|2353273770635952932|1515966223510398442|2268105441647002326| panasonic| 106.46|   appliances|      kitchen|       kettle|2020-09-29 17:54:11|     53|       10|           2050.69|\n",
      "|1515915625484619972|2020-01-21 13:35:46|2348777062342328622|1515966223509130215|2268105392070329020|   philips| 138.87|   appliances|  environment|       vacuum|2020-11-07 19:48:47|     14|        7|           1312.35|\n",
      "|1515915625484627601|2020-02-28 20:21:15|2348804799140462968|1515966223509089560|2268105428166508982|     honor|  69.19|  electronics|   smartphone|miscellaneous|2020-11-19 13:38:42|      2|       32|           9559.95|\n",
      "|1515915625484631448|2020-02-11 14:57:32|2348791644662268446|1515966223509090005|2268105430162997728|     trust|  37.01|  electronics|        audio|    headphone|2020-07-02 17:03:59|    142|        3|            187.43|\n",
      "|1515915625484635841|2020-06-23 13:00:05|2353275308494291150|1515966223510338428|2268105391030141614| different|  13.87|   appliances|         iron|miscellaneous|2020-10-12 21:53:54|     40|       35|           4277.33|\n",
      "|1515915625484642547|2020-01-17 11:48:58|2348774892939247745|1515966223510058555|2268105393848713950|  liebherr|1226.83|   appliances|      kitchen|refrigerators|2020-09-11 10:40:37|     71|       17|3221.1299999999997|\n",
      "|1515915625484656830|2020-02-17 12:38:52|2348798506216456350|2273948181223965148|2268105409048870926|   tp-link|  13.87|    computers|      network|       router|2020-11-19 17:41:36|      2|       21| 4607.389999999999|\n",
      "|1515915625492249288|2020-05-06 18:58:35|2303106530796372754|2273948216456118473|2268105440917193414|   polaris|  30.07|   appliances|      kitchen|        mixer|2020-10-22 13:16:47|     30|       23|            1606.9|\n",
      "|1515915625493616830|2020-02-11 17:21:53|2348792162482651974|2273948297037087396|2268105538568979268|  goodride|  48.82|miscellaneous|miscellaneous|miscellaneous|2020-11-03 16:55:07|     18|       13|           2329.41|\n",
      "|1515915625509841711|2020-06-26 18:22:29|2353279208291042259|1515966223509088578|2268105428166508982|   samsung|  300.9|  electronics|   smartphone|miscellaneous|2020-10-18 17:02:19|     34|        9|           2198.63|\n",
      "|1515915625511044406|2020-02-11 18:18:50|2348792348751692368|1515966223509257792|2268105389385974414|electrolux| 358.77|   appliances|      kitchen|         hood|2020-09-03 16:58:57|     79|       31|           4871.38|\n",
      "|1515915625513331966|2020-01-22 13:20:53|2348776970906501355|1515966223509104401|2268105426908217754| transcend|   6.92|miscellaneous|miscellaneous|miscellaneous|2020-08-13 13:44:57|    100|        9|1361.3700000000001|\n",
      "|1515915625514159475|2020-02-28 21:15:33|2348804795617247592|1515966223509258414|2268105396776338182|     tailg| 601.83|miscellaneous|miscellaneous|miscellaneous|2020-10-16 01:25:23|     36|       16|           2400.24|\n",
      "|1515915625514160671|2020-01-17 11:23:16|2348774840300733103|1515966223509089400|2268105430162997728|   samsung|   81.0|  electronics|        audio|    headphone|2020-11-14 13:07:47|      7|       11|           4728.22|\n",
      "+-------------------+-------------------+-------------------+-------------------+-------------------+----------+-------+-------------+-------------+-------------+-------------------+-------+---------+------------------+\n",
      "only showing top 20 rows\n",
      "\n"
     ]
    },
    {
     "name": "stderr",
     "output_type": "stream",
     "text": [
      "                                                                                \r"
     ]
    }
   ],
   "source": [
    "df_with_rfm = df.join(rfm_data, \"user_id\", \"left\")\n",
    "df_with_rfm.show()\n"
   ]
  },
  {
   "cell_type": "code",
   "execution_count": 8,
   "id": "41d14d27-9d4d-4d26-929a-b9a612b8bf73",
   "metadata": {},
   "outputs": [
    {
     "data": {
      "text/plain": [
       "2060046"
      ]
     },
     "execution_count": 8,
     "metadata": {},
     "output_type": "execute_result"
    }
   ],
   "source": [
    "df_with_rfm.count()"
   ]
  },
  {
   "cell_type": "markdown",
   "id": "4f88be9f-7cbd-4311-bc4c-86008386ee01",
   "metadata": {},
   "source": [
    "# Check null values"
   ]
  },
  {
   "cell_type": "code",
   "execution_count": 11,
   "id": "f9261fc5-a234-4adb-8c12-188f8e2be4d9",
   "metadata": {},
   "outputs": [
    {
     "name": "stderr",
     "output_type": "stream",
     "text": [
      "[Stage 58:======>                                                   (1 + 8) / 9]\r"
     ]
    },
    {
     "name": "stdout",
     "output_type": "stream",
     "text": [
      "+-------+----------+--------+----------+-----------+-----+-----+-----+-----+-----+---------------+-------+---------+--------+\n",
      "|user_id|event_time|order_id|product_id|category_id|brand|price|cat_1|cat_2|cat_3|last_order_time|recency|frequency|monetary|\n",
      "+-------+----------+--------+----------+-----------+-----+-----+-----+-----+-----+---------------+-------+---------+--------+\n",
      "|      0|         0|       0|         0|          0|    0|    0|    0|    0|    0|              0|      0|        0|       0|\n",
      "+-------+----------+--------+----------+-----------+-----+-----+-----+-----+-----+---------------+-------+---------+--------+\n",
      "\n"
     ]
    },
    {
     "name": "stderr",
     "output_type": "stream",
     "text": [
      "                                                                                \r"
     ]
    }
   ],
   "source": [
    "from pyspark.sql import functions as F\n",
    "null_cnt = [F.sum(F.col(column).isNull().cast(\"integer\")).alias(column) for column in df_with_rfm.columns]\n",
    "\n",
    "null_cnt_df = df_with_rfm.agg(*null_cnt)\n",
    "\n",
    "null_cnt_df.show()"
   ]
  },
  {
   "cell_type": "markdown",
   "id": "a2773aa7-0216-477c-b894-7ae568973fbf",
   "metadata": {},
   "source": [
    "# Download Data"
   ]
  },
  {
   "cell_type": "code",
   "execution_count": 23,
   "id": "7b7ed7e3-33b7-4090-8bb6-b212a3457748",
   "metadata": {},
   "outputs": [
    {
     "name": "stderr",
     "output_type": "stream",
     "text": [
      "                                                                                \r"
     ]
    }
   ],
   "source": [
    "output_path = \"RFMWithData\"\n",
    "df_with_rfm.coalesce(1).write.csv(output_path, header=True)\n"
   ]
  },
  {
   "cell_type": "code",
   "execution_count": null,
   "id": "7ca7ad2e-a72c-46e2-9baa-c7572d4b3245",
   "metadata": {},
   "outputs": [],
   "source": []
  },
  {
   "cell_type": "code",
   "execution_count": null,
   "id": "2c41af10-5e8e-49c7-8de8-1344eec467fd",
   "metadata": {},
   "outputs": [],
   "source": []
  },
  {
   "cell_type": "code",
   "execution_count": null,
   "id": "6d4dc419-4b8d-443e-9898-c870c595c89e",
   "metadata": {},
   "outputs": [],
   "source": []
  },
  {
   "cell_type": "code",
   "execution_count": null,
   "id": "a783bf18-83b5-4988-8468-51096b875857",
   "metadata": {},
   "outputs": [],
   "source": []
  },
  {
   "cell_type": "code",
   "execution_count": null,
   "id": "25981907-c62e-4e7b-a515-80853579ddc5",
   "metadata": {},
   "outputs": [],
   "source": []
  },
  {
   "cell_type": "markdown",
   "id": "f8512d5f-27fd-49fc-8c80-ba0224f51ea9",
   "metadata": {},
   "source": [
    "# Normalize the RFM scores to ensure that each feature contributes equally to the clustering process"
   ]
  },
  {
   "cell_type": "code",
   "execution_count": 12,
   "id": "2d6d1d88-1857-48f7-b00f-1ab95f7887cd",
   "metadata": {},
   "outputs": [],
   "source": [
    "# from pyspark.ml.feature import MinMaxScaler\n",
    "# from pyspark.ml.linalg import Vectors\n",
    "# from pyspark.sql import SparkSession\n",
    "\n",
    "# # Initialize SparkSession\n",
    "# spark = SparkSession.builder \\\n",
    "#     .appName(\"RFM_Normalization\") \\\n",
    "#     .getOrCreate()\n",
    "\n",
    "# # Convert the RFM scores to a dense vector\n",
    "# rfm_vector = rfm_data.rdd.map(lambda x: (x[\"user_id\"], Vectors.dense([x[\"recency\"], x[\"frequency\"], x[\"monetary\"]]))).toDF([\"user_id\", \"features\"])\n",
    "\n",
    "# # Initialize the MinMaxScaler\n",
    "# scaler = MinMaxScaler(inputCol=\"features\", outputCol=\"scaled_features\")\n",
    "\n",
    "# # Fit and transform the data\n",
    "# scaler_model = scaler.fit(rfm_vector)\n",
    "# normalized_rfm = scaler_model.transform(rfm_vector)\n",
    "\n",
    "# # Show the normalized RFM data\n",
    "# normalized_rfm.show()\n",
    "\n"
   ]
  },
  {
   "cell_type": "code",
   "execution_count": 13,
   "id": "17ba4d99-4a7b-4f3f-8bf8-0e6a7590656b",
   "metadata": {},
   "outputs": [],
   "source": [
    "# normalized_rfm.count()"
   ]
  },
  {
   "cell_type": "code",
   "execution_count": 14,
   "id": "46dd1e10-9cbf-4b23-83b6-8c3867315ff8",
   "metadata": {},
   "outputs": [],
   "source": [
    "# normalized_rfm.dtypes"
   ]
  },
  {
   "cell_type": "code",
   "execution_count": null,
   "id": "45bd36bc-fb64-42f2-bb86-a073c0a1a5d2",
   "metadata": {},
   "outputs": [],
   "source": []
  },
  {
   "cell_type": "code",
   "execution_count": 15,
   "id": "fca01c16-d52f-486d-bc83-72138977d0cf",
   "metadata": {},
   "outputs": [
    {
     "name": "stderr",
     "output_type": "stream",
     "text": [
      "24/02/19 11:56:05 WARN SparkSession: Using an existing Spark session; only runtime SQL configurations will take effect.\n",
      "[Stage 91:>                                                         (0 + 1) / 1]\r"
     ]
    },
    {
     "name": "stdout",
     "output_type": "stream",
     "text": [
      "+-------------------+--------------------+--------------------+-------------------+\n",
      "|            user_id|            features|     scaled_features|scaled_features_int|\n",
      "+-------------------+--------------------+--------------------+-------------------+\n",
      "|1515915625440051468| [42.0,19.0,1619.51]|[0.13084112149532...|                 13|\n",
      "|1515915625440121544|   [48.0,7.0,878.32]|[0.14953271028037...|                 14|\n",
      "|1515915625440937295|[2.0,18.0,1493.34...|[0.00623052959501...|                  0|\n",
      "|1515915625440937382|[27.0,10.0,757.65...|[0.08411214953271...|                  8|\n",
      "|1515915625440937580|   [42.0,8.0,275.05]|[0.13084112149532...|                 13|\n",
      "|1515915625440940742|[66.0,2.0,59.9100...|[0.20560747663551...|                 20|\n",
      "|1515915625440940932|[81.0,6.0,1854.25...|[0.25233644859813...|                 25|\n",
      "|1515915625440941441|   [310.0,1.0,80.76]|[0.96573208722741...|                 96|\n",
      "|1515915625440943934|[41.0,24.0,5877.4...|[0.12772585669781...|                 12|\n",
      "|1515915625440945265|[3.0,19.0,5456.57...|[0.00934579439252...|                  0|\n",
      "|1515915625440946733| [33.0,26.0,2698.23]|[0.10280373831775...|                 10|\n",
      "|1515915625440947224|[59.0,7.0,198.679...|[0.18380062305295...|                 18|\n",
      "|1515915625440947741| [7.0,50.0,10036.37]|[0.02180685358255...|                  2|\n",
      "|1515915625440949051|[14.0,30.0,2144.8...|[0.04361370716510...|                  4|\n",
      "|1515915625440949578|[20.0,3.0,114.520...|[0.06230529595015...|                  6|\n",
      "|1515915625440951258| [59.0,16.0,3249.18]|[0.18380062305295...|                 18|\n",
      "|1515915625440951523|  [42.0,19.0,587.28]|[0.13084112149532...|                 13|\n",
      "|1515915625440952019|[17.0,12.0,3929.8...|[0.05295950155763...|                  5|\n",
      "|1515915625440952419|[75.0,6.0,248.799...|[0.23364485981308...|                 23|\n",
      "|1515915625440954254|  [96.0,10.0,2646.3]|[0.29906542056074...|                 29|\n",
      "+-------------------+--------------------+--------------------+-------------------+\n",
      "only showing top 20 rows\n",
      "\n"
     ]
    },
    {
     "name": "stderr",
     "output_type": "stream",
     "text": [
      "                                                                                \r"
     ]
    }
   ],
   "source": [
    "from pyspark.sql.functions import udf\n",
    "from pyspark.sql.types import IntegerType\n",
    "from pyspark.ml.feature import MinMaxScaler\n",
    "from pyspark.ml.linalg import Vectors\n",
    "from pyspark.sql import SparkSession\n",
    "\n",
    "# Initialize SparkSession\n",
    "spark = SparkSession.builder \\\n",
    "    .appName(\"RFM_Normalization\") \\\n",
    "    .getOrCreate()\n",
    "\n",
    "\n",
    "# Convert the RFM scores to a dense vector\n",
    "rfm_vector = rfm_data.rdd.map(lambda x: (x[\"user_id\"], Vectors.dense([x[\"recency\"], x[\"frequency\"], x[\"monetary\"]]))).toDF([\"user_id\", \"features\"])\n",
    "\n",
    "# Initialize the MinMaxScaler\n",
    "scaler = MinMaxScaler(inputCol=\"features\", outputCol=\"scaled_features\")\n",
    "\n",
    "# Fit and transform the data\n",
    "scaler_model = scaler.fit(rfm_vector)\n",
    "normalized_rfm = scaler_model.transform(rfm_vector)\n",
    "\n",
    "# Define a UDF to convert scaled features to integers\n",
    "def to_int(value):\n",
    "    factor = 100  # Adjust this factor as needed\n",
    "    return int(value[0] * factor)  # Extracting the first element of the DenseVector\n",
    "\n",
    "# Register the UDF\n",
    "to_int_udf = udf(to_int, IntegerType())\n",
    "\n",
    "# Apply the UDF to the scaled_features column\n",
    "normalized_rfm = normalized_rfm.withColumn(\"scaled_features_int\", to_int_udf(\"scaled_features\"))\n",
    "\n",
    "# Show the DataFrame\n",
    "normalized_rfm.show()\n",
    "\n",
    "# Stop SparkSession\n",
    "# spark.stop()\n"
   ]
  },
  {
   "cell_type": "code",
   "execution_count": null,
   "id": "87a10da7-36c3-435f-a21e-443d8e57813a",
   "metadata": {},
   "outputs": [],
   "source": []
  },
  {
   "cell_type": "code",
   "execution_count": 20,
   "id": "51521c3c-6e81-44ca-8fe6-5d520dfdc562",
   "metadata": {},
   "outputs": [],
   "source": [
    "df_cleaned = normalized_rfm.drop( \"scaled_features\")"
   ]
  },
  {
   "cell_type": "code",
   "execution_count": 21,
   "id": "0b23dd9a-49af-452f-8873-8e14ec918464",
   "metadata": {},
   "outputs": [
    {
     "name": "stderr",
     "output_type": "stream",
     "text": [
      "[Stage 117:>                                                        (0 + 1) / 1]\r"
     ]
    },
    {
     "name": "stdout",
     "output_type": "stream",
     "text": [
      "+-------------------+--------------------+-------------------+\n",
      "|            user_id|            features|scaled_features_int|\n",
      "+-------------------+--------------------+-------------------+\n",
      "|1515915625440051468| [42.0,19.0,1619.51]|                 13|\n",
      "|1515915625440121544|   [48.0,7.0,878.32]|                 14|\n",
      "|1515915625440937295|[2.0,18.0,1493.34...|                  0|\n",
      "|1515915625440937382|[27.0,10.0,757.65...|                  8|\n",
      "|1515915625440937580|   [42.0,8.0,275.05]|                 13|\n",
      "|1515915625440940742|[66.0,2.0,59.9100...|                 20|\n",
      "|1515915625440940932|[81.0,6.0,1854.25...|                 25|\n",
      "|1515915625440941441|   [310.0,1.0,80.76]|                 96|\n",
      "|1515915625440943934|[41.0,24.0,5877.4...|                 12|\n",
      "|1515915625440945265|[3.0,19.0,5456.57...|                  0|\n",
      "|1515915625440946733| [33.0,26.0,2698.23]|                 10|\n",
      "|1515915625440947224|[59.0,7.0,198.679...|                 18|\n",
      "|1515915625440947741| [7.0,50.0,10036.37]|                  2|\n",
      "|1515915625440949051|[14.0,30.0,2144.8...|                  4|\n",
      "|1515915625440949578|[20.0,3.0,114.520...|                  6|\n",
      "|1515915625440951258| [59.0,16.0,3249.18]|                 18|\n",
      "|1515915625440951523|  [42.0,19.0,587.28]|                 13|\n",
      "|1515915625440952019|[17.0,12.0,3929.8...|                  5|\n",
      "|1515915625440952419|[75.0,6.0,248.799...|                 23|\n",
      "|1515915625440954254|  [96.0,10.0,2646.3]|                 29|\n",
      "+-------------------+--------------------+-------------------+\n",
      "only showing top 20 rows\n",
      "\n"
     ]
    },
    {
     "name": "stderr",
     "output_type": "stream",
     "text": [
      "                                                                                \r"
     ]
    }
   ],
   "source": [
    "df_cleaned.show()"
   ]
  },
  {
   "cell_type": "code",
   "execution_count": 23,
   "id": "898e5787-1cda-4062-bec8-c195c5babeb0",
   "metadata": {},
   "outputs": [
    {
     "data": {
      "text/plain": [
       "[('user_id', 'bigint'), ('features', 'vector'), ('scaled_features_int', 'int')]"
      ]
     },
     "execution_count": 23,
     "metadata": {},
     "output_type": "execute_result"
    }
   ],
   "source": [
    "df_cleaned.dtypes"
   ]
  },
  {
   "cell_type": "code",
   "execution_count": null,
   "id": "37be4907-6d10-4530-9af6-7747a772e337",
   "metadata": {},
   "outputs": [],
   "source": []
  },
  {
   "cell_type": "code",
   "execution_count": 30,
   "id": "173dc416-0cbe-4c98-9960-4857b9a0b5b3",
   "metadata": {},
   "outputs": [
    {
     "name": "stderr",
     "output_type": "stream",
     "text": [
      "                                                                                \r"
     ]
    },
    {
     "name": "stdout",
     "output_type": "stream",
     "text": [
      "+-------------------+--------------------+--------------------+--------------------+-------------------+\n",
      "|            user_id|            features|     scaled_features|       features_list|scaled_features_int|\n",
      "+-------------------+--------------------+--------------------+--------------------+-------------------+\n",
      "|1515915625440051468| [42.0,19.0,1619.51]|[0.13084112149532...|[42.0, 19.0, 1619...|                 13|\n",
      "|1515915625440121544|   [48.0,7.0,878.32]|[0.14953271028037...| [48.0, 7.0, 878.32]|                 14|\n",
      "|1515915625440937295|[2.0,18.0,1493.34...|[0.00623052959501...|[2.0, 18.0, 1493....|                  0|\n",
      "|1515915625440937382|[27.0,10.0,757.65...|[0.08411214953271...|[27.0, 10.0, 757....|                  8|\n",
      "|1515915625440937580|   [42.0,8.0,275.05]|[0.13084112149532...| [42.0, 8.0, 275.05]|                 13|\n",
      "|1515915625440940742|[66.0,2.0,59.9100...|[0.20560747663551...|[66.0, 2.0, 59.91...|                 20|\n",
      "|1515915625440940932|[81.0,6.0,1854.25...|[0.25233644859813...|[81.0, 6.0, 1854....|                 25|\n",
      "|1515915625440941441|   [310.0,1.0,80.76]|[0.96573208722741...| [310.0, 1.0, 80.76]|                 96|\n",
      "|1515915625440943934|[41.0,24.0,5877.4...|[0.12772585669781...|[41.0, 24.0, 5877...|                 12|\n",
      "|1515915625440945265|[3.0,19.0,5456.57...|[0.00934579439252...|[3.0, 19.0, 5456....|                  0|\n",
      "|1515915625440946733| [33.0,26.0,2698.23]|[0.10280373831775...|[33.0, 26.0, 2698...|                 10|\n",
      "|1515915625440947224|[59.0,7.0,198.679...|[0.18380062305295...|[59.0, 7.0, 198.6...|                 18|\n",
      "|1515915625440947741| [7.0,50.0,10036.37]|[0.02180685358255...|[7.0, 50.0, 10036...|                  2|\n",
      "|1515915625440949051|[14.0,30.0,2144.8...|[0.04361370716510...|[14.0, 30.0, 2144...|                  4|\n",
      "|1515915625440949578|[20.0,3.0,114.520...|[0.06230529595015...|[20.0, 3.0, 114.5...|                  6|\n",
      "|1515915625440951258| [59.0,16.0,3249.18]|[0.18380062305295...|[59.0, 16.0, 3249...|                 18|\n",
      "|1515915625440951523|  [42.0,19.0,587.28]|[0.13084112149532...|[42.0, 19.0, 587.28]|                 13|\n",
      "|1515915625440952019|[17.0,12.0,3929.8...|[0.05295950155763...|[17.0, 12.0, 3929...|                  5|\n",
      "|1515915625440952419|[75.0,6.0,248.799...|[0.23364485981308...|[75.0, 6.0, 248.7...|                 23|\n",
      "|1515915625440954254|  [96.0,10.0,2646.3]|[0.29906542056074...|[96.0, 10.0, 2646.3]|                 29|\n",
      "+-------------------+--------------------+--------------------+--------------------+-------------------+\n",
      "only showing top 20 rows\n",
      "\n"
     ]
    },
    {
     "name": "stderr",
     "output_type": "stream",
     "text": [
      "                                                                                \r"
     ]
    }
   ],
   "source": [
    "# from pyspark.sql.functions import udf\n",
    "# from pyspark.sql.types import ArrayType, DoubleType, IntegerType\n",
    "# from pyspark.ml.feature import MinMaxScaler\n",
    "# from pyspark.ml.linalg import Vectors\n",
    "# from pyspark.sql import SparkSession\n",
    "\n",
    "# spark = SparkSession.builder \\\n",
    "#     .appName(\"RFM_Normalization\") \\\n",
    "#     .getOrCreate()\n",
    "\n",
    "# # Convert the RFM scores to a dense vector\n",
    "# rfm_vector = rfm_data.rdd.map(lambda x: (x[\"user_id\"], Vectors.dense([x[\"recency\"], x[\"frequency\"], x[\"monetary\"]]))).toDF([\"user_id\", \"features\"])\n",
    "\n",
    "# # Initialize the MinMaxScaler\n",
    "# scaler = MinMaxScaler(inputCol=\"features\", outputCol=\"scaled_features\")\n",
    "\n",
    "# # Fit and transform the data\n",
    "# scaler_model = scaler.fit(rfm_vector)\n",
    "# normalized_rfm = scaler_model.transform(rfm_vector)\n",
    "\n",
    "# # Define a UDF to convert the DenseVector to a list of doubles\n",
    "# def vector_to_list(vector):\n",
    "#     return [float(value) for value in vector.toArray()]\n",
    "\n",
    "# # Register the UDF\n",
    "# vector_to_list_udf = udf(vector_to_list, ArrayType(DoubleType()))\n",
    "\n",
    "# # Apply the UDF to the scaled_features column\n",
    "# normalized_rfm = normalized_rfm.withColumn(\"features_list\", vector_to_list_udf(\"features\"))\n",
    "\n",
    "# # normalized_rfm.show()\n",
    "\n",
    "# # Stop SparkSession\n",
    "# # spark.stop()\n",
    "\n",
    "\n",
    "# # Define a UDF to convert scaled features to integers\n",
    "# def to_int(value):\n",
    "#     factor = 100  # Adjust this factor as needed\n",
    "#     return int(value[0] * factor)  # Extracting the first element of the DenseVector\n",
    "\n",
    "# # Register the UDF\n",
    "# to_int_udf = udf(to_int, IntegerType())\n",
    "\n",
    "# # Apply the UDF to the scaled_features column\n",
    "# normalized_rfm = normalized_rfm.withColumn(\"scaled_features_int\", to_int_udf(\"scaled_features\"))\n",
    "\n",
    "# # Show the DataFrame\n",
    "# normalized_rfm.show()\n",
    "\n",
    "# # Stop SparkSession\n",
    "# # spark.stop()\n",
    "\n"
   ]
  },
  {
   "cell_type": "code",
   "execution_count": 31,
   "id": "714e654b-3fba-4bbf-977b-00e4e7fe2946",
   "metadata": {},
   "outputs": [
    {
     "data": {
      "text/plain": [
       "[('user_id', 'bigint'),\n",
       " ('features', 'vector'),\n",
       " ('scaled_features', 'vector'),\n",
       " ('features_list', 'array<double>'),\n",
       " ('scaled_features_int', 'int')]"
      ]
     },
     "execution_count": 31,
     "metadata": {},
     "output_type": "execute_result"
    }
   ],
   "source": [
    "normalized_rfm.dtypes"
   ]
  },
  {
   "cell_type": "code",
   "execution_count": null,
   "id": "b9c444d9-1971-458c-a001-8fd30ece1698",
   "metadata": {},
   "outputs": [],
   "source": []
  },
  {
   "cell_type": "code",
   "execution_count": 32,
   "id": "9f4fd8e8-47bb-4576-a64b-b1df4e932d16",
   "metadata": {},
   "outputs": [],
   "source": [
    "df_cleaned = normalized_rfm.drop( \"scaled_features\", \"features\")"
   ]
  },
  {
   "cell_type": "code",
   "execution_count": 33,
   "id": "8073aa8f-a727-4481-948d-b649f46d9c93",
   "metadata": {},
   "outputs": [
    {
     "name": "stderr",
     "output_type": "stream",
     "text": [
      "[Stage 243:>                                                        (0 + 1) / 1]\r"
     ]
    },
    {
     "name": "stdout",
     "output_type": "stream",
     "text": [
      "+-------------------+--------------------+-------------------+\n",
      "|            user_id|       features_list|scaled_features_int|\n",
      "+-------------------+--------------------+-------------------+\n",
      "|1515915625440051468|[42.0, 19.0, 1619...|                 13|\n",
      "|1515915625440121544| [48.0, 7.0, 878.32]|                 14|\n",
      "|1515915625440937295|[2.0, 18.0, 1493....|                  0|\n",
      "|1515915625440937382|[27.0, 10.0, 757....|                  8|\n",
      "|1515915625440937580| [42.0, 8.0, 275.05]|                 13|\n",
      "|1515915625440940742|[66.0, 2.0, 59.91...|                 20|\n",
      "|1515915625440940932|[81.0, 6.0, 1854....|                 25|\n",
      "|1515915625440941441| [310.0, 1.0, 80.76]|                 96|\n",
      "|1515915625440943934|[41.0, 24.0, 5877...|                 12|\n",
      "|1515915625440945265|[3.0, 19.0, 5456....|                  0|\n",
      "|1515915625440946733|[33.0, 26.0, 2698...|                 10|\n",
      "|1515915625440947224|[59.0, 7.0, 198.6...|                 18|\n",
      "|1515915625440947741|[7.0, 50.0, 10036...|                  2|\n",
      "|1515915625440949051|[14.0, 30.0, 2144...|                  4|\n",
      "|1515915625440949578|[20.0, 3.0, 114.5...|                  6|\n",
      "|1515915625440951258|[59.0, 16.0, 3249...|                 18|\n",
      "|1515915625440951523|[42.0, 19.0, 587.28]|                 13|\n",
      "|1515915625440952019|[17.0, 12.0, 3929...|                  5|\n",
      "|1515915625440952419|[75.0, 6.0, 248.7...|                 23|\n",
      "|1515915625440954254|[96.0, 10.0, 2646.3]|                 29|\n",
      "+-------------------+--------------------+-------------------+\n",
      "only showing top 20 rows\n",
      "\n"
     ]
    },
    {
     "name": "stderr",
     "output_type": "stream",
     "text": [
      "                                                                                \r"
     ]
    }
   ],
   "source": [
    "df_cleaned.show()"
   ]
  },
  {
   "cell_type": "code",
   "execution_count": 35,
   "id": "672bbddb-de9b-4dee-8d61-636c81f08eb1",
   "metadata": {},
   "outputs": [],
   "source": [
    "df_cleaned = df_cleaned.withColumnRenamed(\"features_list\", \"features\")"
   ]
  },
  {
   "cell_type": "code",
   "execution_count": 36,
   "id": "4a67dc75-401f-4ea3-8202-4491f364a810",
   "metadata": {},
   "outputs": [],
   "source": [
    "df_cleaned = df_cleaned.withColumnRenamed(\"scaled_features_int\", \"scaled_features\")"
   ]
  },
  {
   "cell_type": "code",
   "execution_count": 37,
   "id": "c4069e1c-4c6c-4511-86fc-5c3ad4e93c6c",
   "metadata": {},
   "outputs": [
    {
     "name": "stderr",
     "output_type": "stream",
     "text": [
      "[Stage 248:>                                                        (0 + 1) / 1]\r"
     ]
    },
    {
     "name": "stdout",
     "output_type": "stream",
     "text": [
      "+-------------------+--------------------+---------------+\n",
      "|            user_id|            features|scaled_features|\n",
      "+-------------------+--------------------+---------------+\n",
      "|1515915625440051468|[42.0, 19.0, 1619...|             13|\n",
      "|1515915625440121544| [48.0, 7.0, 878.32]|             14|\n",
      "|1515915625440937295|[2.0, 18.0, 1493....|              0|\n",
      "|1515915625440937382|[27.0, 10.0, 757....|              8|\n",
      "|1515915625440937580| [42.0, 8.0, 275.05]|             13|\n",
      "|1515915625440940742|[66.0, 2.0, 59.91...|             20|\n",
      "|1515915625440940932|[81.0, 6.0, 1854....|             25|\n",
      "|1515915625440941441| [310.0, 1.0, 80.76]|             96|\n",
      "|1515915625440943934|[41.0, 24.0, 5877...|             12|\n",
      "|1515915625440945265|[3.0, 19.0, 5456....|              0|\n",
      "|1515915625440946733|[33.0, 26.0, 2698...|             10|\n",
      "|1515915625440947224|[59.0, 7.0, 198.6...|             18|\n",
      "|1515915625440947741|[7.0, 50.0, 10036...|              2|\n",
      "|1515915625440949051|[14.0, 30.0, 2144...|              4|\n",
      "|1515915625440949578|[20.0, 3.0, 114.5...|              6|\n",
      "|1515915625440951258|[59.0, 16.0, 3249...|             18|\n",
      "|1515915625440951523|[42.0, 19.0, 587.28]|             13|\n",
      "|1515915625440952019|[17.0, 12.0, 3929...|              5|\n",
      "|1515915625440952419|[75.0, 6.0, 248.7...|             23|\n",
      "|1515915625440954254|[96.0, 10.0, 2646.3]|             29|\n",
      "+-------------------+--------------------+---------------+\n",
      "only showing top 20 rows\n",
      "\n"
     ]
    },
    {
     "name": "stderr",
     "output_type": "stream",
     "text": [
      "                                                                                \r"
     ]
    }
   ],
   "source": [
    "df_cleaned.show()"
   ]
  },
  {
   "cell_type": "code",
   "execution_count": 39,
   "id": "42585863-69cb-4886-a5dd-4d42bdf73a39",
   "metadata": {},
   "outputs": [
    {
     "data": {
      "text/plain": [
       "[('user_id', 'bigint'),\n",
       " ('features', 'array<double>'),\n",
       " ('scaled_features', 'int')]"
      ]
     },
     "execution_count": 39,
     "metadata": {},
     "output_type": "execute_result"
    }
   ],
   "source": [
    "df_cleaned.dtypes"
   ]
  },
  {
   "cell_type": "code",
   "execution_count": null,
   "id": "aa216293-b5b7-4ebc-8022-ebf767195836",
   "metadata": {},
   "outputs": [],
   "source": []
  },
  {
   "cell_type": "code",
   "execution_count": 40,
   "id": "dbd4e460-795f-45c5-b6b6-8f0abcac3205",
   "metadata": {},
   "outputs": [
    {
     "name": "stderr",
     "output_type": "stream",
     "text": [
      "24/02/19 12:29:04 WARN SparkSession: Using an existing Spark session; only runtime SQL configurations will take effect.\n",
      "                                                                                \r"
     ]
    },
    {
     "name": "stdout",
     "output_type": "stream",
     "text": [
      "+-------------------+--------------------+--------------------+\n",
      "|            user_id|            features|     scaled_features|\n",
      "+-------------------+--------------------+--------------------+\n",
      "|1515915625440051468|[42.0, 19.0, 1619...|[0.13084112149532...|\n",
      "|1515915625440121544| [48.0, 7.0, 878.32]|[0.14953271028037...|\n",
      "|1515915625440937295|[2.0, 18.0, 1493....|[0.00623052959501...|\n",
      "|1515915625440937382|[27.0, 10.0, 757....|[0.08411214953271...|\n",
      "|1515915625440937580| [42.0, 8.0, 275.05]|[0.13084112149532...|\n",
      "|1515915625440940742|[66.0, 2.0, 59.91...|[0.20560747663551...|\n",
      "|1515915625440940932|[81.0, 6.0, 1854....|[0.25233644859813...|\n",
      "|1515915625440941441| [310.0, 1.0, 80.76]|[0.96573208722741...|\n",
      "|1515915625440943934|[41.0, 24.0, 5877...|[0.12772585669781...|\n",
      "|1515915625440945265|[3.0, 19.0, 5456....|[0.00934579439252...|\n",
      "|1515915625440946733|[33.0, 26.0, 2698...|[0.10280373831775...|\n",
      "|1515915625440947224|[59.0, 7.0, 198.6...|[0.18380062305295...|\n",
      "|1515915625440947741|[7.0, 50.0, 10036...|[0.02180685358255...|\n",
      "|1515915625440949051|[14.0, 30.0, 2144...|[0.04361370716510...|\n",
      "|1515915625440949578|[20.0, 3.0, 114.5...|[0.06230529595015...|\n",
      "|1515915625440951258|[59.0, 16.0, 3249...|[0.18380062305295...|\n",
      "|1515915625440951523|[42.0, 19.0, 587.28]|[0.13084112149532...|\n",
      "|1515915625440952019|[17.0, 12.0, 3929...|[0.05295950155763...|\n",
      "|1515915625440952419|[75.0, 6.0, 248.7...|[0.23364485981308...|\n",
      "|1515915625440954254|[96.0, 10.0, 2646.3]|[0.29906542056074...|\n",
      "+-------------------+--------------------+--------------------+\n",
      "only showing top 20 rows\n",
      "\n"
     ]
    }
   ],
   "source": [
    "from pyspark.sql.functions import udf\n",
    "from pyspark.sql.types import ArrayType, DoubleType, IntegerType\n",
    "from pyspark.ml.feature import MinMaxScaler\n",
    "from pyspark.ml.linalg import Vectors\n",
    "from pyspark.sql import SparkSession\n",
    "\n",
    "# Initialize SparkSession\n",
    "spark = SparkSession.builder \\\n",
    "    .appName(\"RFM_Normalization\") \\\n",
    "    .getOrCreate()\n",
    "\n",
    "# Convert the RFM scores to a dense vector\n",
    "rfm_vector = rfm_data.rdd.map(lambda x: (x[\"user_id\"], Vectors.dense([x[\"recency\"], x[\"frequency\"], x[\"monetary\"]]))).toDF([\"user_id\", \"features\"])\n",
    "\n",
    "# Initialize the MinMaxScaler\n",
    "scaler = MinMaxScaler(inputCol=\"features\", outputCol=\"scaled_features\")\n",
    "\n",
    "# Fit and transform the data\n",
    "scaler_model = scaler.fit(rfm_vector)\n",
    "normalized_rfm = scaler_model.transform(rfm_vector)\n",
    "\n",
    "# Define a UDF to convert the DenseVector to an array of doubles\n",
    "def vector_to_array(vector):\n",
    "    return vector.toArray().tolist()\n",
    "\n",
    "# Register the UDF\n",
    "vector_to_array_udf = udf(vector_to_array, ArrayType(DoubleType()))\n",
    "\n",
    "# Apply the UDF to the features column\n",
    "normalized_rfm = normalized_rfm.withColumn(\"features\", vector_to_array_udf(\"features\"))\n",
    "\n",
    "# Show the DataFrame\n",
    "normalized_rfm.show()\n",
    "\n",
    "# Stop SparkSession\n",
    "# spark.stop()\n"
   ]
  },
  {
   "cell_type": "code",
   "execution_count": 41,
   "id": "33d584ed-ab9e-47ed-be31-406893180eaa",
   "metadata": {},
   "outputs": [],
   "source": [
    "df_cleaned=normalized_rfm"
   ]
  },
  {
   "cell_type": "code",
   "execution_count": null,
   "id": "42bd4e16-a30e-489c-9b83-518b2a89d917",
   "metadata": {},
   "outputs": [],
   "source": []
  },
  {
   "cell_type": "code",
   "execution_count": null,
   "id": "f4820faf-992a-4eab-9ac7-0eb3d1ead38c",
   "metadata": {},
   "outputs": [],
   "source": []
  },
  {
   "cell_type": "code",
   "execution_count": null,
   "id": "b70d5346-3475-404e-b34d-c56900bda054",
   "metadata": {},
   "outputs": [],
   "source": []
  },
  {
   "cell_type": "code",
   "execution_count": 42,
   "id": "b0ca9e86-37f0-4f17-94fd-c548c1ddb6a4",
   "metadata": {},
   "outputs": [
    {
     "name": "stderr",
     "output_type": "stream",
     "text": [
      "24/02/19 12:29:34 WARN SparkSession: Using an existing Spark session; only runtime SQL configurations will take effect.\n",
      "24/02/19 12:29:34 ERROR Instrumentation: java.lang.IllegalArgumentException: requirement failed: Column features must be of type equal to one of the following types: [struct<type:tinyint,size:int,indices:array<int>,values:array<double>>, array<double>, array<float>] but was actually of type array<double>.\n",
      "\tat scala.Predef$.require(Predef.scala:281)\n",
      "\tat org.apache.spark.ml.util.SchemaUtils$.checkColumnTypes(SchemaUtils.scala:63)\n",
      "\tat org.apache.spark.ml.util.SchemaUtils$.validateVectorCompatibleColumn(SchemaUtils.scala:205)\n",
      "\tat org.apache.spark.ml.clustering.KMeansParams.validateAndTransformSchema(KMeans.scala:121)\n",
      "\tat org.apache.spark.ml.clustering.KMeansParams.validateAndTransformSchema$(KMeans.scala:120)\n",
      "\tat org.apache.spark.ml.clustering.KMeans.validateAndTransformSchema(KMeans.scala:295)\n",
      "\tat org.apache.spark.ml.clustering.KMeans.transformSchema(KMeans.scala:599)\n",
      "\tat org.apache.spark.ml.PipelineStage.transformSchema(Pipeline.scala:71)\n",
      "\tat org.apache.spark.ml.clustering.KMeans.$anonfun$fit$1(KMeans.scala:372)\n",
      "\tat org.apache.spark.ml.util.Instrumentation$.$anonfun$instrumented$1(Instrumentation.scala:191)\n",
      "\tat scala.util.Try$.apply(Try.scala:213)\n",
      "\tat org.apache.spark.ml.util.Instrumentation$.instrumented(Instrumentation.scala:191)\n",
      "\tat org.apache.spark.ml.clustering.KMeans.fit(KMeans.scala:371)\n",
      "\tat sun.reflect.NativeMethodAccessorImpl.invoke0(Native Method)\n",
      "\tat sun.reflect.NativeMethodAccessorImpl.invoke(NativeMethodAccessorImpl.java:62)\n",
      "\tat sun.reflect.DelegatingMethodAccessorImpl.invoke(DelegatingMethodAccessorImpl.java:43)\n",
      "\tat java.lang.reflect.Method.invoke(Method.java:498)\n",
      "\tat py4j.reflection.MethodInvoker.invoke(MethodInvoker.java:244)\n",
      "\tat py4j.reflection.ReflectionEngine.invoke(ReflectionEngine.java:374)\n",
      "\tat py4j.Gateway.invoke(Gateway.java:282)\n",
      "\tat py4j.commands.AbstractCommand.invokeMethod(AbstractCommand.java:132)\n",
      "\tat py4j.commands.CallCommand.execute(CallCommand.java:79)\n",
      "\tat py4j.ClientServerConnection.waitForCommands(ClientServerConnection.java:182)\n",
      "\tat py4j.ClientServerConnection.run(ClientServerConnection.java:106)\n",
      "\tat java.lang.Thread.run(Thread.java:750)\n",
      "\n"
     ]
    },
    {
     "ename": "IllegalArgumentException",
     "evalue": "requirement failed: Column features must be of type equal to one of the following types: [struct<type:tinyint,size:int,indices:array<int>,values:array<double>>, array<double>, array<float>] but was actually of type array<double>.",
     "output_type": "error",
     "traceback": [
      "\u001b[0;31m---------------------------------------------------------------------------\u001b[0m",
      "\u001b[0;31mIllegalArgumentException\u001b[0m                  Traceback (most recent call last)",
      "Cell \u001b[0;32mIn[42], line 16\u001b[0m\n\u001b[1;32m     13\u001b[0m kmeans \u001b[38;5;241m=\u001b[39m KMeans(k\u001b[38;5;241m=\u001b[39m\u001b[38;5;241m5\u001b[39m, seed\u001b[38;5;241m=\u001b[39m\u001b[38;5;241m42\u001b[39m)\n\u001b[1;32m     15\u001b[0m \u001b[38;5;66;03m# Fit the KMeans model to the data\u001b[39;00m\n\u001b[0;32m---> 16\u001b[0m model \u001b[38;5;241m=\u001b[39m \u001b[43mkmeans\u001b[49m\u001b[38;5;241;43m.\u001b[39;49m\u001b[43mfit\u001b[49m\u001b[43m(\u001b[49m\u001b[43mdf_cleaned\u001b[49m\u001b[43m)\u001b[49m\n\u001b[1;32m     18\u001b[0m \u001b[38;5;66;03m# Make predictions\u001b[39;00m\n\u001b[1;32m     19\u001b[0m predictions \u001b[38;5;241m=\u001b[39m model\u001b[38;5;241m.\u001b[39mtransform(df_cleaned)\n",
      "File \u001b[0;32m~/spark-3.5.0-bin-hadoop3/python/pyspark/ml/base.py:205\u001b[0m, in \u001b[0;36mEstimator.fit\u001b[0;34m(self, dataset, params)\u001b[0m\n\u001b[1;32m    203\u001b[0m         \u001b[38;5;28;01mreturn\u001b[39;00m \u001b[38;5;28mself\u001b[39m\u001b[38;5;241m.\u001b[39mcopy(params)\u001b[38;5;241m.\u001b[39m_fit(dataset)\n\u001b[1;32m    204\u001b[0m     \u001b[38;5;28;01melse\u001b[39;00m:\n\u001b[0;32m--> 205\u001b[0m         \u001b[38;5;28;01mreturn\u001b[39;00m \u001b[38;5;28;43mself\u001b[39;49m\u001b[38;5;241;43m.\u001b[39;49m\u001b[43m_fit\u001b[49m\u001b[43m(\u001b[49m\u001b[43mdataset\u001b[49m\u001b[43m)\u001b[49m\n\u001b[1;32m    206\u001b[0m \u001b[38;5;28;01melse\u001b[39;00m:\n\u001b[1;32m    207\u001b[0m     \u001b[38;5;28;01mraise\u001b[39;00m \u001b[38;5;167;01mTypeError\u001b[39;00m(\n\u001b[1;32m    208\u001b[0m         \u001b[38;5;124m\"\u001b[39m\u001b[38;5;124mParams must be either a param map or a list/tuple of param maps, \u001b[39m\u001b[38;5;124m\"\u001b[39m\n\u001b[1;32m    209\u001b[0m         \u001b[38;5;124m\"\u001b[39m\u001b[38;5;124mbut got \u001b[39m\u001b[38;5;132;01m%s\u001b[39;00m\u001b[38;5;124m.\u001b[39m\u001b[38;5;124m\"\u001b[39m \u001b[38;5;241m%\u001b[39m \u001b[38;5;28mtype\u001b[39m(params)\n\u001b[1;32m    210\u001b[0m     )\n",
      "File \u001b[0;32m~/spark-3.5.0-bin-hadoop3/python/pyspark/ml/wrapper.py:381\u001b[0m, in \u001b[0;36mJavaEstimator._fit\u001b[0;34m(self, dataset)\u001b[0m\n\u001b[1;32m    380\u001b[0m \u001b[38;5;28;01mdef\u001b[39;00m \u001b[38;5;21m_fit\u001b[39m(\u001b[38;5;28mself\u001b[39m, dataset: DataFrame) \u001b[38;5;241m-\u001b[39m\u001b[38;5;241m>\u001b[39m JM:\n\u001b[0;32m--> 381\u001b[0m     java_model \u001b[38;5;241m=\u001b[39m \u001b[38;5;28;43mself\u001b[39;49m\u001b[38;5;241;43m.\u001b[39;49m\u001b[43m_fit_java\u001b[49m\u001b[43m(\u001b[49m\u001b[43mdataset\u001b[49m\u001b[43m)\u001b[49m\n\u001b[1;32m    382\u001b[0m     model \u001b[38;5;241m=\u001b[39m \u001b[38;5;28mself\u001b[39m\u001b[38;5;241m.\u001b[39m_create_model(java_model)\n\u001b[1;32m    383\u001b[0m     \u001b[38;5;28;01mreturn\u001b[39;00m \u001b[38;5;28mself\u001b[39m\u001b[38;5;241m.\u001b[39m_copyValues(model)\n",
      "File \u001b[0;32m~/spark-3.5.0-bin-hadoop3/python/pyspark/ml/wrapper.py:378\u001b[0m, in \u001b[0;36mJavaEstimator._fit_java\u001b[0;34m(self, dataset)\u001b[0m\n\u001b[1;32m    375\u001b[0m \u001b[38;5;28;01massert\u001b[39;00m \u001b[38;5;28mself\u001b[39m\u001b[38;5;241m.\u001b[39m_java_obj \u001b[38;5;129;01mis\u001b[39;00m \u001b[38;5;129;01mnot\u001b[39;00m \u001b[38;5;28;01mNone\u001b[39;00m\n\u001b[1;32m    377\u001b[0m \u001b[38;5;28mself\u001b[39m\u001b[38;5;241m.\u001b[39m_transfer_params_to_java()\n\u001b[0;32m--> 378\u001b[0m \u001b[38;5;28;01mreturn\u001b[39;00m \u001b[38;5;28;43mself\u001b[39;49m\u001b[38;5;241;43m.\u001b[39;49m\u001b[43m_java_obj\u001b[49m\u001b[38;5;241;43m.\u001b[39;49m\u001b[43mfit\u001b[49m\u001b[43m(\u001b[49m\u001b[43mdataset\u001b[49m\u001b[38;5;241;43m.\u001b[39;49m\u001b[43m_jdf\u001b[49m\u001b[43m)\u001b[49m\n",
      "File \u001b[0;32m~/spark-3.5.0-bin-hadoop3/python/lib/py4j-0.10.9.7-src.zip/py4j/java_gateway.py:1322\u001b[0m, in \u001b[0;36mJavaMember.__call__\u001b[0;34m(self, *args)\u001b[0m\n\u001b[1;32m   1316\u001b[0m command \u001b[38;5;241m=\u001b[39m proto\u001b[38;5;241m.\u001b[39mCALL_COMMAND_NAME \u001b[38;5;241m+\u001b[39m\\\n\u001b[1;32m   1317\u001b[0m     \u001b[38;5;28mself\u001b[39m\u001b[38;5;241m.\u001b[39mcommand_header \u001b[38;5;241m+\u001b[39m\\\n\u001b[1;32m   1318\u001b[0m     args_command \u001b[38;5;241m+\u001b[39m\\\n\u001b[1;32m   1319\u001b[0m     proto\u001b[38;5;241m.\u001b[39mEND_COMMAND_PART\n\u001b[1;32m   1321\u001b[0m answer \u001b[38;5;241m=\u001b[39m \u001b[38;5;28mself\u001b[39m\u001b[38;5;241m.\u001b[39mgateway_client\u001b[38;5;241m.\u001b[39msend_command(command)\n\u001b[0;32m-> 1322\u001b[0m return_value \u001b[38;5;241m=\u001b[39m \u001b[43mget_return_value\u001b[49m\u001b[43m(\u001b[49m\n\u001b[1;32m   1323\u001b[0m \u001b[43m    \u001b[49m\u001b[43manswer\u001b[49m\u001b[43m,\u001b[49m\u001b[43m \u001b[49m\u001b[38;5;28;43mself\u001b[39;49m\u001b[38;5;241;43m.\u001b[39;49m\u001b[43mgateway_client\u001b[49m\u001b[43m,\u001b[49m\u001b[43m \u001b[49m\u001b[38;5;28;43mself\u001b[39;49m\u001b[38;5;241;43m.\u001b[39;49m\u001b[43mtarget_id\u001b[49m\u001b[43m,\u001b[49m\u001b[43m \u001b[49m\u001b[38;5;28;43mself\u001b[39;49m\u001b[38;5;241;43m.\u001b[39;49m\u001b[43mname\u001b[49m\u001b[43m)\u001b[49m\n\u001b[1;32m   1325\u001b[0m \u001b[38;5;28;01mfor\u001b[39;00m temp_arg \u001b[38;5;129;01min\u001b[39;00m temp_args:\n\u001b[1;32m   1326\u001b[0m     \u001b[38;5;28;01mif\u001b[39;00m \u001b[38;5;28mhasattr\u001b[39m(temp_arg, \u001b[38;5;124m\"\u001b[39m\u001b[38;5;124m_detach\u001b[39m\u001b[38;5;124m\"\u001b[39m):\n",
      "File \u001b[0;32m~/spark-3.5.0-bin-hadoop3/python/pyspark/errors/exceptions/captured.py:185\u001b[0m, in \u001b[0;36mcapture_sql_exception.<locals>.deco\u001b[0;34m(*a, **kw)\u001b[0m\n\u001b[1;32m    181\u001b[0m converted \u001b[38;5;241m=\u001b[39m convert_exception(e\u001b[38;5;241m.\u001b[39mjava_exception)\n\u001b[1;32m    182\u001b[0m \u001b[38;5;28;01mif\u001b[39;00m \u001b[38;5;129;01mnot\u001b[39;00m \u001b[38;5;28misinstance\u001b[39m(converted, UnknownException):\n\u001b[1;32m    183\u001b[0m     \u001b[38;5;66;03m# Hide where the exception came from that shows a non-Pythonic\u001b[39;00m\n\u001b[1;32m    184\u001b[0m     \u001b[38;5;66;03m# JVM exception message.\u001b[39;00m\n\u001b[0;32m--> 185\u001b[0m     \u001b[38;5;28;01mraise\u001b[39;00m converted \u001b[38;5;28;01mfrom\u001b[39;00m \u001b[38;5;28;01mNone\u001b[39;00m\n\u001b[1;32m    186\u001b[0m \u001b[38;5;28;01melse\u001b[39;00m:\n\u001b[1;32m    187\u001b[0m     \u001b[38;5;28;01mraise\u001b[39;00m\n",
      "\u001b[0;31mIllegalArgumentException\u001b[0m: requirement failed: Column features must be of type equal to one of the following types: [struct<type:tinyint,size:int,indices:array<int>,values:array<double>>, array<double>, array<float>] but was actually of type array<double>."
     ]
    }
   ],
   "source": [
    "from pyspark.ml.clustering import KMeans\n",
    "from pyspark.sql import SparkSession\n",
    "\n",
    "# Initialize SparkSession\n",
    "spark = SparkSession.builder \\\n",
    "    .appName(\"RFM_Clustering\") \\\n",
    "    .getOrCreate()\n",
    "\n",
    "# Sample data - replace this with your actual DataFrame\n",
    "# normalized_rfm = spark.createDataFrame([...], [\"user_id\", \"scaled_features\"])\n",
    "\n",
    "# Initialize KMeans with the number of clusters\n",
    "kmeans = KMeans(k=5, seed=42)\n",
    "\n",
    "# Fit the KMeans model to the data\n",
    "model = kmeans.fit(df_cleaned)\n",
    "\n",
    "# Make predictions\n",
    "predictions = model.transform(df_cleaned)\n",
    "\n",
    "# Show the cluster assignment for each user\n",
    "predictions.select(\"user_id\", \"prediction\").show()\n",
    "\n",
    "# Stop SparkSession\n",
    "# spark.stop()\n"
   ]
  },
  {
   "cell_type": "code",
   "execution_count": null,
   "id": "cfe358c1-5772-4d56-beba-3f03fffe58c8",
   "metadata": {},
   "outputs": [],
   "source": []
  },
  {
   "cell_type": "code",
   "execution_count": null,
   "id": "ef2d419f-d0cf-4880-b347-178d233afc55",
   "metadata": {},
   "outputs": [],
   "source": []
  },
  {
   "cell_type": "code",
   "execution_count": null,
   "id": "f97a48c7-0514-40d6-8d2d-69646954faa9",
   "metadata": {},
   "outputs": [],
   "source": []
  },
  {
   "cell_type": "code",
   "execution_count": 32,
   "id": "de867c8b-220d-44f6-a815-b0059d4f657d",
   "metadata": {},
   "outputs": [
    {
     "name": "stderr",
     "output_type": "stream",
     "text": [
      "[Stage 293:============================>                            (4 + 4) / 8]\r"
     ]
    },
    {
     "name": "stdout",
     "output_type": "stream",
     "text": [
      "Recency Stats:\n",
      "Min Recency: 0\n",
      "Max Recency: 321\n",
      "Mean Recency: 69.49061430323442\n",
      "\n",
      "Frequency Stats:\n",
      "Min Frequency: 1\n",
      "Max Frequency: 79\n",
      "Mean Frequency: 9.427001153191412\n",
      "\n",
      "Monetary Stats:\n",
      "Min Monetary: 0.02\n",
      "Max Monetary: 52328.31\n",
      "Mean Monetary: 1510.4277025711258\n"
     ]
    },
    {
     "name": "stderr",
     "output_type": "stream",
     "text": [
      "                                                                                \r"
     ]
    }
   ],
   "source": [
    "# from pyspark.sql.functions import min as min_, max as max_, mean as mean_\n",
    "\n",
    "# # Calculate minimum, maximum, and mean for each column\n",
    "# recency_stats = rfm_data.agg(min_(\"recency\").alias(\"min_recency\"), \n",
    "#                               max_(\"recency\").alias(\"max_recency\"), \n",
    "#                               mean_(\"recency\").alias(\"mean_recency\")).head()\n",
    "\n",
    "# frequency_stats = rfm_data.agg(min_(\"frequency\").alias(\"min_frequency\"), \n",
    "#                                 max_(\"frequency\").alias(\"max_frequency\"), \n",
    "#                                 mean_(\"frequency\").alias(\"mean_frequency\")).head()\n",
    "\n",
    "# monetary_stats = rfm_data.agg(min_(\"monetary\").alias(\"min_monetary\"), \n",
    "#                                max_(\"monetary\").alias(\"max_monetary\"), \n",
    "#                                mean_(\"monetary\").alias(\"mean_monetary\")).head()\n",
    "\n",
    "# # Print the statistics for each column\n",
    "# print(\"Recency Stats:\")\n",
    "# print(\"Min Recency:\", recency_stats.min_recency)\n",
    "# print(\"Max Recency:\", recency_stats.max_recency)\n",
    "# print(\"Mean Recency:\", recency_stats.mean_recency)\n",
    "# print()\n",
    "\n",
    "# print(\"Frequency Stats:\")\n",
    "# print(\"Min Frequency:\", frequency_stats.min_frequency)\n",
    "# print(\"Max Frequency:\", frequency_stats.max_frequency)\n",
    "# print(\"Mean Frequency:\", frequency_stats.mean_frequency)\n",
    "# print()\n",
    "\n",
    "# print(\"Monetary Stats:\")\n",
    "# print(\"Min Monetary:\", monetary_stats.min_monetary)\n",
    "# print(\"Max Monetary:\", monetary_stats.max_monetary)\n",
    "# print(\"Mean Monetary:\", monetary_stats.mean_monetary)\n"
   ]
  },
  {
   "cell_type": "code",
   "execution_count": null,
   "id": "d98810dd-76b4-42ac-a970-374862644732",
   "metadata": {},
   "outputs": [],
   "source": [
    "    # Very recent: 0 to 37.39\n",
    "    # Recent: 37.39 to 69.49\n",
    "    # Average: 69.49 to 101.59 (mean recency falls in this range)\n",
    "    # Less recent: 101.59 to 288.9\n",
    "    # Least recent: 288.9 to 321\n",
    "\n",
    "    # Very low frequency: 1 to 4.71\n",
    "    # Low frequency: 4.71 to 9.427\n",
    "    # Average frequency: 9.427 to 14.14 (mean frequency falls in this range)\n",
    "    # High frequency: 14.14 to 39.5\n",
    "    # Very high frequency: 39.5 to 79\n",
    "\n",
    "    # Very low monetary: 0.02 to 755.215\n",
    "    # Low monetary: 755.215 to 1510.43\n",
    "    # Average monetary: 1510.43 to 2265.645 (mean monetary falls in this range)\n",
    "    # High monetary: 2265.645 to 26164.155\n",
    "    # Very high monetary: 26164.155 to 52328.31"
   ]
  },
  {
   "cell_type": "code",
   "execution_count": 34,
   "id": "7df831a3-a89e-4f04-aca0-b212a114e78c",
   "metadata": {},
   "outputs": [],
   "source": [
    "# from pyspark.sql.functions import when\n",
    "\n",
    "# # Define the ranges and class values for each class\n",
    "# class_ranges = {\n",
    "#     \"Poor\": {\n",
    "#         \"recency\": (0, 37),\n",
    "#         \"frequency\": (1, 4),\n",
    "#         \"monetary\": (0.02, 755)\n",
    "#     },\n",
    "#     \"Lower Middle\": {\n",
    "#         \"recency\": (37, 65),\n",
    "#         \"frequency\": (4, 8),\n",
    "#         \"monetary\": (755, 1500)\n",
    "#     },\n",
    "#     \"Middle\": {\n",
    "#         \"recency\": (65, 102),\n",
    "#         \"frequency\": (8, 15),\n",
    "#         \"monetary\": (1500, 2270)\n",
    "#     },\n",
    "#     \"Upper Middle\": {\n",
    "#         \"recency\": (102, 288),\n",
    "#         \"frequency\": (15, 41),\n",
    "#         \"monetary\": (2270, 26165)\n",
    "#     },\n",
    "#     \"Rich\": {\n",
    "#         \"recency\": (288, 322),\n",
    "#         \"frequency\": (41, 80),\n",
    "#         \"monetary\": (26165, 52330)\n",
    "#     }\n",
    "# }\n",
    "\n",
    "# # Iterate over each class and assign class values based on RFM scores\n",
    "# for class_name, ranges in class_ranges.items():\n",
    "#     recency_range = ranges[\"recency\"]\n",
    "#     frequency_range = ranges[\"frequency\"]\n",
    "#     monetary_range = ranges[\"monetary\"]\n",
    "    \n",
    "#     # Assign class value based on RFM scores\n",
    "#     df_class = rfm_data.withColumn(class_name, \n",
    "#                                    when((col(\"recency\").between(recency_range[0], recency_range[1])) & \n",
    "#                                         (col(\"frequency\").between(frequency_range[0], frequency_range[1])) & \n",
    "#                                         (col(\"monetary\").between(monetary_range[0], monetary_range[1])), class_name)\n",
    "#                                    .otherwise(\"Other\"))\n",
    "\n",
    "# # Show the DataFrame with the assigned class values\n",
    "# df_class.show()\n"
   ]
  },
  {
   "cell_type": "code",
   "execution_count": null,
   "id": "6dd7eeb5-95e9-417e-b181-23ff96776373",
   "metadata": {},
   "outputs": [],
   "source": []
  },
  {
   "cell_type": "code",
   "execution_count": null,
   "id": "34600953-2be4-428f-bb8f-51612117b772",
   "metadata": {},
   "outputs": [],
   "source": []
  },
  {
   "cell_type": "code",
   "execution_count": null,
   "id": "03f1175a-6bc0-453f-a5e3-8b98c29cbbc3",
   "metadata": {},
   "outputs": [],
   "source": []
  },
  {
   "cell_type": "code",
   "execution_count": null,
   "id": "260ffe0b-0807-4ec6-9d36-0e9f8895acb8",
   "metadata": {},
   "outputs": [],
   "source": []
  },
  {
   "cell_type": "code",
   "execution_count": 27,
   "id": "3fdfa943-f9ff-4bde-a09a-97a7ab957b59",
   "metadata": {},
   "outputs": [
    {
     "name": "stderr",
     "output_type": "stream",
     "text": [
      "[Stage 237:===================================>                     (5 + 3) / 8]\r"
     ]
    },
    {
     "name": "stdout",
     "output_type": "stream",
     "text": [
      "+-------------------+-------------------+-------------------+-------------------+-------------------+----------+-------+-------------+-------------+-------------+-------------------+-------+---------+------------------+--------------------+\n",
      "|            user_id|         event_time|           order_id|         product_id|        category_id|     brand|  price|        cat_1|        cat_2|        cat_3|    last_order_time|recency|frequency|          monetary|     scaled_features|\n",
      "+-------------------+-------------------+-------------------+-------------------+-------------------+----------+-------+-------------+-------------+-------------+-------------------+-------+---------+------------------+--------------------+\n",
      "|1515915625441612480|2020-02-10 16:48:37|2348791608045994250|1515966223509122835|2268105430162997728|       neo|  20.81|  electronics|        audio|    headphone|2020-11-03 13:09:18|     18|       27|3760.3399999999997|[0.05607476635514...|\n",
      "|1515915625443940057|2020-02-08 11:57:41|2348791388851666961|1515966223509335434|2309018577547559593|       ggg|  30.07|      apparel|        shirt|miscellaneous|2020-11-19 20:12:43|      2|       17|2958.9100000000003|[0.00623052959501...|\n",
      "|1515915625448231173|2020-06-23 13:58:21|2353275108837032055|1515966223509881249|2268105388555502202|   samsung| 810.16|   appliances|      kitchen|         oven|2020-11-14 18:08:09|      7|       19| 5060.650000000001|[0.02180685358255...|\n",
      "|1515915625452290673|2020-01-22 18:07:26|2348776920809734746|1515966223509117383|2268105408293897214|        hp|   9.93|   stationery|     cartrige|miscellaneous|2020-11-19 11:00:10|      2|       10|            525.78|[0.00623052959501...|\n",
      "|1515915625455372283|2020-02-12 13:04:42|2348792334415561114|1515966223509090064|2268105426648170900|   samsung| 185.16|  electronics|       tablet|miscellaneous|2020-11-07 17:33:02|     14|       24|           4688.55|[0.04361370716510...|\n",
      "|1515915625460013275|2020-01-21 17:38:19|2348776903453704554|2273948222277812511|2268105388555502202|   samsung| 462.94|   appliances|      kitchen|         oven|2020-10-26 11:24:44|     26|       17|3749.6200000000003|[0.08099688473520...|\n",
      "|1515915625483792988|2020-06-22 16:03:24|2353273770635952932|1515966223510398442|2268105441647002326| panasonic| 106.46|   appliances|      kitchen|       kettle|2020-09-29 17:54:11|     53|       10|           2050.69|[0.16510903426791...|\n",
      "|1515915625484619972|2020-01-21 13:35:46|2348777062342328622|1515966223509130215|2268105392070329020|   philips| 138.87|   appliances|  environment|       vacuum|2020-11-07 19:48:47|     14|        7|           1312.35|[0.04361370716510...|\n",
      "|1515915625484627601|2020-02-28 20:21:15|2348804799140462968|1515966223509089560|2268105428166508982|     honor|  69.19|  electronics|   smartphone|miscellaneous|2020-11-19 13:38:42|      2|       32|           9559.95|[0.00623052959501...|\n",
      "|1515915625484631448|2020-02-11 14:57:32|2348791644662268446|1515966223509090005|2268105430162997728|     trust|  37.01|  electronics|        audio|    headphone|2020-07-02 17:03:59|    142|        3|            187.43|[0.44236760124610...|\n",
      "|1515915625484635841|2020-06-23 13:00:05|2353275308494291150|1515966223510338428|2268105391030141614| different|  13.87|   appliances|         iron|miscellaneous|2020-10-12 21:53:54|     40|       35|           4277.33|[0.12461059190031...|\n",
      "|1515915625484642547|2020-01-17 11:48:58|2348774892939247745|1515966223510058555|2268105393848713950|  liebherr|1226.83|   appliances|      kitchen|refrigerators|2020-09-11 10:40:37|     71|       17|3221.1299999999997|[0.22118380062305...|\n",
      "|1515915625484656830|2020-02-17 12:38:52|2348798506216456350|2273948181223965148|2268105409048870926|   tp-link|  13.87|    computers|      network|       router|2020-11-19 17:41:36|      2|       21| 4607.389999999999|[0.00623052959501...|\n",
      "|1515915625492249288|2020-05-06 18:58:35|2303106530796372754|2273948216456118473|2268105440917193414|   polaris|  30.07|   appliances|      kitchen|        mixer|2020-10-22 13:16:47|     30|       23|            1606.9|[0.09345794392523...|\n",
      "|1515915625493616830|2020-02-11 17:21:53|2348792162482651974|2273948297037087396|2268105538568979268|  goodride|  48.82|miscellaneous|miscellaneous|miscellaneous|2020-11-03 16:55:07|     18|       13|           2329.41|[0.05607476635514...|\n",
      "|1515915625509841711|2020-06-26 18:22:29|2353279208291042259|1515966223509088578|2268105428166508982|   samsung|  300.9|  electronics|   smartphone|miscellaneous|2020-10-18 17:02:19|     34|        9|           2198.63|[0.10591900311526...|\n",
      "|1515915625511044406|2020-02-11 18:18:50|2348792348751692368|1515966223509257792|2268105389385974414|electrolux| 358.77|   appliances|      kitchen|         hood|2020-09-03 16:58:57|     79|       31|           4871.38|[0.24610591900311...|\n",
      "|1515915625513331966|2020-01-22 13:20:53|2348776970906501355|1515966223509104401|2268105426908217754| transcend|   6.92|miscellaneous|miscellaneous|miscellaneous|2020-08-13 13:44:57|    100|        9|1361.3700000000001|[0.31152647975077...|\n",
      "|1515915625514159475|2020-02-28 21:15:33|2348804795617247592|1515966223509258414|2268105396776338182|     tailg| 601.83|miscellaneous|miscellaneous|miscellaneous|2020-10-16 01:25:23|     36|       16|           2400.24|[0.11214953271028...|\n",
      "|1515915625514160671|2020-01-17 11:23:16|2348774840300733103|1515966223509089400|2268105430162997728|   samsung|   81.0|  electronics|        audio|    headphone|2020-11-14 13:07:47|      7|       11|           4728.22|[0.02180685358255...|\n",
      "+-------------------+-------------------+-------------------+-------------------+-------------------+----------+-------+-------------+-------------+-------------+-------------------+-------+---------+------------------+--------------------+\n",
      "only showing top 20 rows\n",
      "\n"
     ]
    },
    {
     "name": "stderr",
     "output_type": "stream",
     "text": [
      "                                                                                \r"
     ]
    }
   ],
   "source": [
    "# Join rfm_data DataFrame with df DataFrame\n",
    "df_with_norm = df_with_rfm.join(df_norm, \"user_id\", \"left\")\n",
    "\n",
    "df_with_norm.show()\n"
   ]
  },
  {
   "cell_type": "code",
   "execution_count": 30,
   "id": "97f02e36-24a7-4c6a-9cc5-975577f9f8f9",
   "metadata": {},
   "outputs": [],
   "source": [
    "# output_path = \"NormWithData\"\n",
    "# df_with_norm.coalesce(1).write.csv(output_path, header=True)\n"
   ]
  },
  {
   "cell_type": "code",
   "execution_count": 37,
   "id": "ec215f91-29da-4b38-8ac3-17220beaa08c",
   "metadata": {},
   "outputs": [
    {
     "data": {
      "text/plain": [
       "[('user_id', 'bigint'),\n",
       " ('event_time', 'timestamp'),\n",
       " ('order_id', 'bigint'),\n",
       " ('product_id', 'bigint'),\n",
       " ('category_id', 'bigint'),\n",
       " ('brand', 'string'),\n",
       " ('price', 'double'),\n",
       " ('cat_1', 'string'),\n",
       " ('cat_2', 'string'),\n",
       " ('cat_3', 'string'),\n",
       " ('last_order_time', 'timestamp'),\n",
       " ('recency', 'int'),\n",
       " ('frequency', 'bigint'),\n",
       " ('monetary', 'double'),\n",
       " ('scaled_features', 'vector')]"
      ]
     },
     "execution_count": 37,
     "metadata": {},
     "output_type": "execute_result"
    }
   ],
   "source": [
    "df_with_norm.dtypes"
   ]
  },
  {
   "cell_type": "code",
   "execution_count": null,
   "id": "5398b035-9bf2-4768-87af-36a4a0e93e95",
   "metadata": {},
   "outputs": [],
   "source": []
  },
  {
   "cell_type": "code",
   "execution_count": 39,
   "id": "1ae00968-2348-4302-8f78-e973d7d702f4",
   "metadata": {},
   "outputs": [
    {
     "name": "stderr",
     "output_type": "stream",
     "text": [
      "[Stage 332:>                                                        (0 + 1) / 1]\r"
     ]
    },
    {
     "name": "stdout",
     "output_type": "stream",
     "text": [
      "+-------------------+-------------------+-------------------+-------------------+-------------------+----------+-------+-------------+-------------+-------------+-------------------+-------+---------+------------------+--------------------+-------------------+\n",
      "|            user_id|         event_time|           order_id|         product_id|        category_id|     brand|  price|        cat_1|        cat_2|        cat_3|    last_order_time|recency|frequency|          monetary|     scaled_features|scaled_features_int|\n",
      "+-------------------+-------------------+-------------------+-------------------+-------------------+----------+-------+-------------+-------------+-------------+-------------------+-------+---------+------------------+--------------------+-------------------+\n",
      "|1515915625441612480|2020-02-10 16:48:37|2348791608045994250|1515966223509122835|2268105430162997728|       neo|  20.81|  electronics|        audio|    headphone|2020-11-03 13:09:18|     18|       27|3760.3399999999997|[0.05607476635514...|      [0.0,0.0,0.0]|\n",
      "|1515915625443940057|2020-02-08 11:57:41|2348791388851666961|1515966223509335434|2309018577547559593|       ggg|  30.07|      apparel|        shirt|miscellaneous|2020-11-19 20:12:43|      2|       17|2958.9100000000003|[0.00623052959501...|      [0.0,0.0,0.0]|\n",
      "|1515915625448231173|2020-06-23 13:58:21|2353275108837032055|1515966223509881249|2268105388555502202|   samsung| 810.16|   appliances|      kitchen|         oven|2020-11-14 18:08:09|      7|       19| 5060.650000000001|[0.02180685358255...|      [0.0,0.0,0.0]|\n",
      "|1515915625452290673|2020-01-22 18:07:26|2348776920809734746|1515966223509117383|2268105408293897214|        hp|   9.93|   stationery|     cartrige|miscellaneous|2020-11-19 11:00:10|      2|       10|            525.78|[0.00623052959501...|      [0.0,0.0,0.0]|\n",
      "|1515915625455372283|2020-02-12 13:04:42|2348792334415561114|1515966223509090064|2268105426648170900|   samsung| 185.16|  electronics|       tablet|miscellaneous|2020-11-07 17:33:02|     14|       24|           4688.55|[0.04361370716510...|      [0.0,0.0,0.0]|\n",
      "|1515915625460013275|2020-01-21 17:38:19|2348776903453704554|2273948222277812511|2268105388555502202|   samsung| 462.94|   appliances|      kitchen|         oven|2020-10-26 11:24:44|     26|       17|3749.6200000000003|[0.08099688473520...|      [0.0,0.0,0.0]|\n",
      "|1515915625483792988|2020-06-22 16:03:24|2353273770635952932|1515966223510398442|2268105441647002326| panasonic| 106.46|   appliances|      kitchen|       kettle|2020-09-29 17:54:11|     53|       10|           2050.69|[0.16510903426791...|      [0.0,0.0,0.0]|\n",
      "|1515915625484619972|2020-01-21 13:35:46|2348777062342328622|1515966223509130215|2268105392070329020|   philips| 138.87|   appliances|  environment|       vacuum|2020-11-07 19:48:47|     14|        7|           1312.35|[0.04361370716510...|      [0.0,0.0,0.0]|\n",
      "|1515915625484627601|2020-02-28 20:21:15|2348804799140462968|1515966223509089560|2268105428166508982|     honor|  69.19|  electronics|   smartphone|miscellaneous|2020-11-19 13:38:42|      2|       32|           9559.95|[0.00623052959501...|      [0.0,0.0,0.0]|\n",
      "|1515915625484631448|2020-02-11 14:57:32|2348791644662268446|1515966223509090005|2268105430162997728|     trust|  37.01|  electronics|        audio|    headphone|2020-07-02 17:03:59|    142|        3|            187.43|[0.44236760124610...|      [0.0,0.0,0.0]|\n",
      "|1515915625484635841|2020-06-23 13:00:05|2353275308494291150|1515966223510338428|2268105391030141614| different|  13.87|   appliances|         iron|miscellaneous|2020-10-12 21:53:54|     40|       35|           4277.33|[0.12461059190031...|      [0.0,0.0,0.0]|\n",
      "|1515915625484642547|2020-01-17 11:48:58|2348774892939247745|1515966223510058555|2268105393848713950|  liebherr|1226.83|   appliances|      kitchen|refrigerators|2020-09-11 10:40:37|     71|       17|3221.1299999999997|[0.22118380062305...|      [0.0,0.0,0.0]|\n",
      "|1515915625484656830|2020-02-17 12:38:52|2348798506216456350|2273948181223965148|2268105409048870926|   tp-link|  13.87|    computers|      network|       router|2020-11-19 17:41:36|      2|       21| 4607.389999999999|[0.00623052959501...|      [0.0,0.0,0.0]|\n",
      "|1515915625492249288|2020-05-06 18:58:35|2303106530796372754|2273948216456118473|2268105440917193414|   polaris|  30.07|   appliances|      kitchen|        mixer|2020-10-22 13:16:47|     30|       23|            1606.9|[0.09345794392523...|      [0.0,0.0,0.0]|\n",
      "|1515915625493616830|2020-02-11 17:21:53|2348792162482651974|2273948297037087396|2268105538568979268|  goodride|  48.82|miscellaneous|miscellaneous|miscellaneous|2020-11-03 16:55:07|     18|       13|           2329.41|[0.05607476635514...|      [0.0,0.0,0.0]|\n",
      "|1515915625509841711|2020-06-26 18:22:29|2353279208291042259|1515966223509088578|2268105428166508982|   samsung|  300.9|  electronics|   smartphone|miscellaneous|2020-10-18 17:02:19|     34|        9|           2198.63|[0.10591900311526...|      [0.0,0.0,0.0]|\n",
      "|1515915625511044406|2020-02-11 18:18:50|2348792348751692368|1515966223509257792|2268105389385974414|electrolux| 358.77|   appliances|      kitchen|         hood|2020-09-03 16:58:57|     79|       31|           4871.38|[0.24610591900311...|      [0.0,0.0,0.0]|\n",
      "|1515915625513331966|2020-01-22 13:20:53|2348776970906501355|1515966223509104401|2268105426908217754| transcend|   6.92|miscellaneous|miscellaneous|miscellaneous|2020-08-13 13:44:57|    100|        9|1361.3700000000001|[0.31152647975077...|      [0.0,0.0,0.0]|\n",
      "|1515915625514159475|2020-02-28 21:15:33|2348804795617247592|1515966223509258414|2268105396776338182|     tailg| 601.83|miscellaneous|miscellaneous|miscellaneous|2020-10-16 01:25:23|     36|       16|           2400.24|[0.11214953271028...|      [0.0,0.0,0.0]|\n",
      "|1515915625514160671|2020-01-17 11:23:16|2348774840300733103|1515966223509089400|2268105430162997728|   samsung|   81.0|  electronics|        audio|    headphone|2020-11-14 13:07:47|      7|       11|           4728.22|[0.02180685358255...|      [0.0,0.0,0.0]|\n",
      "+-------------------+-------------------+-------------------+-------------------+-------------------+----------+-------+-------------+-------------+-------------+-------------------+-------+---------+------------------+--------------------+-------------------+\n",
      "only showing top 20 rows\n",
      "\n"
     ]
    },
    {
     "name": "stderr",
     "output_type": "stream",
     "text": [
      "                                                                                \r"
     ]
    }
   ],
   "source": [
    "from pyspark.sql.functions import udf\n",
    "from pyspark.sql.types import IntegerType\n",
    "from pyspark.ml.linalg import Vectors, VectorUDT\n",
    "\n",
    "# Define a UDF to convert each element of the vector to an integer\n",
    "def vector_to_int(vector):\n",
    "    return Vectors.dense([int(val) for val in vector])\n",
    "\n",
    "# Register the UDF\n",
    "vector_to_int_udf = udf(vector_to_int, VectorUDT())\n",
    "\n",
    "# Apply the UDF to the scaled_features column\n",
    "df_vect = df_with_norm.withColumn(\"scaled_features_int\", vector_to_int_udf(\"scaled_features\"))\n",
    "\n",
    "# Show the DataFrame\n",
    "df_vect.show()\n"
   ]
  },
  {
   "cell_type": "code",
   "execution_count": null,
   "id": "ccdaeeb9-dff4-42c1-acf1-5f330d29e01b",
   "metadata": {},
   "outputs": [],
   "source": []
  },
  {
   "cell_type": "code",
   "execution_count": null,
   "id": "6c43650e-ce3a-4db2-8185-cd627bebcf82",
   "metadata": {},
   "outputs": [],
   "source": []
  },
  {
   "cell_type": "code",
   "execution_count": null,
   "id": "21664be1-3fa8-4ef0-85df-7ba8491da0be",
   "metadata": {},
   "outputs": [],
   "source": []
  },
  {
   "cell_type": "code",
   "execution_count": null,
   "id": "26dda9c2-4ada-4708-a645-a207d5e807ac",
   "metadata": {},
   "outputs": [],
   "source": []
  },
  {
   "cell_type": "code",
   "execution_count": 43,
   "id": "8fc7891a-90c6-4349-9b3e-0867ce709102",
   "metadata": {},
   "outputs": [
    {
     "name": "stderr",
     "output_type": "stream",
     "text": [
      "                                                                                \r"
     ]
    },
    {
     "data": {
      "image/png": "[encoded data removed]",
      "text/plain": [
       "<Figure size 1000x600 with 1 Axes>"
      ]
     },
     "metadata": {},
     "output_type": "display_data"
    }
   ],
   "source": [
    "import matplotlib.pyplot as plt\n",
    "from pyspark.ml.feature import Bucketizer\n",
    "from pyspark.sql.functions import col\n",
    "\n",
    "# Define the range boundaries for bucketizing\n",
    "boundaries = [0, 20, 40, 60, 80, 100]\n",
    "\n",
    "# Bucketize the scaled_features column\n",
    "bucketizer = Bucketizer(splits=boundaries, inputCol=\"scaled_features_int\", outputCol=\"range\")\n",
    "df_bucketized = bucketizer.transform(normalized_rfm1)\n",
    "\n",
    "# Group the data by range and count the number of user_id in each range\n",
    "range_counts = df_bucketized.groupBy(\"range\").count().orderBy(\"range\").toPandas()\n",
    "\n",
    "# Plot the graph\n",
    "plt.figure(figsize=(10, 6))\n",
    "plt.bar(range_counts[\"range\"], range_counts[\"count\"], color='blue')\n",
    "plt.xlabel('Range')\n",
    "plt.ylabel('Number of User_IDs')\n",
    "plt.title('Number of User_IDs in Each Range of scaled_features')\n",
    "plt.xticks(range(5), ['0-0.2', '0.2-0.4', '0.4-0.6', '0.6-0.8', '0.8-1.0'])\n",
    "plt.grid(axis='y', linestyle='--', alpha=0.7)\n",
    "plt.show()\n"
   ]
  },
  {
   "cell_type": "code",
   "execution_count": null,
   "id": "85f4cd55-0698-449c-9014-a2933b4cd117",
   "metadata": {},
   "outputs": [],
   "source": []
  },
  {
   "cell_type": "code",
   "execution_count": null,
   "id": "16a2a7ab-083d-421e-a84c-73ad6034a510",
   "metadata": {},
   "outputs": [],
   "source": []
  },
  {
   "cell_type": "code",
   "execution_count": 21,
   "id": "fafbb8da-049d-49fb-930d-7ac4fe2573e6",
   "metadata": {},
   "outputs": [
    {
     "name": "stderr",
     "output_type": "stream",
     "text": [
      "24/02/19 08:46:05 ERROR PythonRunner: Python worker exited unexpectedly (crashed)\n",
      "org.apache.spark.api.python.PythonException: Traceback (most recent call last):\n",
      "  File \"/home/hadoop/spark-3.5.0-bin-hadoop3/python/lib/pyspark.zip/pyspark/worker.py\", line 1225, in main\n",
      "    eval_type = read_int(infile)\n",
      "  File \"/home/hadoop/spark-3.5.0-bin-hadoop3/python/lib/pyspark.zip/pyspark/serializers.py\", line 596, in read_int\n",
      "    raise EOFError\n",
      "EOFError\n",
      "\n",
      "\tat org.apache.spark.api.python.BasePythonRunner$ReaderIterator.handlePythonException(PythonRunner.scala:572)\n",
      "\tat org.apache.spark.api.python.PythonRunner$$anon$3.read(PythonRunner.scala:784)\n",
      "\tat org.apache.spark.api.python.PythonRunner$$anon$3.read(PythonRunner.scala:766)\n",
      "\tat org.apache.spark.api.python.BasePythonRunner$ReaderIterator.hasNext(PythonRunner.scala:525)\n",
      "\tat org.apache.spark.InterruptibleIterator.hasNext(InterruptibleIterator.scala:37)\n",
      "\tat scala.collection.Iterator$$anon$11.hasNext(Iterator.scala:491)\n",
      "\tat scala.collection.Iterator$$anon$10.hasNext(Iterator.scala:460)\n",
      "\tat scala.collection.Iterator$$anon$10.hasNext(Iterator.scala:460)\n",
      "\tat org.apache.spark.sql.catalyst.expressions.GeneratedClass$GeneratedIteratorForCodegenStage1.processNext(Unknown Source)\n",
      "\tat org.apache.spark.sql.execution.BufferedRowIterator.hasNext(BufferedRowIterator.java:43)\n",
      "\tat org.apache.spark.sql.execution.WholeStageCodegenEvaluatorFactory$WholeStageCodegenPartitionEvaluator$$anon$1.hasNext(WholeStageCodegenEvaluatorFactory.scala:43)\n",
      "\tat scala.collection.Iterator$$anon$10.hasNext(Iterator.scala:460)\n",
      "\tat scala.collection.Iterator$$anon$10.hasNext(Iterator.scala:460)\n",
      "\tat scala.collection.Iterator$$anon$10.hasNext(Iterator.scala:460)\n",
      "\tat scala.collection.Iterator$$anon$10.hasNext(Iterator.scala:460)\n",
      "\tat org.apache.spark.rdd.RDD$$anon$3.hasNext(RDD.scala:968)\n",
      "\tat scala.collection.Iterator$$anon$10.hasNext(Iterator.scala:460)\n",
      "\tat org.apache.spark.storage.memory.MemoryStore.putIterator(MemoryStore.scala:223)\n",
      "\tat org.apache.spark.storage.memory.MemoryStore.putIteratorAsValues(MemoryStore.scala:302)\n",
      "\tat org.apache.spark.storage.BlockManager.$anonfun$doPutIterator$1(BlockManager.scala:1601)\n",
      "\tat org.apache.spark.storage.BlockManager.org$apache$spark$storage$BlockManager$$doPut(BlockManager.scala:1528)\n",
      "\tat org.apache.spark.storage.BlockManager.doPutIterator(BlockManager.scala:1592)\n",
      "\tat org.apache.spark.storage.BlockManager.getOrElseUpdate(BlockManager.scala:1389)\n",
      "\tat org.apache.spark.storage.BlockManager.getOrElseUpdateRDDBlock(BlockManager.scala:1343)\n",
      "\tat org.apache.spark.rdd.RDD.getOrCompute(RDD.scala:376)\n",
      "\tat org.apache.spark.rdd.RDD.iterator(RDD.scala:326)\n",
      "\tat org.apache.spark.scheduler.ResultTask.runTask(ResultTask.scala:93)\n",
      "\tat org.apache.spark.TaskContext.runTaskWithListeners(TaskContext.scala:161)\n",
      "\tat org.apache.spark.scheduler.Task.run(Task.scala:141)\n",
      "\tat org.apache.spark.executor.Executor$TaskRunner.$anonfun$run$4(Executor.scala:620)\n",
      "\tat org.apache.spark.util.SparkErrorUtils.tryWithSafeFinally(SparkErrorUtils.scala:64)\n",
      "\tat org.apache.spark.util.SparkErrorUtils.tryWithSafeFinally$(SparkErrorUtils.scala:61)\n",
      "\tat org.apache.spark.util.Utils$.tryWithSafeFinally(Utils.scala:94)\n",
      "\tat org.apache.spark.executor.Executor$TaskRunner.run(Executor.scala:623)\n",
      "\tat java.util.concurrent.ThreadPoolExecutor.runWorker(ThreadPoolExecutor.java:1149)\n",
      "\tat java.util.concurrent.ThreadPoolExecutor$Worker.run(ThreadPoolExecutor.java:624)\n",
      "\tat java.lang.Thread.run(Thread.java:750)\n",
      "Caused by: java.lang.NullPointerException\n",
      "24/02/19 08:46:05 ERROR PythonRunner: This may have been caused by a prior exception:\n",
      "java.lang.NullPointerException\n",
      "24/02/19 08:46:05 WARN BlockManager: Putting block rdd_255_5 failed due to exception java.lang.NullPointerException.\n",
      "24/02/19 08:46:05 WARN BlockManager: Block rdd_255_5 could not be removed as it was not found on disk or in memory\n",
      "24/02/19 08:46:05 ERROR PythonRunner: Python worker exited unexpectedly (crashed)\n",
      "org.apache.spark.api.python.PythonException: Traceback (most recent call last):\n",
      "  File \"/home/hadoop/spark-3.5.0-bin-hadoop3/python/lib/pyspark.zip/pyspark/worker.py\", line 1225, in main\n",
      "    eval_type = read_int(infile)\n",
      "  File \"/home/hadoop/spark-3.5.0-bin-hadoop3/python/lib/pyspark.zip/pyspark/serializers.py\", line 596, in read_int\n",
      "    raise EOFError\n",
      "EOFError\n",
      "\n",
      "\tat org.apache.spark.api.python.BasePythonRunner$ReaderIterator.handlePythonException(PythonRunner.scala:572)\n",
      "\tat org.apache.spark.api.python.PythonRunner$$anon$3.read(PythonRunner.scala:784)\n",
      "\tat org.apache.spark.api.python.PythonRunner$$anon$3.read(PythonRunner.scala:766)\n",
      "\tat org.apache.spark.api.python.BasePythonRunner$ReaderIterator.hasNext(PythonRunner.scala:525)\n",
      "\tat org.apache.spark.InterruptibleIterator.hasNext(InterruptibleIterator.scala:37)\n",
      "\tat scala.collection.Iterator$$anon$11.hasNext(Iterator.scala:491)\n",
      "\tat scala.collection.Iterator$$anon$10.hasNext(Iterator.scala:460)\n",
      "\tat scala.collection.Iterator$$anon$10.hasNext(Iterator.scala:460)\n",
      "\tat org.apache.spark.sql.catalyst.expressions.GeneratedClass$GeneratedIteratorForCodegenStage1.processNext(Unknown Source)\n",
      "\tat org.apache.spark.sql.execution.BufferedRowIterator.hasNext(BufferedRowIterator.java:43)\n",
      "\tat org.apache.spark.sql.execution.WholeStageCodegenEvaluatorFactory$WholeStageCodegenPartitionEvaluator$$anon$1.hasNext(WholeStageCodegenEvaluatorFactory.scala:43)\n",
      "\tat scala.collection.Iterator$$anon$10.hasNext(Iterator.scala:460)\n",
      "\tat scala.collection.Iterator$$anon$10.hasNext(Iterator.scala:460)\n",
      "\tat scala.collection.Iterator$$anon$10.hasNext(Iterator.scala:460)\n",
      "\tat scala.collection.Iterator$$anon$10.hasNext(Iterator.scala:460)\n",
      "\tat org.apache.spark.rdd.RDD$$anon$3.hasNext(RDD.scala:968)\n",
      "\tat scala.collection.Iterator$$anon$10.hasNext(Iterator.scala:460)\n",
      "\tat org.apache.spark.storage.memory.MemoryStore.putIterator(MemoryStore.scala:223)\n",
      "\tat org.apache.spark.storage.memory.MemoryStore.putIteratorAsValues(MemoryStore.scala:302)\n",
      "\tat org.apache.spark.storage.BlockManager.$anonfun$doPutIterator$1(BlockManager.scala:1601)\n",
      "\tat org.apache.spark.storage.BlockManager.org$apache$spark$storage$BlockManager$$doPut(BlockManager.scala:1528)\n",
      "\tat org.apache.spark.storage.BlockManager.doPutIterator(BlockManager.scala:1592)\n",
      "\tat org.apache.spark.storage.BlockManager.getOrElseUpdate(BlockManager.scala:1389)\n",
      "\tat org.apache.spark.storage.BlockManager.getOrElseUpdateRDDBlock(BlockManager.scala:1343)\n",
      "\tat org.apache.spark.rdd.RDD.getOrCompute(RDD.scala:376)\n",
      "\tat org.apache.spark.rdd.RDD.iterator(RDD.scala:326)\n",
      "\tat org.apache.spark.scheduler.ResultTask.runTask(ResultTask.scala:93)\n",
      "\tat org.apache.spark.TaskContext.runTaskWithListeners(TaskContext.scala:161)\n",
      "\tat org.apache.spark.scheduler.Task.run(Task.scala:141)\n",
      "\tat org.apache.spark.executor.Executor$TaskRunner.$anonfun$run$4(Executor.scala:620)\n",
      "\tat org.apache.spark.util.SparkErrorUtils.tryWithSafeFinally(SparkErrorUtils.scala:64)\n",
      "\tat org.apache.spark.util.SparkErrorUtils.tryWithSafeFinally$(SparkErrorUtils.scala:61)\n",
      "\tat org.apache.spark.util.Utils$.tryWithSafeFinally(Utils.scala:94)\n",
      "\tat org.apache.spark.executor.Executor$TaskRunner.run(Executor.scala:623)\n",
      "\tat java.util.concurrent.ThreadPoolExecutor.runWorker(ThreadPoolExecutor.java:1149)\n",
      "\tat java.util.concurrent.ThreadPoolExecutor$Worker.run(ThreadPoolExecutor.java:624)\n",
      "\tat java.lang.Thread.run(Thread.java:750)\n",
      "Caused by: java.lang.NullPointerException\n",
      "24/02/19 08:46:05 ERROR PythonRunner: This may have been caused by a prior exception:\n",
      "java.lang.NullPointerException\n",
      "24/02/19 08:46:05 WARN BlockManager: Putting block rdd_255_6 failed due to exception java.lang.NullPointerException.\n",
      "24/02/19 08:46:05 WARN BlockManager: Block rdd_255_6 could not be removed as it was not found on disk or in memory\n",
      "24/02/19 08:46:05 ERROR Executor: Exception in task 5.0 in stage 171.0 (TID 287)\n",
      "java.lang.NullPointerException\n",
      "24/02/19 08:46:05 ERROR Executor: Exception in task 6.0 in stage 171.0 (TID 288)\n",
      "java.lang.NullPointerException\n",
      "24/02/19 08:46:05 WARN TaskSetManager: Lost task 5.0 in stage 171.0 (TID 287) (192.168.1.157 executor driver): java.lang.NullPointerException\n",
      "\n",
      "24/02/19 08:46:05 ERROR TaskSetManager: Task 5 in stage 171.0 failed 1 times; aborting job\n",
      "24/02/19 08:46:05 ERROR Instrumentation: org.apache.spark.SparkException: Job aborted due to stage failure: Task 5 in stage 171.0 failed 1 times, most recent failure: Lost task 5.0 in stage 171.0 (TID 287) (192.168.1.157 executor driver): java.lang.NullPointerException\n",
      "\n",
      "Driver stacktrace:\n",
      "\tat org.apache.spark.scheduler.DAGScheduler.failJobAndIndependentStages(DAGScheduler.scala:2844)\n",
      "\tat org.apache.spark.scheduler.DAGScheduler.$anonfun$abortStage$2(DAGScheduler.scala:2780)\n",
      "\tat org.apache.spark.scheduler.DAGScheduler.$anonfun$abortStage$2$adapted(DAGScheduler.scala:2779)\n",
      "\tat scala.collection.mutable.ResizableArray.foreach(ResizableArray.scala:62)\n",
      "\tat scala.collection.mutable.ResizableArray.foreach$(ResizableArray.scala:55)\n",
      "\tat scala.collection.mutable.ArrayBuffer.foreach(ArrayBuffer.scala:49)\n",
      "\tat org.apache.spark.scheduler.DAGScheduler.abortStage(DAGScheduler.scala:2779)\n",
      "\tat org.apache.spark.scheduler.DAGScheduler.$anonfun$handleTaskSetFailed$1(DAGScheduler.scala:1242)\n",
      "\tat org.apache.spark.scheduler.DAGScheduler.$anonfun$handleTaskSetFailed$1$adapted(DAGScheduler.scala:1242)\n",
      "\tat scala.Option.foreach(Option.scala:407)\n",
      "\tat org.apache.spark.scheduler.DAGScheduler.handleTaskSetFailed(DAGScheduler.scala:1242)\n",
      "\tat org.apache.spark.scheduler.DAGSchedulerEventProcessLoop.doOnReceive(DAGScheduler.scala:3048)\n",
      "\tat org.apache.spark.scheduler.DAGSchedulerEventProcessLoop.onReceive(DAGScheduler.scala:2982)\n",
      "\tat org.apache.spark.scheduler.DAGSchedulerEventProcessLoop.onReceive(DAGScheduler.scala:2971)\n",
      "\tat org.apache.spark.util.EventLoop$$anon$1.run(EventLoop.scala:49)\n",
      "\tat org.apache.spark.scheduler.DAGScheduler.runJob(DAGScheduler.scala:984)\n",
      "\tat org.apache.spark.SparkContext.runJob(SparkContext.scala:2398)\n",
      "\tat org.apache.spark.SparkContext.runJob(SparkContext.scala:2419)\n",
      "\tat org.apache.spark.SparkContext.runJob(SparkContext.scala:2438)\n",
      "\tat org.apache.spark.SparkContext.runJob(SparkContext.scala:2463)\n",
      "\tat org.apache.spark.rdd.RDD.count(RDD.scala:1293)\n",
      "\tat org.apache.spark.rdd.RDD.$anonfun$takeSample$1(RDD.scala:626)\n",
      "\tat org.apache.spark.rdd.RDDOperationScope$.withScope(RDDOperationScope.scala:151)\n",
      "\tat org.apache.spark.rdd.RDDOperationScope$.withScope(RDDOperationScope.scala:112)\n",
      "\tat org.apache.spark.rdd.RDD.withScope(RDD.scala:407)\n",
      "\tat org.apache.spark.rdd.RDD.takeSample(RDD.scala:615)\n",
      "\tat org.apache.spark.mllib.clustering.KMeans.initKMeansParallel(KMeans.scala:400)\n",
      "\tat org.apache.spark.mllib.clustering.KMeans.runAlgorithmWithWeight(KMeans.scala:273)\n",
      "\tat org.apache.spark.mllib.clustering.KMeans.runWithWeight(KMeans.scala:231)\n",
      "\tat org.apache.spark.ml.clustering.KMeans.trainWithRow(KMeans.scala:446)\n",
      "\tat org.apache.spark.ml.clustering.KMeans.$anonfun$fit$1(KMeans.scala:382)\n",
      "\tat org.apache.spark.ml.util.Instrumentation$.$anonfun$instrumented$1(Instrumentation.scala:191)\n",
      "\tat scala.util.Try$.apply(Try.scala:213)\n",
      "\tat org.apache.spark.ml.util.Instrumentation$.instrumented(Instrumentation.scala:191)\n",
      "\tat org.apache.spark.ml.clustering.KMeans.fit(KMeans.scala:371)\n",
      "\tat org.apache.spark.ml.clustering.KMeans.fit(KMeans.scala:295)\n",
      "\tat sun.reflect.NativeMethodAccessorImpl.invoke0(Native Method)\n",
      "\tat sun.reflect.NativeMethodAccessorImpl.invoke(NativeMethodAccessorImpl.java:62)\n",
      "\tat sun.reflect.DelegatingMethodAccessorImpl.invoke(DelegatingMethodAccessorImpl.java:43)\n",
      "\tat java.lang.reflect.Method.invoke(Method.java:498)\n",
      "\tat py4j.reflection.MethodInvoker.invoke(MethodInvoker.java:244)\n",
      "\tat py4j.reflection.ReflectionEngine.invoke(ReflectionEngine.java:374)\n",
      "\tat py4j.Gateway.invoke(Gateway.java:282)\n",
      "\tat py4j.commands.AbstractCommand.invokeMethod(AbstractCommand.java:132)\n",
      "\tat py4j.commands.CallCommand.execute(CallCommand.java:79)\n",
      "\tat py4j.ClientServerConnection.waitForCommands(ClientServerConnection.java:182)\n",
      "\tat py4j.ClientServerConnection.run(ClientServerConnection.java:106)\n",
      "\tat java.lang.Thread.run(Thread.java:750)\n",
      "Caused by: java.lang.NullPointerException\n",
      "\n",
      "24/02/19 08:46:05 ERROR PythonRunner: Python worker exited unexpectedly (crashed)\n",
      "org.apache.spark.api.python.PythonException: Traceback (most recent call last):\n",
      "  File \"/home/hadoop/spark-3.5.0-bin-hadoop3/python/lib/pyspark.zip/pyspark/worker.py\", line 1225, in main\n",
      "    eval_type = read_int(infile)\n",
      "  File \"/home/hadoop/spark-3.5.0-bin-hadoop3/python/lib/pyspark.zip/pyspark/serializers.py\", line 596, in read_int\n",
      "    raise EOFError\n",
      "EOFError\n",
      "\n",
      "\tat org.apache.spark.api.python.BasePythonRunner$ReaderIterator.handlePythonException(PythonRunner.scala:572)\n",
      "\tat org.apache.spark.api.python.PythonRunner$$anon$3.read(PythonRunner.scala:784)\n",
      "\tat org.apache.spark.api.python.PythonRunner$$anon$3.read(PythonRunner.scala:766)\n",
      "\tat org.apache.spark.api.python.BasePythonRunner$ReaderIterator.hasNext(PythonRunner.scala:525)\n",
      "\tat org.apache.spark.InterruptibleIterator.hasNext(InterruptibleIterator.scala:37)\n",
      "\tat scala.collection.Iterator$$anon$11.hasNext(Iterator.scala:491)\n",
      "\tat scala.collection.Iterator$$anon$10.hasNext(Iterator.scala:460)\n",
      "\tat scala.collection.Iterator$$anon$10.hasNext(Iterator.scala:460)\n",
      "\tat org.apache.spark.sql.catalyst.expressions.GeneratedClass$GeneratedIteratorForCodegenStage1.processNext(Unknown Source)\n",
      "\tat org.apache.spark.sql.execution.BufferedRowIterator.hasNext(BufferedRowIterator.java:43)\n",
      "\tat org.apache.spark.sql.execution.WholeStageCodegenEvaluatorFactory$WholeStageCodegenPartitionEvaluator$$anon$1.hasNext(WholeStageCodegenEvaluatorFactory.scala:43)\n",
      "\tat scala.collection.Iterator$$anon$10.hasNext(Iterator.scala:460)\n",
      "\tat scala.collection.Iterator$$anon$10.hasNext(Iterator.scala:460)\n",
      "\tat scala.collection.Iterator$$anon$10.hasNext(Iterator.scala:460)\n",
      "\tat scala.collection.Iterator$$anon$10.hasNext(Iterator.scala:460)\n",
      "\tat org.apache.spark.rdd.RDD$$anon$3.hasNext(RDD.scala:968)\n",
      "\tat scala.collection.Iterator$$anon$10.hasNext(Iterator.scala:460)\n",
      "\tat org.apache.spark.storage.memory.MemoryStore.putIterator(MemoryStore.scala:223)\n",
      "\tat org.apache.spark.storage.memory.MemoryStore.putIteratorAsValues(MemoryStore.scala:302)\n",
      "\tat org.apache.spark.storage.BlockManager.$anonfun$doPutIterator$1(BlockManager.scala:1601)\n",
      "\tat org.apache.spark.storage.BlockManager.org$apache$spark$storage$BlockManager$$doPut(BlockManager.scala:1528)\n",
      "\tat org.apache.spark.storage.BlockManager.doPutIterator(BlockManager.scala:1592)\n",
      "\tat org.apache.spark.storage.BlockManager.getOrElseUpdate(BlockManager.scala:1389)\n",
      "\tat org.apache.spark.storage.BlockManager.getOrElseUpdateRDDBlock(BlockManager.scala:1343)\n",
      "\tat org.apache.spark.rdd.RDD.getOrCompute(RDD.scala:376)\n",
      "\tat org.apache.spark.rdd.RDD.iterator(RDD.scala:326)\n",
      "\tat org.apache.spark.scheduler.ResultTask.runTask(ResultTask.scala:93)\n",
      "\tat org.apache.spark.TaskContext.runTaskWithListeners(TaskContext.scala:161)\n",
      "\tat org.apache.spark.scheduler.Task.run(Task.scala:141)\n",
      "\tat org.apache.spark.executor.Executor$TaskRunner.$anonfun$run$4(Executor.scala:620)\n",
      "\tat org.apache.spark.util.SparkErrorUtils.tryWithSafeFinally(SparkErrorUtils.scala:64)\n",
      "\tat org.apache.spark.util.SparkErrorUtils.tryWithSafeFinally$(SparkErrorUtils.scala:61)\n",
      "\tat org.apache.spark.util.Utils$.tryWithSafeFinally(Utils.scala:94)\n",
      "\tat org.apache.spark.executor.Executor$TaskRunner.run(Executor.scala:623)\n",
      "\tat java.util.concurrent.ThreadPoolExecutor.runWorker(ThreadPoolExecutor.java:1149)\n",
      "\tat java.util.concurrent.ThreadPoolExecutor$Worker.run(ThreadPoolExecutor.java:624)\n",
      "\tat java.lang.Thread.run(Thread.java:750)\n",
      "Caused by: java.lang.NullPointerException\n",
      "24/02/19 08:46:05 ERROR PythonRunner: This may have been caused by a prior exception:\n",
      "java.lang.NullPointerException\n",
      "24/02/19 08:46:05 WARN BlockManager: Putting block rdd_255_0 failed due to exception java.lang.NullPointerException.\n",
      "24/02/19 08:46:05 WARN BlockManager: Block rdd_255_0 could not be removed as it was not found on disk or in memory\n",
      "24/02/19 08:46:05 WARN BlockManager: Putting block rdd_255_3 failed due to exception org.apache.spark.TaskKilledException.\n",
      "24/02/19 08:46:05 WARN BlockManager: Putting block rdd_255_7 failed due to exception org.apache.spark.TaskKilledException.\n",
      "24/02/19 08:46:05 WARN BlockManager: Block rdd_255_7 could not be removed as it was not found on disk or in memory\n",
      "24/02/19 08:46:05 WARN BlockManager: Block rdd_255_3 could not be removed as it was not found on disk or in memory\n",
      "24/02/19 08:46:05 WARN TaskSetManager: Lost task 7.0 in stage 171.0 (TID 289) (192.168.1.157 executor driver): TaskKilled (Stage cancelled: Job aborted due to stage failure: Task 5 in stage 171.0 failed 1 times, most recent failure: Lost task 5.0 in stage 171.0 (TID 287) (192.168.1.157 executor driver): java.lang.NullPointerException\n",
      "\n",
      "Driver stacktrace:)\n",
      "24/02/19 08:46:05 WARN BlockManager: Putting block rdd_255_2 failed due to exception org.apache.spark.TaskKilledException.\n",
      "24/02/19 08:46:05 WARN BlockManager: Block rdd_255_2 could not be removed as it was not found on disk or in memory\n",
      "24/02/19 08:46:05 WARN TaskSetManager: Lost task 3.0 in stage 171.0 (TID 285) (192.168.1.157 executor driver): TaskKilled (Stage cancelled: Job aborted due to stage failure: Task 5 in stage 171.0 failed 1 times, most recent failure: Lost task 5.0 in stage 171.0 (TID 287) (192.168.1.157 executor driver): java.lang.NullPointerException\n",
      "\n",
      "Driver stacktrace:)\n",
      "24/02/19 08:46:05 WARN TaskSetManager: Lost task 0.0 in stage 171.0 (TID 282) (192.168.1.157 executor driver): TaskKilled (Stage cancelled: Job aborted due to stage failure: Task 5 in stage 171.0 failed 1 times, most recent failure: Lost task 5.0 in stage 171.0 (TID 287) (192.168.1.157 executor driver): java.lang.NullPointerException\n",
      "\n",
      "Driver stacktrace:)\n",
      "24/02/19 08:46:05 WARN TaskSetManager: Lost task 2.0 in stage 171.0 (TID 284) (192.168.1.157 executor driver): TaskKilled (Stage cancelled: Job aborted due to stage failure: Task 5 in stage 171.0 failed 1 times, most recent failure: Lost task 5.0 in stage 171.0 (TID 287) (192.168.1.157 executor driver): java.lang.NullPointerException\n",
      "\n",
      "Driver stacktrace:)\n"
     ]
    },
    {
     "ename": "Py4JJavaError",
     "evalue": "An error occurred while calling o459.fit.\n: org.apache.spark.SparkException: Job aborted due to stage failure: Task 5 in stage 171.0 failed 1 times, most recent failure: Lost task 5.0 in stage 171.0 (TID 287) (192.168.1.157 executor driver): java.lang.NullPointerException\n\nDriver stacktrace:\n\tat org.apache.spark.scheduler.DAGScheduler.failJobAndIndependentStages(DAGScheduler.scala:2844)\n\tat org.apache.spark.scheduler.DAGScheduler.$anonfun$abortStage$2(DAGScheduler.scala:2780)\n\tat org.apache.spark.scheduler.DAGScheduler.$anonfun$abortStage$2$adapted(DAGScheduler.scala:2779)\n\tat scala.collection.mutable.ResizableArray.foreach(ResizableArray.scala:62)\n\tat scala.collection.mutable.ResizableArray.foreach$(ResizableArray.scala:55)\n\tat scala.collection.mutable.ArrayBuffer.foreach(ArrayBuffer.scala:49)\n\tat org.apache.spark.scheduler.DAGScheduler.abortStage(DAGScheduler.scala:2779)\n\tat org.apache.spark.scheduler.DAGScheduler.$anonfun$handleTaskSetFailed$1(DAGScheduler.scala:1242)\n\tat org.apache.spark.scheduler.DAGScheduler.$anonfun$handleTaskSetFailed$1$adapted(DAGScheduler.scala:1242)\n\tat scala.Option.foreach(Option.scala:407)\n\tat org.apache.spark.scheduler.DAGScheduler.handleTaskSetFailed(DAGScheduler.scala:1242)\n\tat org.apache.spark.scheduler.DAGSchedulerEventProcessLoop.doOnReceive(DAGScheduler.scala:3048)\n\tat org.apache.spark.scheduler.DAGSchedulerEventProcessLoop.onReceive(DAGScheduler.scala:2982)\n\tat org.apache.spark.scheduler.DAGSchedulerEventProcessLoop.onReceive(DAGScheduler.scala:2971)\n\tat org.apache.spark.util.EventLoop$$anon$1.run(EventLoop.scala:49)\n\tat org.apache.spark.scheduler.DAGScheduler.runJob(DAGScheduler.scala:984)\n\tat org.apache.spark.SparkContext.runJob(SparkContext.scala:2398)\n\tat org.apache.spark.SparkContext.runJob(SparkContext.scala:2419)\n\tat org.apache.spark.SparkContext.runJob(SparkContext.scala:2438)\n\tat org.apache.spark.SparkContext.runJob(SparkContext.scala:2463)\n\tat org.apache.spark.rdd.RDD.count(RDD.scala:1293)\n\tat org.apache.spark.rdd.RDD.$anonfun$takeSample$1(RDD.scala:626)\n\tat org.apache.spark.rdd.RDDOperationScope$.withScope(RDDOperationScope.scala:151)\n\tat org.apache.spark.rdd.RDDOperationScope$.withScope(RDDOperationScope.scala:112)\n\tat org.apache.spark.rdd.RDD.withScope(RDD.scala:407)\n\tat org.apache.spark.rdd.RDD.takeSample(RDD.scala:615)\n\tat org.apache.spark.mllib.clustering.KMeans.initKMeansParallel(KMeans.scala:400)\n\tat org.apache.spark.mllib.clustering.KMeans.runAlgorithmWithWeight(KMeans.scala:273)\n\tat org.apache.spark.mllib.clustering.KMeans.runWithWeight(KMeans.scala:231)\n\tat org.apache.spark.ml.clustering.KMeans.trainWithRow(KMeans.scala:446)\n\tat org.apache.spark.ml.clustering.KMeans.$anonfun$fit$1(KMeans.scala:382)\n\tat org.apache.spark.ml.util.Instrumentation$.$anonfun$instrumented$1(Instrumentation.scala:191)\n\tat scala.util.Try$.apply(Try.scala:213)\n\tat org.apache.spark.ml.util.Instrumentation$.instrumented(Instrumentation.scala:191)\n\tat org.apache.spark.ml.clustering.KMeans.fit(KMeans.scala:371)\n\tat org.apache.spark.ml.clustering.KMeans.fit(KMeans.scala:295)\n\tat sun.reflect.NativeMethodAccessorImpl.invoke0(Native Method)\n\tat sun.reflect.NativeMethodAccessorImpl.invoke(NativeMethodAccessorImpl.java:62)\n\tat sun.reflect.DelegatingMethodAccessorImpl.invoke(DelegatingMethodAccessorImpl.java:43)\n\tat java.lang.reflect.Method.invoke(Method.java:498)\n\tat py4j.reflection.MethodInvoker.invoke(MethodInvoker.java:244)\n\tat py4j.reflection.ReflectionEngine.invoke(ReflectionEngine.java:374)\n\tat py4j.Gateway.invoke(Gateway.java:282)\n\tat py4j.commands.AbstractCommand.invokeMethod(AbstractCommand.java:132)\n\tat py4j.commands.CallCommand.execute(CallCommand.java:79)\n\tat py4j.ClientServerConnection.waitForCommands(ClientServerConnection.java:182)\n\tat py4j.ClientServerConnection.run(ClientServerConnection.java:106)\n\tat java.lang.Thread.run(Thread.java:750)\nCaused by: java.lang.NullPointerException\n",
     "output_type": "error",
     "traceback": [
      "\u001b[0;31m---------------------------------------------------------------------------\u001b[0m",
      "\u001b[0;31mPy4JJavaError\u001b[0m                             Traceback (most recent call last)",
      "Cell \u001b[0;32mIn[21], line 16\u001b[0m\n\u001b[1;32m     13\u001b[0m kmeans \u001b[38;5;241m=\u001b[39m KMeans(k\u001b[38;5;241m=\u001b[39m\u001b[38;5;241m5\u001b[39m, seed\u001b[38;5;241m=\u001b[39m\u001b[38;5;241m42\u001b[39m)\n\u001b[1;32m     15\u001b[0m \u001b[38;5;66;03m# Fit the KMeans model to the data\u001b[39;00m\n\u001b[0;32m---> 16\u001b[0m model \u001b[38;5;241m=\u001b[39m \u001b[43mkmeans\u001b[49m\u001b[38;5;241;43m.\u001b[39;49m\u001b[43mfit\u001b[49m\u001b[43m(\u001b[49m\u001b[43mnormalized_rfm\u001b[49m\u001b[43m)\u001b[49m\n\u001b[1;32m     18\u001b[0m \u001b[38;5;66;03m# Make predictions\u001b[39;00m\n\u001b[1;32m     19\u001b[0m \u001b[38;5;66;03m# predictions = model.transform(normalized_rfm)\u001b[39;00m\n\u001b[1;32m     20\u001b[0m \n\u001b[0;32m   (...)\u001b[0m\n\u001b[1;32m     24\u001b[0m \u001b[38;5;66;03m# Stop SparkSession\u001b[39;00m\n\u001b[1;32m     25\u001b[0m \u001b[38;5;66;03m# spark.stop()\u001b[39;00m\n",
      "File \u001b[0;32m~/spark-3.5.0-bin-hadoop3/python/pyspark/ml/base.py:205\u001b[0m, in \u001b[0;36mEstimator.fit\u001b[0;34m(self, dataset, params)\u001b[0m\n\u001b[1;32m    203\u001b[0m         \u001b[38;5;28;01mreturn\u001b[39;00m \u001b[38;5;28mself\u001b[39m\u001b[38;5;241m.\u001b[39mcopy(params)\u001b[38;5;241m.\u001b[39m_fit(dataset)\n\u001b[1;32m    204\u001b[0m     \u001b[38;5;28;01melse\u001b[39;00m:\n\u001b[0;32m--> 205\u001b[0m         \u001b[38;5;28;01mreturn\u001b[39;00m \u001b[38;5;28;43mself\u001b[39;49m\u001b[38;5;241;43m.\u001b[39;49m\u001b[43m_fit\u001b[49m\u001b[43m(\u001b[49m\u001b[43mdataset\u001b[49m\u001b[43m)\u001b[49m\n\u001b[1;32m    206\u001b[0m \u001b[38;5;28;01melse\u001b[39;00m:\n\u001b[1;32m    207\u001b[0m     \u001b[38;5;28;01mraise\u001b[39;00m \u001b[38;5;167;01mTypeError\u001b[39;00m(\n\u001b[1;32m    208\u001b[0m         \u001b[38;5;124m\"\u001b[39m\u001b[38;5;124mParams must be either a param map or a list/tuple of param maps, \u001b[39m\u001b[38;5;124m\"\u001b[39m\n\u001b[1;32m    209\u001b[0m         \u001b[38;5;124m\"\u001b[39m\u001b[38;5;124mbut got \u001b[39m\u001b[38;5;132;01m%s\u001b[39;00m\u001b[38;5;124m.\u001b[39m\u001b[38;5;124m\"\u001b[39m \u001b[38;5;241m%\u001b[39m \u001b[38;5;28mtype\u001b[39m(params)\n\u001b[1;32m    210\u001b[0m     )\n",
      "File \u001b[0;32m~/spark-3.5.0-bin-hadoop3/python/pyspark/ml/wrapper.py:381\u001b[0m, in \u001b[0;36mJavaEstimator._fit\u001b[0;34m(self, dataset)\u001b[0m\n\u001b[1;32m    380\u001b[0m \u001b[38;5;28;01mdef\u001b[39;00m \u001b[38;5;21m_fit\u001b[39m(\u001b[38;5;28mself\u001b[39m, dataset: DataFrame) \u001b[38;5;241m-\u001b[39m\u001b[38;5;241m>\u001b[39m JM:\n\u001b[0;32m--> 381\u001b[0m     java_model \u001b[38;5;241m=\u001b[39m \u001b[38;5;28;43mself\u001b[39;49m\u001b[38;5;241;43m.\u001b[39;49m\u001b[43m_fit_java\u001b[49m\u001b[43m(\u001b[49m\u001b[43mdataset\u001b[49m\u001b[43m)\u001b[49m\n\u001b[1;32m    382\u001b[0m     model \u001b[38;5;241m=\u001b[39m \u001b[38;5;28mself\u001b[39m\u001b[38;5;241m.\u001b[39m_create_model(java_model)\n\u001b[1;32m    383\u001b[0m     \u001b[38;5;28;01mreturn\u001b[39;00m \u001b[38;5;28mself\u001b[39m\u001b[38;5;241m.\u001b[39m_copyValues(model)\n",
      "File \u001b[0;32m~/spark-3.5.0-bin-hadoop3/python/pyspark/ml/wrapper.py:378\u001b[0m, in \u001b[0;36mJavaEstimator._fit_java\u001b[0;34m(self, dataset)\u001b[0m\n\u001b[1;32m    375\u001b[0m \u001b[38;5;28;01massert\u001b[39;00m \u001b[38;5;28mself\u001b[39m\u001b[38;5;241m.\u001b[39m_java_obj \u001b[38;5;129;01mis\u001b[39;00m \u001b[38;5;129;01mnot\u001b[39;00m \u001b[38;5;28;01mNone\u001b[39;00m\n\u001b[1;32m    377\u001b[0m \u001b[38;5;28mself\u001b[39m\u001b[38;5;241m.\u001b[39m_transfer_params_to_java()\n\u001b[0;32m--> 378\u001b[0m \u001b[38;5;28;01mreturn\u001b[39;00m \u001b[38;5;28;43mself\u001b[39;49m\u001b[38;5;241;43m.\u001b[39;49m\u001b[43m_java_obj\u001b[49m\u001b[38;5;241;43m.\u001b[39;49m\u001b[43mfit\u001b[49m\u001b[43m(\u001b[49m\u001b[43mdataset\u001b[49m\u001b[38;5;241;43m.\u001b[39;49m\u001b[43m_jdf\u001b[49m\u001b[43m)\u001b[49m\n",
      "File \u001b[0;32m~/spark-3.5.0-bin-hadoop3/python/lib/py4j-0.10.9.7-src.zip/py4j/java_gateway.py:1322\u001b[0m, in \u001b[0;36mJavaMember.__call__\u001b[0;34m(self, *args)\u001b[0m\n\u001b[1;32m   1316\u001b[0m command \u001b[38;5;241m=\u001b[39m proto\u001b[38;5;241m.\u001b[39mCALL_COMMAND_NAME \u001b[38;5;241m+\u001b[39m\\\n\u001b[1;32m   1317\u001b[0m     \u001b[38;5;28mself\u001b[39m\u001b[38;5;241m.\u001b[39mcommand_header \u001b[38;5;241m+\u001b[39m\\\n\u001b[1;32m   1318\u001b[0m     args_command \u001b[38;5;241m+\u001b[39m\\\n\u001b[1;32m   1319\u001b[0m     proto\u001b[38;5;241m.\u001b[39mEND_COMMAND_PART\n\u001b[1;32m   1321\u001b[0m answer \u001b[38;5;241m=\u001b[39m \u001b[38;5;28mself\u001b[39m\u001b[38;5;241m.\u001b[39mgateway_client\u001b[38;5;241m.\u001b[39msend_command(command)\n\u001b[0;32m-> 1322\u001b[0m return_value \u001b[38;5;241m=\u001b[39m \u001b[43mget_return_value\u001b[49m\u001b[43m(\u001b[49m\n\u001b[1;32m   1323\u001b[0m \u001b[43m    \u001b[49m\u001b[43manswer\u001b[49m\u001b[43m,\u001b[49m\u001b[43m \u001b[49m\u001b[38;5;28;43mself\u001b[39;49m\u001b[38;5;241;43m.\u001b[39;49m\u001b[43mgateway_client\u001b[49m\u001b[43m,\u001b[49m\u001b[43m \u001b[49m\u001b[38;5;28;43mself\u001b[39;49m\u001b[38;5;241;43m.\u001b[39;49m\u001b[43mtarget_id\u001b[49m\u001b[43m,\u001b[49m\u001b[43m \u001b[49m\u001b[38;5;28;43mself\u001b[39;49m\u001b[38;5;241;43m.\u001b[39;49m\u001b[43mname\u001b[49m\u001b[43m)\u001b[49m\n\u001b[1;32m   1325\u001b[0m \u001b[38;5;28;01mfor\u001b[39;00m temp_arg \u001b[38;5;129;01min\u001b[39;00m temp_args:\n\u001b[1;32m   1326\u001b[0m     \u001b[38;5;28;01mif\u001b[39;00m \u001b[38;5;28mhasattr\u001b[39m(temp_arg, \u001b[38;5;124m\"\u001b[39m\u001b[38;5;124m_detach\u001b[39m\u001b[38;5;124m\"\u001b[39m):\n",
      "File \u001b[0;32m~/spark-3.5.0-bin-hadoop3/python/pyspark/errors/exceptions/captured.py:179\u001b[0m, in \u001b[0;36mcapture_sql_exception.<locals>.deco\u001b[0;34m(*a, **kw)\u001b[0m\n\u001b[1;32m    177\u001b[0m \u001b[38;5;28;01mdef\u001b[39;00m \u001b[38;5;21mdeco\u001b[39m(\u001b[38;5;241m*\u001b[39ma: Any, \u001b[38;5;241m*\u001b[39m\u001b[38;5;241m*\u001b[39mkw: Any) \u001b[38;5;241m-\u001b[39m\u001b[38;5;241m>\u001b[39m Any:\n\u001b[1;32m    178\u001b[0m     \u001b[38;5;28;01mtry\u001b[39;00m:\n\u001b[0;32m--> 179\u001b[0m         \u001b[38;5;28;01mreturn\u001b[39;00m \u001b[43mf\u001b[49m\u001b[43m(\u001b[49m\u001b[38;5;241;43m*\u001b[39;49m\u001b[43ma\u001b[49m\u001b[43m,\u001b[49m\u001b[43m \u001b[49m\u001b[38;5;241;43m*\u001b[39;49m\u001b[38;5;241;43m*\u001b[39;49m\u001b[43mkw\u001b[49m\u001b[43m)\u001b[49m\n\u001b[1;32m    180\u001b[0m     \u001b[38;5;28;01mexcept\u001b[39;00m Py4JJavaError \u001b[38;5;28;01mas\u001b[39;00m e:\n\u001b[1;32m    181\u001b[0m         converted \u001b[38;5;241m=\u001b[39m convert_exception(e\u001b[38;5;241m.\u001b[39mjava_exception)\n",
      "File \u001b[0;32m~/spark-3.5.0-bin-hadoop3/python/lib/py4j-0.10.9.7-src.zip/py4j/protocol.py:326\u001b[0m, in \u001b[0;36mget_return_value\u001b[0;34m(answer, gateway_client, target_id, name)\u001b[0m\n\u001b[1;32m    324\u001b[0m value \u001b[38;5;241m=\u001b[39m OUTPUT_CONVERTER[\u001b[38;5;28mtype\u001b[39m](answer[\u001b[38;5;241m2\u001b[39m:], gateway_client)\n\u001b[1;32m    325\u001b[0m \u001b[38;5;28;01mif\u001b[39;00m answer[\u001b[38;5;241m1\u001b[39m] \u001b[38;5;241m==\u001b[39m REFERENCE_TYPE:\n\u001b[0;32m--> 326\u001b[0m     \u001b[38;5;28;01mraise\u001b[39;00m Py4JJavaError(\n\u001b[1;32m    327\u001b[0m         \u001b[38;5;124m\"\u001b[39m\u001b[38;5;124mAn error occurred while calling \u001b[39m\u001b[38;5;132;01m{0}\u001b[39;00m\u001b[38;5;132;01m{1}\u001b[39;00m\u001b[38;5;132;01m{2}\u001b[39;00m\u001b[38;5;124m.\u001b[39m\u001b[38;5;130;01m\\n\u001b[39;00m\u001b[38;5;124m\"\u001b[39m\u001b[38;5;241m.\u001b[39m\n\u001b[1;32m    328\u001b[0m         \u001b[38;5;28mformat\u001b[39m(target_id, \u001b[38;5;124m\"\u001b[39m\u001b[38;5;124m.\u001b[39m\u001b[38;5;124m\"\u001b[39m, name), value)\n\u001b[1;32m    329\u001b[0m \u001b[38;5;28;01melse\u001b[39;00m:\n\u001b[1;32m    330\u001b[0m     \u001b[38;5;28;01mraise\u001b[39;00m Py4JError(\n\u001b[1;32m    331\u001b[0m         \u001b[38;5;124m\"\u001b[39m\u001b[38;5;124mAn error occurred while calling \u001b[39m\u001b[38;5;132;01m{0}\u001b[39;00m\u001b[38;5;132;01m{1}\u001b[39;00m\u001b[38;5;132;01m{2}\u001b[39;00m\u001b[38;5;124m. Trace:\u001b[39m\u001b[38;5;130;01m\\n\u001b[39;00m\u001b[38;5;132;01m{3}\u001b[39;00m\u001b[38;5;130;01m\\n\u001b[39;00m\u001b[38;5;124m\"\u001b[39m\u001b[38;5;241m.\u001b[39m\n\u001b[1;32m    332\u001b[0m         \u001b[38;5;28mformat\u001b[39m(target_id, \u001b[38;5;124m\"\u001b[39m\u001b[38;5;124m.\u001b[39m\u001b[38;5;124m\"\u001b[39m, name, value))\n",
      "\u001b[0;31mPy4JJavaError\u001b[0m: An error occurred while calling o459.fit.\n: org.apache.spark.SparkException: Job aborted due to stage failure: Task 5 in stage 171.0 failed 1 times, most recent failure: Lost task 5.0 in stage 171.0 (TID 287) (192.168.1.157 executor driver): java.lang.NullPointerException\n\nDriver stacktrace:\n\tat org.apache.spark.scheduler.DAGScheduler.failJobAndIndependentStages(DAGScheduler.scala:2844)\n\tat org.apache.spark.scheduler.DAGScheduler.$anonfun$abortStage$2(DAGScheduler.scala:2780)\n\tat org.apache.spark.scheduler.DAGScheduler.$anonfun$abortStage$2$adapted(DAGScheduler.scala:2779)\n\tat scala.collection.mutable.ResizableArray.foreach(ResizableArray.scala:62)\n\tat scala.collection.mutable.ResizableArray.foreach$(ResizableArray.scala:55)\n\tat scala.collection.mutable.ArrayBuffer.foreach(ArrayBuffer.scala:49)\n\tat org.apache.spark.scheduler.DAGScheduler.abortStage(DAGScheduler.scala:2779)\n\tat org.apache.spark.scheduler.DAGScheduler.$anonfun$handleTaskSetFailed$1(DAGScheduler.scala:1242)\n\tat org.apache.spark.scheduler.DAGScheduler.$anonfun$handleTaskSetFailed$1$adapted(DAGScheduler.scala:1242)\n\tat scala.Option.foreach(Option.scala:407)\n\tat org.apache.spark.scheduler.DAGScheduler.handleTaskSetFailed(DAGScheduler.scala:1242)\n\tat org.apache.spark.scheduler.DAGSchedulerEventProcessLoop.doOnReceive(DAGScheduler.scala:3048)\n\tat org.apache.spark.scheduler.DAGSchedulerEventProcessLoop.onReceive(DAGScheduler.scala:2982)\n\tat org.apache.spark.scheduler.DAGSchedulerEventProcessLoop.onReceive(DAGScheduler.scala:2971)\n\tat org.apache.spark.util.EventLoop$$anon$1.run(EventLoop.scala:49)\n\tat org.apache.spark.scheduler.DAGScheduler.runJob(DAGScheduler.scala:984)\n\tat org.apache.spark.SparkContext.runJob(SparkContext.scala:2398)\n\tat org.apache.spark.SparkContext.runJob(SparkContext.scala:2419)\n\tat org.apache.spark.SparkContext.runJob(SparkContext.scala:2438)\n\tat org.apache.spark.SparkContext.runJob(SparkContext.scala:2463)\n\tat org.apache.spark.rdd.RDD.count(RDD.scala:1293)\n\tat org.apache.spark.rdd.RDD.$anonfun$takeSample$1(RDD.scala:626)\n\tat org.apache.spark.rdd.RDDOperationScope$.withScope(RDDOperationScope.scala:151)\n\tat org.apache.spark.rdd.RDDOperationScope$.withScope(RDDOperationScope.scala:112)\n\tat org.apache.spark.rdd.RDD.withScope(RDD.scala:407)\n\tat org.apache.spark.rdd.RDD.takeSample(RDD.scala:615)\n\tat org.apache.spark.mllib.clustering.KMeans.initKMeansParallel(KMeans.scala:400)\n\tat org.apache.spark.mllib.clustering.KMeans.runAlgorithmWithWeight(KMeans.scala:273)\n\tat org.apache.spark.mllib.clustering.KMeans.runWithWeight(KMeans.scala:231)\n\tat org.apache.spark.ml.clustering.KMeans.trainWithRow(KMeans.scala:446)\n\tat org.apache.spark.ml.clustering.KMeans.$anonfun$fit$1(KMeans.scala:382)\n\tat org.apache.spark.ml.util.Instrumentation$.$anonfun$instrumented$1(Instrumentation.scala:191)\n\tat scala.util.Try$.apply(Try.scala:213)\n\tat org.apache.spark.ml.util.Instrumentation$.instrumented(Instrumentation.scala:191)\n\tat org.apache.spark.ml.clustering.KMeans.fit(KMeans.scala:371)\n\tat org.apache.spark.ml.clustering.KMeans.fit(KMeans.scala:295)\n\tat sun.reflect.NativeMethodAccessorImpl.invoke0(Native Method)\n\tat sun.reflect.NativeMethodAccessorImpl.invoke(NativeMethodAccessorImpl.java:62)\n\tat sun.reflect.DelegatingMethodAccessorImpl.invoke(DelegatingMethodAccessorImpl.java:43)\n\tat java.lang.reflect.Method.invoke(Method.java:498)\n\tat py4j.reflection.MethodInvoker.invoke(MethodInvoker.java:244)\n\tat py4j.reflection.ReflectionEngine.invoke(ReflectionEngine.java:374)\n\tat py4j.Gateway.invoke(Gateway.java:282)\n\tat py4j.commands.AbstractCommand.invokeMethod(AbstractCommand.java:132)\n\tat py4j.commands.CallCommand.execute(CallCommand.java:79)\n\tat py4j.ClientServerConnection.waitForCommands(ClientServerConnection.java:182)\n\tat py4j.ClientServerConnection.run(ClientServerConnection.java:106)\n\tat java.lang.Thread.run(Thread.java:750)\nCaused by: java.lang.NullPointerException\n"
     ]
    },
    {
     "name": "stderr",
     "output_type": "stream",
     "text": [
      "24/02/19 08:46:06 WARN BlockManager: Putting block rdd_255_1 failed due to exception org.apache.spark.TaskKilledException.\n",
      "24/02/19 08:46:06 WARN BlockManager: Block rdd_255_1 could not be removed as it was not found on disk or in memory\n",
      "24/02/19 08:46:06 WARN TaskSetManager: Lost task 1.0 in stage 171.0 (TID 283) (192.168.1.157 executor driver): TaskKilled (Stage cancelled: Job aborted due to stage failure: Task 5 in stage 171.0 failed 1 times, most recent failure: Lost task 5.0 in stage 171.0 (TID 287) (192.168.1.157 executor driver): java.lang.NullPointerException\n",
      "\n",
      "Driver stacktrace:)\n",
      "24/02/19 08:46:06 WARN BlockManager: Putting block rdd_255_4 failed due to exception org.apache.spark.TaskKilledException.\n",
      "24/02/19 08:46:06 WARN BlockManager: Block rdd_255_4 could not be removed as it was not found on disk or in memory\n",
      "24/02/19 08:46:06 WARN TaskSetManager: Lost task 4.0 in stage 171.0 (TID 286) (192.168.1.157 executor driver): TaskKilled (Stage cancelled: Job aborted due to stage failure: Task 5 in stage 171.0 failed 1 times, most recent failure: Lost task 5.0 in stage 171.0 (TID 287) (192.168.1.157 executor driver): java.lang.NullPointerException\n",
      "\n",
      "Driver stacktrace:)\n"
     ]
    }
   ],
   "source": [
    "from pyspark.ml.clustering import KMeans\n",
    "from pyspark.sql import SparkSession\n",
    "\n",
    "# Initialize SparkSession\n",
    "spark = SparkSession.builder \\\n",
    "    .appName(\"RFM_Clustering\") \\\n",
    "    .getOrCreate()\n",
    "\n",
    "# Sample data - replace this with your actual DataFrame\n",
    "# normalized_rfm = spark.createDataFrame([...], [\"user_id\", \"scaled_features\"])\n",
    "\n",
    "# Initialize KMeans with the number of clusters\n",
    "kmeans = KMeans(k=5, seed=42)\n",
    "\n",
    "# Fit the KMeans model to the data\n",
    "model = kmeans.fit(normalized_rfm)\n",
    "\n",
    "# Make predictions\n",
    "# predictions = model.transform(normalized_rfm)\n",
    "\n",
    "# Show the cluster assignment for each user\n",
    "# predictions.select(\"user_id\", \"prediction\").show()\n",
    "\n",
    "# Stop SparkSession\n",
    "# spark.stop()\n"
   ]
  },
  {
   "cell_type": "code",
   "execution_count": null,
   "id": "38f3f8ef-d0ea-4cb0-ba28-41386abbf416",
   "metadata": {},
   "outputs": [],
   "source": []
  },
  {
   "cell_type": "code",
   "execution_count": null,
   "id": "43ca8726-0398-40d3-a912-96920054816f",
   "metadata": {},
   "outputs": [],
   "source": []
  },
  {
   "cell_type": "code",
   "execution_count": null,
   "id": "49987929-ec7e-4240-863e-e8bb451055a4",
   "metadata": {},
   "outputs": [],
   "source": []
  },
  {
   "cell_type": "code",
   "execution_count": null,
   "id": "84b022af-9400-4df5-b0a6-d2d4b65ec132",
   "metadata": {},
   "outputs": [],
   "source": []
  },
  {
   "cell_type": "code",
   "execution_count": null,
   "id": "008be4d5-5f3a-4e2f-9f33-c9d1a0c2e515",
   "metadata": {},
   "outputs": [],
   "source": []
  },
  {
   "cell_type": "code",
   "execution_count": null,
   "id": "8cd5178d-26a7-412c-8027-81c909bb8dae",
   "metadata": {},
   "outputs": [],
   "source": []
  },
  {
   "cell_type": "code",
   "execution_count": null,
   "id": "a98a0ab8-5f28-4985-8192-6903e365c0a4",
   "metadata": {},
   "outputs": [],
   "source": []
  },
  {
   "cell_type": "code",
   "execution_count": 6,
   "id": "8a31718f-5589-431a-81bb-cd7970c8dab4",
   "metadata": {},
   "outputs": [
    {
     "name": "stderr",
     "output_type": "stream",
     "text": [
      "/tmp/ipykernel_42775/2455338906.py:2: DeprecationWarning: \n",
      "Pyarrow will become a required dependency of pandas in the next major release of pandas (pandas 3.0),\n",
      "(to allow more performant data types, such as the Arrow string type, and better interoperability with other libraries)\n",
      "but was not found to be installed on your system.\n",
      "If this would cause problems for you,\n",
      "please provide us feedback at https://github.com/pandas-dev/pandas/issues/54466\n",
      "        \n",
      "  import pandas as pd\n",
      "                                                                                \r"
     ]
    },
    {
     "data": {
      "image/png": "[encoded data removed]",
      "text/plain": [
       "<Figure size 1000x600 with 1 Axes>"
      ]
     },
     "metadata": {},
     "output_type": "display_data"
    }
   ],
   "source": [
    "import matplotlib.pyplot as plt\n",
    "import pandas as pd\n",
    "\n",
    "# Convert the PySpark DataFrame to a Pandas DataFrame\n",
    "rfm_scores_pd = rfm_scores.toPandas()\n",
    "\n",
    "# Count the number of users in each segment\n",
    "segment_counts = rfm_scores_pd[\"segment\"].value_counts()\n",
    "\n",
    "# Plot the graph\n",
    "plt.figure(figsize=(10, 6))\n",
    "segment_counts.plot(kind=\"bar\", color=\"skyblue\")\n",
    "plt.title(\"Number of Users in Each Value Category\")\n",
    "plt.xlabel(\"Value Category\")\n",
    "plt.ylabel(\"Number of Users\")\n",
    "plt.xticks(rotation=45)\n",
    "plt.tight_layout()\n",
    "plt.show()\n"
   ]
  },
  {
   "cell_type": "code",
   "execution_count": null,
   "id": "ece4d05f-0bac-4e7e-90e9-2e5fc4e0e16e",
   "metadata": {},
   "outputs": [],
   "source": []
  },
  {
   "cell_type": "code",
   "execution_count": null,
   "id": "6425c2c6-bbaf-4602-a135-ddde3dfa1d99",
   "metadata": {},
   "outputs": [],
   "source": []
  },
  {
   "cell_type": "code",
   "execution_count": null,
   "id": "f2af3f54-ef07-431c-9670-5c68c9c308e2",
   "metadata": {},
   "outputs": [],
   "source": []
  },
  {
   "cell_type": "code",
   "execution_count": null,
   "id": "20bee5ee-48b0-408b-9650-487968a33be0",
   "metadata": {},
   "outputs": [],
   "source": []
  },
  {
   "cell_type": "code",
   "execution_count": null,
   "id": "a0925cad-7761-4092-8cab-7cad7a1afb94",
   "metadata": {},
   "outputs": [],
   "source": []
  },
  {
   "cell_type": "code",
   "execution_count": null,
   "id": "396ee490-670a-47bd-80a5-cc30a755e64f",
   "metadata": {},
   "outputs": [],
   "source": []
  },
  {
   "cell_type": "code",
   "execution_count": null,
   "id": "c95e8d3d-f147-4502-b678-f6f35ac0812b",
   "metadata": {},
   "outputs": [],
   "source": []
  },
  {
   "cell_type": "code",
   "execution_count": null,
   "id": "dc6f1458-d878-4b93-b391-c228a94fe3ab",
   "metadata": {},
   "outputs": [],
   "source": []
  },
  {
   "cell_type": "code",
   "execution_count": null,
   "id": "ad2594ba-174f-4672-ab28-e45e06a8567b",
   "metadata": {},
   "outputs": [],
   "source": []
  },
  {
   "cell_type": "code",
   "execution_count": 10,
   "id": "06764111-22a6-4286-b139-4574ea9558c9",
   "metadata": {},
   "outputs": [
    {
     "name": "stdout",
     "output_type": "stream",
     "text": [
      "+-------------------+---------+\n",
      "|         event_time|month_key|\n",
      "+-------------------+---------+\n",
      "|2020-04-29 20:11:49|        4|\n",
      "|2020-04-29 23:42:11|        4|\n",
      "|2020-04-30 18:01:51|        4|\n",
      "|2020-04-30 19:27:36|        4|\n",
      "|2020-04-30 21:37:48|        4|\n",
      "|2020-05-01 12:54:33|        5|\n",
      "|2020-05-01 22:40:42|        5|\n",
      "|2020-05-02 23:25:58|        5|\n",
      "|2020-05-04 07:07:11|        5|\n",
      "|2020-05-06 08:37:23|        5|\n",
      "|2020-05-06 11:40:59|        5|\n",
      "|2020-05-06 18:58:35|        5|\n",
      "|2020-05-07 17:06:03|        5|\n",
      "|2020-05-07 17:42:39|        5|\n",
      "|2020-05-08 00:34:21|        5|\n",
      "|2020-05-09 06:14:01|        5|\n",
      "|2020-05-10 14:59:23|        5|\n",
      "|2020-05-10 19:13:40|        5|\n",
      "|2020-05-11 08:18:33|        5|\n",
      "|2020-05-11 10:41:08|        5|\n",
      "+-------------------+---------+\n",
      "only showing top 20 rows\n",
      "\n"
     ]
    }
   ],
   "source": [
    "from pyspark.sql import SparkSession\n",
    "from pyspark.sql.functions import col, month\n",
    "\n",
    "\n",
    "# Extract month component from event_time column\n",
    "df_mon = df.withColumn(\"month_key\", month(col(\"event_time\")))\n",
    "\n",
    "# Show the DataFrame with new column month_key\n",
    "df_mon.select(\"event_time\", \"month_key\").show()\n",
    "\n"
   ]
  },
  {
   "cell_type": "code",
   "execution_count": 11,
   "id": "79778ed9-843c-49eb-bc38-54be95e9501a",
   "metadata": {},
   "outputs": [
    {
     "name": "stdout",
     "output_type": "stream",
     "text": [
      "+-------------------+-------------------+-------------------+-------------------+-------+------+-------------------+-----------+-----------+---------------+---------+\n",
      "|         event_time|           order_id|         product_id|        category_id|  brand| price|            user_id|      cat_1|      cat_2|          cat_3|month_key|\n",
      "+-------------------+-------------------+-------------------+-------------------+-------+------+-------------------+-----------+-----------+---------------+---------+\n",
      "|2020-04-29 20:11:49|2298069964415828136|1515966223509122874|2268105407933187062|     hp|152.52|1515915625443027224|  computers|peripherals|        printer|        4|\n",
      "|2020-04-29 23:42:11|2298175846491357353|1515966223509122666|2268105430162997728|samsung|  8.08|1515915625445938216|electronics|      audio|      headphone|        4|\n",
      "|2020-04-30 18:01:51|2298729326712980173|1515966223509089265|2360741866917331945|   beko|231.46|1515915625446617606| appliances|environment|air_conditioner|        4|\n",
      "|2020-04-30 19:27:36|2298772487720140990|1515966223509335414|2268105430162997728|  razer|104.14|1515915625452727322|electronics|      audio|      headphone|        4|\n",
      "|2020-04-30 21:37:48|2298838016631767159|1515966223509255514|2268105430162997728|philips| 32.38|1515915625452815830|electronics|      audio|      headphone|        4|\n",
      "|2020-05-01 12:54:33|2299299428894245316|1515966223509089826|2268105406549066706|  delux|   6.0|1515915625452840817|  computers|peripherals|          mouse|        5|\n",
      "|2020-05-01 22:40:42|2299594452823442104|1515966223509122666|2268105430162997728|samsung|  8.08|1515915625441990819|electronics|      audio|      headphone|        5|\n",
      "|2020-05-02 23:25:58|2300342008322982139|2273948248047616169|2268105406549066706|  delux|  5.07|1515915625444068089|  computers|peripherals|          mouse|        5|\n",
      "|2020-05-04 07:07:11|2301298926818427157|1515966223509351741|2268105419375247608|  varta|  0.69|1515915625452091416| stationery|    battery|          other|        5|\n",
      "|2020-05-06 08:37:23|2302793875086902264|1515966223509090254|2268105421933773102|  trust| 19.65|1515915625455538086|electronics|      audio|     microphone|        5|\n",
      "|2020-05-06 11:40:59|2302886286089781416|1515966223509089722|2268105441856717530|    ava|  9.24|1515915625455413662| appliances|    kitchen|         kettle|        5|\n",
      "|2020-05-06 18:58:35|2303106530796372754|2273948216456118473|2268105440917193414|polaris| 30.07|1515915625454919094| appliances|    kitchen|          mixer|        5|\n",
      "|2020-05-07 17:06:03|2303774668819006287|1515966223509104779|2268105428166508982| huawei|277.75|1515915625455260153|electronics| smartphone|          other|        5|\n",
      "|2020-05-07 17:42:39|2303793094941737810|1515966223509104342|2268105430162997728| xiaomi| 25.44|1515915625455337062|electronics|      audio|      headphone|        5|\n",
      "|2020-05-08 00:34:21|2304000304833627082|1515966223509117177|2268105464766005446|ninebot|608.77|1515915625454603469|       kids|     skates|          other|        5|\n",
      "|2020-05-09 06:14:01|2304896044028134084|1515966223509089293|2360741867017995243|   beko|266.18|1515915625457040117| appliances|environment|air_conditioner|        5|\n",
      "|2020-05-10 14:59:23|2305885242767966747|2273948308370096764|2268105409048870926|  altel| 57.85|1515915625497428278|  computers|    network|         router|        5|\n",
      "|2020-05-10 19:13:40|2306013232357180361|1515966223509088510|2268105428166508982| huawei|127.29|1515915625457683949|electronics| smartphone|          other|        5|\n",
      "|2020-05-11 08:18:33|2306408274540364573|1515966223509259282|2268105389956399770|indesit|198.13|1515915625457596219| appliances|    kitchen|         washer|        5|\n",
      "|2020-05-11 10:41:08|2306480038981140584|1515966223509088613|2268105430162997728|  apple|203.68|1515915625457954091|electronics|      audio|      headphone|        5|\n",
      "+-------------------+-------------------+-------------------+-------------------+-------+------+-------------------+-----------+-----------+---------------+---------+\n",
      "only showing top 20 rows\n",
      "\n"
     ]
    }
   ],
   "source": [
    "df_mon.show()"
   ]
  },
  {
   "cell_type": "markdown",
   "id": "c2e4e3b0-f8b3-423e-9ee5-b86e7e59ebe0",
   "metadata": {},
   "source": [
    "# Calculate Purchase(sum of price) by users per year-month"
   ]
  },
  {
   "cell_type": "code",
   "execution_count": 19,
   "id": "4e3f0776-fae2-4e24-b91d-8a0e4bf4ac98",
   "metadata": {},
   "outputs": [
    {
     "name": "stderr",
     "output_type": "stream",
     "text": [
      "[Stage 28:=======>                                                  (1 + 7) / 8]\r"
     ]
    },
    {
     "name": "stdout",
     "output_type": "stream",
     "text": [
      "+---------+------------------------+\n",
      "|month_key|Monthly purchase by user|\n",
      "+---------+------------------------+\n",
      "|        1|       1726269.314012686|\n",
      "|        2|        2212593.63003171|\n",
      "|        3|      2836594.8920063437|\n",
      "|        4|      1659148.3920063446|\n",
      "|        5|       7638151.942006315|\n",
      "|        6|       7479405.318025369|\n",
      "|        7|    1.6006443429999901E7|\n",
      "|        8|     2.730199569200609E7|\n",
      "|        9|    1.6757457076018898E7|\n",
      "|       10|     1.936188824805694E7|\n",
      "|       11|    1.1767545436018975E7|\n",
      "+---------+------------------------+\n",
      "\n"
     ]
    },
    {
     "name": "stderr",
     "output_type": "stream",
     "text": [
      "                                                                                \r"
     ]
    }
   ],
   "source": [
    "from pyspark.sql.functions import col, sum, to_date\n",
    "\n",
    "user_purchase_month = df_mon.withColumn(\"purchase_month\", to_date(col(\"event_time\")).substr(1, 7)).groupBy(\"month_key\").agg(sum(\"price\").alias(\"Monthly purchase by user\")).orderBy(\"month_key\")\n",
    "\n",
    "user_purchase_month.show()\n",
    "\n",
    "\n"
   ]
  },
  {
   "cell_type": "code",
   "execution_count": 14,
   "id": "ed7b30aa-348f-436b-901a-74e92e04edcd",
   "metadata": {},
   "outputs": [
    {
     "name": "stdout",
     "output_type": "stream",
     "text": [
      "Defaulting to user installation because normal site-packages is not writeable\n",
      "Collecting matplotlib\n",
      "  Downloading matplotlib-3.8.3-cp310-cp310-manylinux_2_17_x86_64.manylinux2014_x86_64.whl (11.6 MB)\n",
      "\u001b[2K     \u001b[38;2;114;156;31m━━━━━━━━━━━━━━━━━━━━━━━━━━━━━━━━━━━━━━━━\u001b[0m \u001b[32m11.6/11.6 MB\u001b[0m \u001b[31m2.0 MB/s\u001b[0m eta \u001b[36m0:00:00\u001b[0mm eta \u001b[36m0:00:01\u001b[0m[36m0:00:01\u001b[0m\n",
      "\u001b[?25hCollecting contourpy>=1.0.1\n",
      "  Downloading contourpy-1.2.0-cp310-cp310-manylinux_2_17_x86_64.manylinux2014_x86_64.whl (310 kB)\n",
      "\u001b[2K     \u001b[38;2;114;156;31m━━━━━━━━━━━━━━━━━━━━━━━━━━━━━━━━━━━━━━━\u001b[0m \u001b[32m310.7/310.7 KB\u001b[0m \u001b[31m2.4 MB/s\u001b[0m eta \u001b[36m0:00:00\u001b[0mm eta \u001b[36m0:00:01\u001b[0m0:01\u001b[0m:01\u001b[0m\n",
      "\u001b[?25hCollecting numpy<2,>=1.21\n",
      "  Downloading numpy-1.26.4-cp310-cp310-manylinux_2_17_x86_64.manylinux2014_x86_64.whl (18.2 MB)\n",
      "\u001b[2K     \u001b[38;2;114;156;31m━━━━━━━━━━━━━━━━━━━━━━━━━━━━━━━━━━━━━━━━\u001b[0m \u001b[32m18.2/18.2 MB\u001b[0m \u001b[31m2.6 MB/s\u001b[0m eta \u001b[36m0:00:00\u001b[0mm eta \u001b[36m0:00:01\u001b[0m[36m0:00:01\u001b[0m\n",
      "\u001b[?25hRequirement already satisfied: pillow>=8 in /usr/lib/python3/dist-packages (from matplotlib) (9.0.1)\n",
      "Collecting fonttools>=4.22.0\n",
      "  Downloading fonttools-4.49.0-cp310-cp310-manylinux_2_17_x86_64.manylinux2014_x86_64.whl (4.6 MB)\n",
      "\u001b[2K     \u001b[38;2;114;156;31m━━━━━━━━━━━━━━━━━━━━━━━━━━━━━━━━━━━━━━━━\u001b[0m \u001b[32m4.6/4.6 MB\u001b[0m \u001b[31m1.2 MB/s\u001b[0m eta \u001b[36m0:00:00\u001b[0mm eta \u001b[36m0:00:01\u001b[0m[36m0:00:01\u001b[0m0m\n",
      "\u001b[?25hRequirement already satisfied: pyparsing>=2.3.1 in /usr/lib/python3/dist-packages (from matplotlib) (2.4.7)\n",
      "Requirement already satisfied: packaging>=20.0 in /home/hadoop/.local/lib/python3.10/site-packages (from matplotlib) (23.2)\n",
      "Requirement already satisfied: python-dateutil>=2.7 in /home/hadoop/.local/lib/python3.10/site-packages (from matplotlib) (2.8.2)\n",
      "Collecting kiwisolver>=1.3.1\n",
      "  Downloading kiwisolver-1.4.5-cp310-cp310-manylinux_2_12_x86_64.manylinux2010_x86_64.whl (1.6 MB)\n",
      "\u001b[2K     \u001b[38;2;114;156;31m━━━━━━━━━━━━━━━━━━━━━━━━━━━━━━━━━━━━━━━━\u001b[0m \u001b[32m1.6/1.6 MB\u001b[0m \u001b[31m1.1 MB/s\u001b[0m eta \u001b[36m0:00:00\u001b[0mm eta \u001b[36m0:00:01\u001b[0m0:01\u001b[0m:01\u001b[0m\n",
      "\u001b[?25hCollecting cycler>=0.10\n",
      "  Downloading cycler-0.12.1-py3-none-any.whl (8.3 kB)\n",
      "Requirement already satisfied: six>=1.5 in /usr/lib/python3/dist-packages (from python-dateutil>=2.7->matplotlib) (1.16.0)\n",
      "Installing collected packages: numpy, kiwisolver, fonttools, cycler, contourpy, matplotlib\n",
      "Successfully installed contourpy-1.2.0 cycler-0.12.1 fonttools-4.49.0 kiwisolver-1.4.5 matplotlib-3.8.3 numpy-1.26.4\n",
      "Note: you may need to restart the kernel to use updated packages.\n"
     ]
    }
   ],
   "source": [
    "pip install matplotlib"
   ]
  },
  {
   "cell_type": "code",
   "execution_count": 16,
   "id": "47f4eebc-e98b-49cc-a6e8-30e548934d68",
   "metadata": {},
   "outputs": [
    {
     "name": "stdout",
     "output_type": "stream",
     "text": [
      "Defaulting to user installation because normal site-packages is not writeable\n",
      "Collecting pandas\n",
      "  Downloading pandas-2.2.0-cp310-cp310-manylinux_2_17_x86_64.manylinux2014_x86_64.whl (13.0 MB)\n",
      "\u001b[2K     \u001b[38;2;114;156;31m━━━━━━━━━━━━━━━━━━━━━━━━━━━━━━━━━━━━━━━━\u001b[0m \u001b[32m13.0/13.0 MB\u001b[0m \u001b[31m2.2 MB/s\u001b[0m eta \u001b[36m0:00:00\u001b[0mm eta \u001b[36m0:00:01\u001b[0m[36m0:00:01\u001b[0mm\n",
      "\u001b[?25hRequirement already satisfied: pytz>=2020.1 in /usr/lib/python3/dist-packages (from pandas) (2022.1)\n",
      "Requirement already satisfied: python-dateutil>=2.8.2 in /home/hadoop/.local/lib/python3.10/site-packages (from pandas) (2.8.2)\n",
      "Collecting tzdata>=2022.7\n",
      "  Downloading tzdata-2024.1-py2.py3-none-any.whl (345 kB)\n",
      "\u001b[2K     \u001b[38;2;114;156;31m━━━━━━━━━━━━━━━━━━━━━━━━━━━━━━━━━━━━━━━\u001b[0m \u001b[32m345.4/345.4 KB\u001b[0m \u001b[31m1.9 MB/s\u001b[0m eta \u001b[36m0:00:00\u001b[0m[36m0:00:01\u001b[0mm eta \u001b[36m0:00:01\u001b[0m\n",
      "\u001b[?25hRequirement already satisfied: numpy<2,>=1.22.4 in /home/hadoop/.local/lib/python3.10/site-packages (from pandas) (1.26.4)\n",
      "Requirement already satisfied: six>=1.5 in /usr/lib/python3/dist-packages (from python-dateutil>=2.8.2->pandas) (1.16.0)\n",
      "Installing collected packages: tzdata, pandas\n",
      "Successfully installed pandas-2.2.0 tzdata-2024.1\n",
      "Note: you may need to restart the kernel to use updated packages.\n"
     ]
    }
   ],
   "source": [
    "pip install pandas"
   ]
  },
  {
   "cell_type": "code",
   "execution_count": 18,
   "id": "a7a1a26c-4d8c-45ad-bb5c-97cdc96a2c63",
   "metadata": {},
   "outputs": [
    {
     "name": "stderr",
     "output_type": "stream",
     "text": [
      "                                                                                \r"
     ]
    },
    {
     "data": {
      "image/png": "[encoded data removed]",
      "text/plain": [
       "<Figure size 1000x600 with 1 Axes>"
      ]
     },
     "metadata": {},
     "output_type": "display_data"
    },
    {
     "data": {
      "text/plain": [
       "None"
      ]
     },
     "metadata": {},
     "output_type": "display_data"
    }
   ],
   "source": [
    "from pyspark.sql.functions import col, sum, to_date\n",
    "import matplotlib.pyplot as plt\n",
    "\n",
    "# Calculate GMV (sum of price) per year-month\n",
    "user_purchase_month_GMV = df_mon.withColumn(\"purchase_month\", to_date(col(\"event_time\")).substr(1, 7)) \\\n",
    "    .groupBy(\"purchase_month\") \\\n",
    "    .agg(sum(\"price\").alias(\"Purchase by user\")) \\\n",
    "    .orderBy(\"purchase_month\")\n",
    "\n",
    "# Convert PySpark DataFrame to Pandas DataFrame for plotting\n",
    "user_purchase_month_GMV_pd = user_purchase_month_GMV.toPandas()\n",
    "\n",
    "plt.figure(figsize=(10, 6))\n",
    "plt.plot(user_purchase_month_GMV_pd[\"purchase_month\"], user_purchase_month_GMV_pd[\"GMV\"], marker='o', linestyle='-')\n",
    "plt.title(\"Month-wise Transaction\")\n",
    "plt.xlabel(\"Month\")\n",
    "plt.ylabel(\"Purchases by user\")\n",
    "plt.xticks(rotation=45)\n",
    "plt.grid(True)\n",
    "plt.tight_layout()\n",
    "\n",
    "display(plt.show())\n"
   ]
  },
  {
   "cell_type": "code",
   "execution_count": null,
   "id": "36236f4c-f9f4-4bb7-a447-41868121c90b",
   "metadata": {},
   "outputs": [],
   "source": []
  },
  {
   "cell_type": "code",
   "execution_count": null,
   "id": "1115f817-0adb-4e91-b8e9-e64705a65dce",
   "metadata": {},
   "outputs": [],
   "source": []
  },
  {
   "cell_type": "code",
   "execution_count": null,
   "id": "5e183005-5f9e-45f7-9351-54355ae27047",
   "metadata": {},
   "outputs": [],
   "source": []
  },
  {
   "cell_type": "code",
   "execution_count": null,
   "id": "92c6aefe-274f-460f-8a61-ed8449c6b97c",
   "metadata": {},
   "outputs": [],
   "source": []
  },
  {
   "cell_type": "code",
   "execution_count": null,
   "id": "91b12af2-4e0a-45f6-8580-667d8d124fa0",
   "metadata": {},
   "outputs": [],
   "source": []
  },
  {
   "cell_type": "code",
   "execution_count": null,
   "id": "fba4c202-a9bb-4253-8b55-8502d8cbc9d5",
   "metadata": {},
   "outputs": [],
   "source": []
  },
  {
   "cell_type": "code",
   "execution_count": null,
   "id": "05fda83f-2c65-4390-8c31-bfccc4934645",
   "metadata": {},
   "outputs": [],
   "source": []
  },
  {
   "cell_type": "code",
   "execution_count": null,
   "id": "b4bd2663-d572-4636-9dcd-fd08917bbc74",
   "metadata": {},
   "outputs": [],
   "source": []
  },
  {
   "cell_type": "code",
   "execution_count": null,
   "id": "b7c49c4c-5fd2-417a-8f24-5722c765d0f3",
   "metadata": {},
   "outputs": [],
   "source": []
  },
  {
   "cell_type": "code",
   "execution_count": null,
   "id": "16aa24d3-fedb-4e04-8d0a-2345e47b9c21",
   "metadata": {},
   "outputs": [],
   "source": []
  },
  {
   "cell_type": "code",
   "execution_count": null,
   "id": "5e89927b-9440-40d5-81bb-55c7dcc6bbcb",
   "metadata": {},
   "outputs": [],
   "source": []
  },
  {
   "cell_type": "code",
   "execution_count": null,
   "id": "dc824eb7-289a-45ed-8b1a-273fd6b8617d",
   "metadata": {},
   "outputs": [],
   "source": []
  },
  {
   "cell_type": "code",
   "execution_count": null,
   "id": "6795fd35-bbc9-44e1-8cff-6ee509858e4b",
   "metadata": {},
   "outputs": [],
   "source": []
  },
  {
   "cell_type": "code",
   "execution_count": null,
   "id": "70a0c7f0-87e6-426a-a94b-0b2a1a1f6301",
   "metadata": {},
   "outputs": [],
   "source": []
  }
 ],
 "metadata": {
  "kernelspec": {
   "display_name": "Python 3 (ipykernel)",
   "language": "python",
   "name": "python3"
  },
  "language_info": {
   "codemirror_mode": {
    "name": "ipython",
    "version": 3
   },
   "file_extension": ".py",
   "mimetype": "text/x-python",
   "name": "python",
   "nbconvert_exporter": "python",
   "pygments_lexer": "ipython3",
   "version": "3.10.12"
  }
 },
 "nbformat": 4,
 "nbformat_minor": 5
}
